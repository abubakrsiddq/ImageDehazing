{
  "nbformat": 4,
  "nbformat_minor": 0,
  "metadata": {
    "kernelspec": {
      "display_name": "Python 3",
      "language": "python",
      "name": "python3"
    },
    "language_info": {
      "codemirror_mode": {
        "name": "ipython",
        "version": 3
      },
      "file_extension": ".py",
      "mimetype": "text/x-python",
      "name": "python",
      "nbconvert_exporter": "python",
      "pygments_lexer": "ipython3",
      "version": "3.7.7"
    },
    "colab": {
      "name": "a_net.ipynb",
      "provenance": [],
      "collapsed_sections": [],
      "include_colab_link": true
    },
    "accelerator": "GPU"
  },
  "cells": [
    {
      "cell_type": "markdown",
      "metadata": {
        "id": "view-in-github",
        "colab_type": "text"
      },
      "source": [
        "<a href=\"https://colab.research.google.com/github/abubakrsiddq/ImageDehazing/blob/main/models/novel/a_net.ipynb\" target=\"_parent\"><img src=\"https://colab.research.google.com/assets/colab-badge.svg\" alt=\"Open In Colab\"/></a>"
      ]
    },
    {
      "cell_type": "code",
      "metadata": {
        "id": "AecSQ5GZxIdC",
        "colab": {
          "base_uri": "https://localhost:8080/"
        },
        "outputId": "53390e55-53ed-40f7-8ef3-a18c5b939960"
      },
      "source": [
        "!pip install tensorflow_addons\n",
        "import os\n",
        "import numpy as np\n",
        "import matplotlib.pyplot as plt\n",
        "%matplotlib inline\n",
        "import glob\n",
        "import random\n",
        "from PIL import Image\n",
        "import time\n",
        "import tensorflow_addons as tfa\n",
        "import tensorflow as tf\n",
        "from tensorflow.keras.layers import *\n",
        "from tensorflow.keras.preprocessing import image\n",
        "from tensorflow.keras.models import Model\n",
        "from tensorflow.keras.losses import mean_squared_error\n",
        "from tensorflow.keras.optimizers import Adam\n",
        "import keras"
      ],
      "execution_count": 1,
      "outputs": [
        {
          "output_type": "stream",
          "text": [
            "Collecting tensorflow_addons\n",
            "\u001b[?25l  Downloading https://files.pythonhosted.org/packages/74/e3/56d2fe76f0bb7c88ed9b2a6a557e25e83e252aec08f13de34369cd850a0b/tensorflow_addons-0.12.1-cp37-cp37m-manylinux2010_x86_64.whl (703kB)\n",
            "\r\u001b[K     |▌                               | 10kB 22.7MB/s eta 0:00:01\r\u001b[K     |█                               | 20kB 30.5MB/s eta 0:00:01\r\u001b[K     |█▍                              | 30kB 23.7MB/s eta 0:00:01\r\u001b[K     |█▉                              | 40kB 18.9MB/s eta 0:00:01\r\u001b[K     |██▎                             | 51kB 16.2MB/s eta 0:00:01\r\u001b[K     |██▉                             | 61kB 15.1MB/s eta 0:00:01\r\u001b[K     |███▎                            | 71kB 14.3MB/s eta 0:00:01\r\u001b[K     |███▊                            | 81kB 15.5MB/s eta 0:00:01\r\u001b[K     |████▏                           | 92kB 16.0MB/s eta 0:00:01\r\u001b[K     |████▋                           | 102kB 16.1MB/s eta 0:00:01\r\u001b[K     |█████▏                          | 112kB 16.1MB/s eta 0:00:01\r\u001b[K     |█████▋                          | 122kB 16.1MB/s eta 0:00:01\r\u001b[K     |██████                          | 133kB 16.1MB/s eta 0:00:01\r\u001b[K     |██████▌                         | 143kB 16.1MB/s eta 0:00:01\r\u001b[K     |███████                         | 153kB 16.1MB/s eta 0:00:01\r\u001b[K     |███████▌                        | 163kB 16.1MB/s eta 0:00:01\r\u001b[K     |████████                        | 174kB 16.1MB/s eta 0:00:01\r\u001b[K     |████████▍                       | 184kB 16.1MB/s eta 0:00:01\r\u001b[K     |████████▉                       | 194kB 16.1MB/s eta 0:00:01\r\u001b[K     |█████████▎                      | 204kB 16.1MB/s eta 0:00:01\r\u001b[K     |█████████▉                      | 215kB 16.1MB/s eta 0:00:01\r\u001b[K     |██████████▎                     | 225kB 16.1MB/s eta 0:00:01\r\u001b[K     |██████████▊                     | 235kB 16.1MB/s eta 0:00:01\r\u001b[K     |███████████▏                    | 245kB 16.1MB/s eta 0:00:01\r\u001b[K     |███████████▋                    | 256kB 16.1MB/s eta 0:00:01\r\u001b[K     |████████████▏                   | 266kB 16.1MB/s eta 0:00:01\r\u001b[K     |████████████▋                   | 276kB 16.1MB/s eta 0:00:01\r\u001b[K     |█████████████                   | 286kB 16.1MB/s eta 0:00:01\r\u001b[K     |█████████████▌                  | 296kB 16.1MB/s eta 0:00:01\r\u001b[K     |██████████████                  | 307kB 16.1MB/s eta 0:00:01\r\u001b[K     |██████████████▍                 | 317kB 16.1MB/s eta 0:00:01\r\u001b[K     |███████████████                 | 327kB 16.1MB/s eta 0:00:01\r\u001b[K     |███████████████▍                | 337kB 16.1MB/s eta 0:00:01\r\u001b[K     |███████████████▉                | 348kB 16.1MB/s eta 0:00:01\r\u001b[K     |████████████████▎               | 358kB 16.1MB/s eta 0:00:01\r\u001b[K     |████████████████▊               | 368kB 16.1MB/s eta 0:00:01\r\u001b[K     |█████████████████▎              | 378kB 16.1MB/s eta 0:00:01\r\u001b[K     |█████████████████▊              | 389kB 16.1MB/s eta 0:00:01\r\u001b[K     |██████████████████▏             | 399kB 16.1MB/s eta 0:00:01\r\u001b[K     |██████████████████▋             | 409kB 16.1MB/s eta 0:00:01\r\u001b[K     |███████████████████             | 419kB 16.1MB/s eta 0:00:01\r\u001b[K     |███████████████████▋            | 430kB 16.1MB/s eta 0:00:01\r\u001b[K     |████████████████████            | 440kB 16.1MB/s eta 0:00:01\r\u001b[K     |████████████████████▌           | 450kB 16.1MB/s eta 0:00:01\r\u001b[K     |█████████████████████           | 460kB 16.1MB/s eta 0:00:01\r\u001b[K     |█████████████████████▍          | 471kB 16.1MB/s eta 0:00:01\r\u001b[K     |██████████████████████          | 481kB 16.1MB/s eta 0:00:01\r\u001b[K     |██████████████████████▍         | 491kB 16.1MB/s eta 0:00:01\r\u001b[K     |██████████████████████▉         | 501kB 16.1MB/s eta 0:00:01\r\u001b[K     |███████████████████████▎        | 512kB 16.1MB/s eta 0:00:01\r\u001b[K     |███████████████████████▊        | 522kB 16.1MB/s eta 0:00:01\r\u001b[K     |████████████████████████▎       | 532kB 16.1MB/s eta 0:00:01\r\u001b[K     |████████████████████████▊       | 542kB 16.1MB/s eta 0:00:01\r\u001b[K     |█████████████████████████▏      | 552kB 16.1MB/s eta 0:00:01\r\u001b[K     |█████████████████████████▋      | 563kB 16.1MB/s eta 0:00:01\r\u001b[K     |██████████████████████████      | 573kB 16.1MB/s eta 0:00:01\r\u001b[K     |██████████████████████████▋     | 583kB 16.1MB/s eta 0:00:01\r\u001b[K     |███████████████████████████     | 593kB 16.1MB/s eta 0:00:01\r\u001b[K     |███████████████████████████▌    | 604kB 16.1MB/s eta 0:00:01\r\u001b[K     |████████████████████████████    | 614kB 16.1MB/s eta 0:00:01\r\u001b[K     |████████████████████████████▍   | 624kB 16.1MB/s eta 0:00:01\r\u001b[K     |████████████████████████████▉   | 634kB 16.1MB/s eta 0:00:01\r\u001b[K     |█████████████████████████████▍  | 645kB 16.1MB/s eta 0:00:01\r\u001b[K     |█████████████████████████████▉  | 655kB 16.1MB/s eta 0:00:01\r\u001b[K     |██████████████████████████████▎ | 665kB 16.1MB/s eta 0:00:01\r\u001b[K     |██████████████████████████████▊ | 675kB 16.1MB/s eta 0:00:01\r\u001b[K     |███████████████████████████████▏| 686kB 16.1MB/s eta 0:00:01\r\u001b[K     |███████████████████████████████▊| 696kB 16.1MB/s eta 0:00:01\r\u001b[K     |████████████████████████████████| 706kB 16.1MB/s \n",
            "\u001b[?25hRequirement already satisfied: typeguard>=2.7 in /usr/local/lib/python3.7/dist-packages (from tensorflow_addons) (2.7.1)\n",
            "Installing collected packages: tensorflow-addons\n",
            "Successfully installed tensorflow-addons-0.12.1\n"
          ],
          "name": "stdout"
        }
      ]
    },
    {
      "cell_type": "code",
      "metadata": {
        "id": "-WpiLcrSx79i"
      },
      "source": [
        ""
      ],
      "execution_count": 1,
      "outputs": []
    },
    {
      "cell_type": "code",
      "metadata": {
        "colab": {
          "base_uri": "https://localhost:8080/"
        },
        "id": "U3y4vGrBx8ku",
        "outputId": "6f9cf744-38ac-4c35-bab6-95f22b6c6dca"
      },
      "source": [
        "from google.colab import drive\n",
        "drive.mount('/content/drive')"
      ],
      "execution_count": 2,
      "outputs": [
        {
          "output_type": "stream",
          "text": [
            "Mounted at /content/drive\n"
          ],
          "name": "stdout"
        }
      ]
    },
    {
      "cell_type": "code",
      "metadata": {
        "id": "T2PuOPGExIdJ"
      },
      "source": [
        "def load_image(img_path):\n",
        "    img = tf.io.read_file(img_path)\n",
        "    #img = tf.io.decode_jpeg(img, channels = 3)\n",
        "    img = tf.io.decode_png(img, channels = 3)\n",
        "    img = tf.image.resize(img, size = (550, 413), antialias = True)\n",
        "    img = img / 255.0\n",
        "    return img"
      ],
      "execution_count": 3,
      "outputs": []
    },
    {
      "cell_type": "code",
      "metadata": {
        "id": "-RuNVRCGx6dl"
      },
      "source": [
        "def load_airlight(img_path):\n",
        "  air=img_path.split(\"_\")[-1][:-4];\n",
        "  return air"
      ],
      "execution_count": 4,
      "outputs": []
    },
    {
      "cell_type": "code",
      "metadata": {
        "id": "eN6UTOYRyIzH"
      },
      "source": [
        "import cv2\n",
        "a='drive/MyDrive/kitti/hazy/0000000000_12_0.70802.png'\n",
        "b=cv2.imread(a)\n"
      ],
      "execution_count": 5,
      "outputs": []
    },
    {
      "cell_type": "code",
      "metadata": {
        "id": "bdRyMlckxIdJ",
        "colab": {
          "base_uri": "https://localhost:8080/"
        },
        "outputId": "38a76e0a-dfdc-401d-f40f-255f8cadcaca"
      },
      "source": [
        "b.shape"
      ],
      "execution_count": 6,
      "outputs": [
        {
          "output_type": "execute_result",
          "data": {
            "text/plain": [
              "(352, 1216, 3)"
            ]
          },
          "metadata": {
            "tags": []
          },
          "execution_count": 6
        }
      ]
    },
    {
      "cell_type": "code",
      "metadata": {
        "id": "bGfmBq4axIdM"
      },
      "source": [
        "def display_img(model, hazy_img, orig_img):\n",
        "    pred = model(hazy_img, training = True)\n",
        "    plt.figure(figsize = (15,15))\n",
        "    \n",
        "    display_list = [hazy_img[0], orig_img[0], pred[0]]\n",
        "    title = ['Hazy Image', 'Ground Truth', 'Dehazed Image']\n",
        "    \n",
        "    for i in range(3):\n",
        "        plt.subplot(1, 3, i+1)\n",
        "        plt.title(title[i])\n",
        "        plt.imshow(display_list[i])\n",
        "        plt.axis('off')\n",
        "        \n",
        "    plt.show()"
      ],
      "execution_count": 7,
      "outputs": []
    },
    {
      "cell_type": "code",
      "metadata": {
        "id": "RPbCrUCV8IDz"
      },
      "source": [
        "def data_path(hazy_img_path,percentage=0.8,seed_val=101):\n",
        "    \n",
        "    random.seed(seed_val)\n",
        "    train_img = []\n",
        "    val_img = []\n",
        "    train_air= []\n",
        "    val_air= []\n",
        "    \n",
        "    \n",
        "    #hazy_img = glob.glob(hazy_img_path + '/*.jpg')\n",
        "    hazy_img = glob.glob(hazy_img_path + '/*.png')\n",
        "    n = len(hazy_img)\n",
        "    n1=percentage*n;\n",
        "\n",
        "    random.shuffle(hazy_img)\n",
        "    n=n1;\n",
        "    train_keys = hazy_img[:int(0.9*n)]        #90% data for train, 10% for test\n",
        "    val_keys = hazy_img[int(0.9*n):int(1.0*n)]\n",
        "    #hazy_img=hazy_img[:n]\n",
        "    split_dict = {}\n",
        "    for key in train_keys:\n",
        "        split_dict[key] = 'train'\n",
        "    for key in val_keys:\n",
        "        split_dict[key] = 'val'\n",
        "        \n",
        "    \n",
        "    for img in hazy_img:\n",
        "        air=img.split(\"_\")[-1][:-4];\n",
        "  \n",
        "        try:\n",
        "          if (split_dict[img] == 'train'):\n",
        "              train_air.append(float(air))\n",
        "              train_img.append(img)\n",
        "          else:\n",
        "              val_air.append(float(air))\n",
        "              val_img.append(img)\n",
        "        except KeyError:\n",
        "          pass\n",
        "    return train_img,train_air, val_img,val_air"
      ],
      "execution_count": 17,
      "outputs": []
    },
    {
      "cell_type": "code",
      "metadata": {
        "id": "97QJRDFtxIdK"
      },
      "source": [
        "def dataloader(train_data,train_res, val_data,val_res, batch_size):\n",
        "    print(len(train_data))\n",
        "    train_data_haze = tf.data.Dataset.from_tensor_slices([img for img in train_data]).map(lambda x: load_image(x))\n",
        "    train_data_airlight = tf.data.Dataset.from_tensor_slices([a for a in train_res])\n",
        "    train = tf.data.Dataset.zip((train_data_haze,train_data_airlight)).shuffle(100).batch(batch_size)\n",
        "\n",
        "    val_data_haze = tf.data.Dataset.from_tensor_slices([img for img in val_data]).map(lambda x: load_image(x))\n",
        "    val_data_airlight = tf.data.Dataset.from_tensor_slices([a for a in val_res])\n",
        "    val = tf.data.Dataset.zip((val_data_haze,val_data_airlight)).shuffle(100).batch(batch_size)\n",
        "\n",
        "    \n",
        "\n",
        "    \n",
        "\n",
        "    return train, val"
      ],
      "execution_count": 18,
      "outputs": []
    },
    {
      "cell_type": "code",
      "metadata": {
        "colab": {
          "base_uri": "https://localhost:8080/"
        },
        "id": "MBfqlDvIu6E1",
        "outputId": "fdac7c04-5eef-459c-db70-b72360041dc9"
      },
      "source": [
        "model=dehaze_net()\n",
        "model.model().summary()"
      ],
      "execution_count": 37,
      "outputs": [
        {
          "output_type": "stream",
          "text": [
            "Model: \"model_1\"\n",
            "__________________________________________________________________________________________________\n",
            "Layer (type)                    Output Shape         Param #     Connected to                     \n",
            "==================================================================================================\n",
            "input_2 (InputLayer)            [(None, 412, 548, 3) 0                                            \n",
            "__________________________________________________________________________________________________\n",
            "conv2d_14 (Conv2D)              (None, 412, 548, 16) 1216        input_2[0][0]                    \n",
            "__________________________________________________________________________________________________\n",
            "maxout_1 (Maxout)               (None, 412, 548, 4)  0           conv2d_14[0][0]                  \n",
            "__________________________________________________________________________________________________\n",
            "conv2d_15 (Conv2D)              (None, 412, 548, 16) 592         maxout_1[0][0]                   \n",
            "__________________________________________________________________________________________________\n",
            "conv2d_16 (Conv2D)              (None, 412, 548, 16) 1616        maxout_1[0][0]                   \n",
            "__________________________________________________________________________________________________\n",
            "conv2d_17 (Conv2D)              (None, 412, 548, 16) 3152        maxout_1[0][0]                   \n",
            "__________________________________________________________________________________________________\n",
            "concatenate_1 (Concatenate)     (None, 412, 548, 48) 0           conv2d_15[0][0]                  \n",
            "                                                                 conv2d_16[0][0]                  \n",
            "                                                                 conv2d_17[0][0]                  \n",
            "__________________________________________________________________________________________________\n",
            "max_pooling2d_10 (MaxPooling2D) (None, 412, 548, 48) 0           concatenate_1[0][0]              \n",
            "__________________________________________________________________________________________________\n",
            "conv2d_18 (Conv2D)              (None, 412, 548, 1)  1729        max_pooling2d_10[0][0]           \n",
            "__________________________________________________________________________________________________\n",
            "re_lu_1 (ReLU)                  (None, 412, 548, 1)  0           conv2d_18[0][0]                  \n",
            "__________________________________________________________________________________________________\n",
            "flatten_4 (Flatten)             (None, 225776)       0           re_lu_1[0][0]                    \n",
            "__________________________________________________________________________________________________\n",
            "dense_13 (Dense)                (None, 1)            225777      flatten_4[0][0]                  \n",
            "==================================================================================================\n",
            "Total params: 234,082\n",
            "Trainable params: 234,082\n",
            "Non-trainable params: 0\n",
            "__________________________________________________________________________________________________\n"
          ],
          "name": "stdout"
        }
      ]
    },
    {
      "cell_type": "code",
      "metadata": {
        "id": "PUC7_wzoxIdK"
      },
      "source": [
        "class dehaze_net(tf.keras.Model):\n",
        "  def __init__(self):\n",
        "    super(dehaze_net,self).__init__()\n",
        "    self.conv1 = Conv2D(filters = 16, kernel_size = 5, strides = 1, padding = 'same', use_bias = True)\n",
        "    self.Maxout=tfa.layers.Maxout(num_units=4,axis= -1)\n",
        "    self.conv2 = Conv2D(filters = 16, kernel_size = 3, strides = 1, padding = 'same', use_bias = True)\n",
        "    self.conv3 = Conv2D(filters = 16, kernel_size = 5, strides = 1, padding = 'same', use_bias = True)\n",
        "    self.conv4 = Conv2D(filters = 16, kernel_size = 7, strides = 1, padding = 'same', use_bias = True)\n",
        "    self.maxpool=MaxPool2D(7,strides=1,padding='same')\n",
        "    self.conv5 = Conv2D(filters = 1, kernel_size = 6, strides = 1, padding = 'same', use_bias = True)\n",
        "    self.flatten= tf.keras.layers.Flatten()\n",
        "    #self.dense1=tf.keras.layers.Dense(100,activation='relu')\n",
        "    self.dense2=tf.keras.layers.Dense(1,activation='relu')\n",
        "\n",
        "\n",
        "  def call(self,inputs):\n",
        "    out = self.conv1(inputs)\n",
        "    out = self.Maxout(out)\n",
        "    out1 = self.conv2(out)\n",
        "    out2 = self.conv3(out)\n",
        "    out3 = self.conv4(out)\n",
        "    y=tf.keras.layers.concatenate([out1,out2,out3])\n",
        "    y = self.maxpool(y)\n",
        "    y = self.conv5(y)\n",
        "    #print(y.shape)\n",
        "    y= ReLU()(y)\n",
        "    y= self.flatten(y)\n",
        "    #y=self.dense1(y)\n",
        "    y=self.dense2(y)\n",
        "    return y\n",
        "\n",
        "   #K = conv5\n",
        "   #output = ReLU(max_value = 1.0)(tf.math.multiply(K,inputs) - K + 1.0)\n",
        "   #output1=tf.image.resize_with_crop_or_pad(output1, 412, 548)\n",
        "   #output=tf.image.resize(output1, size = (413, 550), antialias = True)\n",
        "   #model = Model(inputs = x, outputs = output)\n",
        "   \n",
        "   #return output\n",
        "\n",
        "  def model(self):\n",
        "        x = Input(shape = (412, 548, 3))\n",
        "        return Model(inputs=[x], outputs=self.call(x))\n",
        "\n",
        "    \n",
        "  def build_graph(self):\n",
        "        x = Input(shape=(412, 548, 3))\n",
        "        return Model(inputs=[x], outputs=self.call(x))"
      ],
      "execution_count": 34,
      "outputs": []
    },
    {
      "cell_type": "code",
      "metadata": {
        "id": "9D9Vdse9bWVz"
      },
      "source": [
        "def build_model(input_shape,training=True):\n",
        "    \"\"\"Generates CNN model\n",
        "    :param input_shape (tuple): Shape of input set\n",
        "    :return model: CNN model\n",
        "    \"\"\"\n",
        "\n",
        "    # build network topology\n",
        "    model = keras.Sequential()\n",
        "\n",
        "    # 1st conv layer\n",
        "    model.add(keras.layers.Conv2D(32, (3, 3), activation='relu', input_shape=input_shape))\n",
        "    model.add(keras.layers.MaxPooling2D((3, 3), strides=(2, 2), padding='same'))\n",
        "    model.add(keras.layers.BatchNormalization())\n",
        "\n",
        "    # 2nd conv layer\n",
        "    model.add(keras.layers.Conv2D(16, (3, 3), activation='relu'))\n",
        "    model.add(keras.layers.MaxPooling2D((3, 3), strides=(2, 2), padding='same'))\n",
        "    model.add(keras.layers.BatchNormalization())\n",
        "\n",
        "    # 3rd conv layer\n",
        "    model.add(keras.layers.Conv2D(8, (2, 2), activation='relu'))\n",
        "    model.add(keras.layers.MaxPooling2D((2, 2), strides=(2, 2), padding='same'))\n",
        "    model.add(keras.layers.BatchNormalization())\n",
        "\n",
        "    # flatten output and feed it into dense layer\n",
        "    model.add(keras.layers.Flatten())\n",
        "    \n",
        "    # 1st dense layer\n",
        "    keras.layers.Dense(512, activation='relu', kernel_regularizer=keras.regularizers.l2(0.01)),\n",
        "    keras.layers.Dropout(0.6,training=training),\n",
        "\n",
        "    # 2nd dense layer\n",
        "    keras.layers.Dense(256, activation='relu', kernel_regularizer=keras.regularizers.l2(0.01)),\n",
        "    keras.layers.Dropout(0.5,training=training),\n",
        "\n",
        "    # 3rd dense layer\n",
        "    keras.layers.Dense(64, activation='relu', kernel_regularizer=keras.regularizers.l2(0.001)),\n",
        "    keras.layers.Dropout(0.2,training=training),\n",
        "\n",
        "\n",
        "    # output layer\n",
        "    keras.layers.Dense(1, activation='relu')\n",
        "\n",
        "    return model"
      ],
      "execution_count": 58,
      "outputs": []
    },
    {
      "cell_type": "code",
      "metadata": {
        "id": "4kw-Jqnm4-nV"
      },
      "source": [
        "class a_net(tf.keras.Model):\n",
        "  def __init__(self):\n",
        "    super(a_net,self).__init__()\n",
        "    self.seq = tf.keras.Sequential()\n",
        "\n",
        "    # 1st conv layer\n",
        "    self.seq.add(tf.keras.layers.Conv2D(input_shape=(None, None, 3),filters=32,kernel_size= (3, 3), activation='relu'))\n",
        "    self.seq.add(keras.layers.MaxPooling2D((3, 3), strides=(2, 2), padding='same'))\n",
        "    self.seq.add(keras.layers.BatchNormalization())\n",
        "\n",
        "    # 2nd conv layer\n",
        "    self.seq.add(keras.layers.Conv2D(16, (3, 3), activation='relu'))\n",
        "    self.seq.add(keras.layers.MaxPooling2D((3, 3), strides=(2, 2), padding='same'))\n",
        "    self.seq.add(keras.layers.BatchNormalization())\n",
        "\n",
        "    # 3rd conv layer\n",
        "    self.seq.add(keras.layers.Conv2D(8, (2, 2), activation='relu'))\n",
        "    self.seq.add(keras.layers.MaxPooling2D((2, 2), strides=(2, 2), padding='same'))\n",
        "    self.seq.add(keras.layers.BatchNormalization())\n",
        "\n",
        "    # flatten output and feed it into dense layer\n",
        "    self.seq.add(keras.layers.Flatten())\n",
        "    \n",
        "    # 1st dense layer\n",
        "    self.dense1=keras.layers.Dense(512, activation='relu', kernel_regularizer=keras.regularizers.l2(0.01))\n",
        "    self.drop1=keras.layers.Dropout(0.6)\n",
        "\n",
        "    # 2nd dense layer\n",
        "    self.dense2=keras.layers.Dense(256, activation='relu', kernel_regularizer=keras.regularizers.l2(0.01))\n",
        "    self.drop2=keras.layers.Dropout(0.5)\n",
        "\n",
        "    # 3rd dense layer\n",
        "    self.dense3=keras.layers.Dense(64, activation='relu', kernel_regularizer=keras.regularizers.l2(0.001))\n",
        "    self.drop3=keras.layers.Dropout(0.2)\n",
        "\n",
        "\n",
        "    # output layer\n",
        "    self.out=keras.layers.Dense(1, activation='relu')\n",
        "\n",
        "\n",
        "\n",
        "  def call(self,inputs,train=True):\n",
        "    x=self.seq(inputs)\n",
        "    x=self.dense1(x)\n",
        "    x=self.drop1(x,train)\n",
        "    x=self.dense2(x)\n",
        "    x=self.drop2(x,train)\n",
        "    x=self.dense3(x)\n",
        "    x=self.drop3(x,train)\n",
        "    return self.out(x)\n",
        "\n",
        "   #K = conv5\n",
        "   #output = ReLU(max_value = 1.0)(tf.math.multiply(K,inputs) - K + 1.0)\n",
        "   #output1=tf.image.resize_with_crop_or_pad(output1, 412, 548)\n",
        "   #output=tf.image.resize(output1, size = (413, 550), antialias = True)\n",
        "   #model = Model(inputs = x, outputs = output)\n",
        "   \n",
        "   #return output\n",
        "\n",
        "  def model(self):\n",
        "        x = Input(shape = (412, 548, 3))\n",
        "        return Model(inputs=[x], outputs=self.call(x))\n",
        "\n",
        "    \n",
        "  def build_graph(self):\n",
        "        x = Input(shape=(412, 548, 3))\n",
        "        return Model(inputs=[x], outputs=self.call(x))"
      ],
      "execution_count": 10,
      "outputs": []
    },
    {
      "cell_type": "code",
      "metadata": {
        "id": "nmSgrPUbb2aH",
        "colab": {
          "base_uri": "https://localhost:8080/",
          "height": 1000
        },
        "outputId": "13c10a31-a56e-4b4b-baa8-822165c2ea0f"
      },
      "source": [
        "model=a_net()\n",
        "model.model().summary()\n",
        "\n",
        "dot_img_file = '/tmp/model_1.png'\n",
        "tf.keras.utils.plot_model(model.build_graph(), to_file=dot_img_file, show_shapes=True)"
      ],
      "execution_count": 12,
      "outputs": [
        {
          "output_type": "stream",
          "text": [
            "Model: \"model_2\"\n",
            "_________________________________________________________________\n",
            "Layer (type)                 Output Shape              Param #   \n",
            "=================================================================\n",
            "input_3 (InputLayer)         [(None, 412, 548, 3)]     0         \n",
            "_________________________________________________________________\n",
            "sequential_1 (Sequential)    (None, None)              6264      \n",
            "_________________________________________________________________\n",
            "dense_4 (Dense)              (None, 512)               14205440  \n",
            "_________________________________________________________________\n",
            "dropout_3 (Dropout)          (None, 512)               0         \n",
            "_________________________________________________________________\n",
            "dense_5 (Dense)              (None, 256)               131328    \n",
            "_________________________________________________________________\n",
            "dropout_4 (Dropout)          (None, 256)               0         \n",
            "_________________________________________________________________\n",
            "dense_6 (Dense)              (None, 64)                16448     \n",
            "_________________________________________________________________\n",
            "dropout_5 (Dropout)          (None, 64)                0         \n",
            "_________________________________________________________________\n",
            "dense_7 (Dense)              (None, 1)                 65        \n",
            "=================================================================\n",
            "Total params: 14,359,545\n",
            "Trainable params: 14,359,433\n",
            "Non-trainable params: 112\n",
            "_________________________________________________________________\n"
          ],
          "name": "stdout"
        },
        {
          "output_type": "execute_result",
          "data": {
            "image/png": "[encoded data removed]",
            "text/plain": [
              "<IPython.core.display.Image object>"
            ]
          },
          "metadata": {
            "tags": []
          },
          "execution_count": 12
        }
      ]
    },
    {
      "cell_type": "code",
      "metadata": {
        "id": "0y2n9jQFxIdM",
        "colab": {
          "base_uri": "https://localhost:8080/"
        },
        "outputId": "31fcc9c6-c169-47e8-e87a-5981208a323f"
      },
      "source": [
        "#model=build_model((352,1216,3))\n",
        "\n",
        "net.summary()\n",
        "#dot_img_file = '/tmp/model_1.png'\n",
        "#tf.keras.utils.plot_model(model.build_graph(), to_file=dot_img_file, show_shapes=True)"
      ],
      "execution_count": 54,
      "outputs": [
        {
          "output_type": "stream",
          "text": [
            "Model: \"sequential_3\"\n",
            "_________________________________________________________________\n",
            "Layer (type)                 Output Shape              Param #   \n",
            "=================================================================\n",
            "conv2d_24 (Conv2D)           (None, 350, 1214, 18)     504       \n",
            "_________________________________________________________________\n",
            "max_pooling2d_12 (MaxPooling (None, 175, 607, 18)      0         \n",
            "_________________________________________________________________\n",
            "batch_normalization_9 (Batch (None, 175, 607, 18)      72        \n",
            "_________________________________________________________________\n",
            "conv2d_25 (Conv2D)           (None, 173, 605, 8)       1304      \n",
            "_________________________________________________________________\n",
            "max_pooling2d_13 (MaxPooling (None, 87, 303, 8)        0         \n",
            "_________________________________________________________________\n",
            "batch_normalization_10 (Batc (None, 87, 303, 8)        32        \n",
            "_________________________________________________________________\n",
            "conv2d_26 (Conv2D)           (None, 86, 302, 4)        132       \n",
            "_________________________________________________________________\n",
            "max_pooling2d_14 (MaxPooling (None, 43, 151, 4)        0         \n",
            "_________________________________________________________________\n",
            "batch_normalization_11 (Batc (None, 43, 151, 4)        16        \n",
            "_________________________________________________________________\n",
            "flatten_6 (Flatten)          (None, 25972)             0         \n",
            "_________________________________________________________________\n",
            "dense_18 (Dense)             (None, 1)                 25973     \n",
            "=================================================================\n",
            "Total params: 28,033\n",
            "Trainable params: 27,973\n",
            "Non-trainable params: 60\n",
            "_________________________________________________________________\n"
          ],
          "name": "stdout"
        }
      ]
    },
    {
      "cell_type": "code",
      "metadata": {
        "id": "rFSoNNu7xIdL",
        "colab": {
          "base_uri": "https://localhost:8080/"
        },
        "outputId": "22bb2a5e-0953-452e-c666-890f1a408aa6"
      },
      "source": [
        "# Hyperparameters\n",
        "epochs = 2\n",
        "batch_size = 16\n",
        "k_init = tf.keras.initializers.random_normal(stddev=0.008, seed = 101)      \n",
        "regularizer = tf.keras.regularizers.L2(1e-4)\n",
        "b_init = tf.constant_initializer()\n",
        "\n",
        "train_data,train_res, val_data,val_res = data_path(hazy_img_path = '/content/drive/MyDrive/kitti/hazy')\n",
        "#train_data,train_res, val_data,val_res = data_path(hazy_img_path = '/content/drive/MyDrive/generated_dataset/hazy/')\n",
        "#train_data, val_data = data_path()\n",
        "train, val = dataloader(train_data,train_res, val_data,val_res, batch_size)\n",
        "\n",
        "optimizer = Adam(learning_rate = 1e-7)\n",
        "net =a_net()\n",
        "net.load_weights('/content/drive/MyDrive/nets/prelim_model/a_net/weights/')\n",
        "#net =dehaze_net()\n",
        "#net= tf.keras.models.load_model('/content/drive/MyDrive/nets/dehazenet',compile=False)\n",
        "train_loss_tracker = tf.keras.metrics.MeanSquaredError(name = \"train loss\")\n",
        "val_loss_tracker = tf.keras.metrics.MeanSquaredError(name = \"val loss\")"
      ],
      "execution_count": 27,
      "outputs": [
        {
          "output_type": "stream",
          "text": [
            "4320\n"
          ],
          "name": "stdout"
        }
      ]
    },
    {
      "cell_type": "code",
      "metadata": {
        "id": "By8_hGhxxIdM"
      },
      "source": [
        "def train_model(epochs, train, val, net, train_loss_tracker, val_loss_tracker, optimizer):\n",
        "    \n",
        "    for epoch in range(epochs):\n",
        "        \n",
        "        print(\"\\nStart of epoch %d\" % (epoch,), end=' ')\n",
        "        start_time_epoch = time.time()\n",
        "        start_time_step = time.time()\n",
        "\n",
        "        for step, (train_batch_haze, train_res) in enumerate(train):\n",
        "\n",
        "            with tf.GradientTape() as tape:\n",
        "\n",
        "                train_logits = net(train_batch_haze, training = True)\n",
        "                #print(train_logits.shape)\n",
        "                train_res=np.expand_dims(train_res,axis=-1)\n",
        "                loss = mean_squared_error(train_res, train_logits)\n",
        "\n",
        "            grads = tape.gradient(loss, net.trainable_weights)\n",
        "            optimizer.apply_gradients(zip(grads, net.trainable_weights))\n",
        "            \n",
        "            train_loss_tracker.update_state(train_res, train_logits)\n",
        "            if step == 0:\n",
        "                print('[', end='')\n",
        "            if step % 64 == 0:\n",
        "                print('=', end='')\n",
        "        \n",
        "        print(']', end='')\n",
        "        print('  -  ', end='')\n",
        "        print('Training Loss: %.4f' % (train_loss_tracker.result()), end='')\n",
        "        \n",
        "        for step, (val_batch_haze, val_res) in enumerate(val):\n",
        "            val_logits = net(val_batch_haze, training = False)\n",
        "            val_res=np.expand_dims(val_res,axis=-1)\n",
        "            #print(val_logits.shape)\n",
        "            #print(\"---------------------\")\n",
        "            val_loss_tracker.update_state(val_res, val_logits)\n",
        "            #if step % 64 ==0:\n",
        "                #display_img(net, val_batch_haze, val_batch_orig)\n",
        "        print('  -  ', end='')\n",
        "        print('Validation Loss: %.4f' % (val_loss_tracker.result()), end='')\n",
        "        print('  -  ', end=' ')\n",
        "        print(\"Time taken: %.2fs\" % (time.time() - start_time_epoch))\n",
        "        \n",
        "        train_loss_tracker.reset_states()\n",
        "        val_loss_tracker.reset_states()"
      ],
      "execution_count": 28,
      "outputs": []
    },
    {
      "cell_type": "code",
      "metadata": {
        "id": "Qv3bgCnXxIdN",
        "colab": {
          "base_uri": "https://localhost:8080/"
        },
        "outputId": "45a426a3-5bc1-47c4-d7b9-a77615aa0dca"
      },
      "source": [
        "%%time\n",
        "train_model(2, train, val, net, train_loss_tracker, val_loss_tracker, optimizer)"
      ],
      "execution_count": 29,
      "outputs": [
        {
          "output_type": "stream",
          "text": [
            "\n",
            "Start of epoch 0 [=====]  -  Training Loss: 0.6561  -  Validation Loss: 0.6526  -   Time taken: 166.09s\n",
            "\n",
            "Start of epoch 1 [=====]  -  Training Loss: 0.6606  -  Validation Loss: 0.6500  -   Time taken: 164.70s\n",
            "CPU times: user 4min 54s, sys: 6.62 s, total: 5min 1s\n",
            "Wall time: 5min 30s\n"
          ],
          "name": "stdout"
        }
      ]
    },
    {
      "cell_type": "code",
      "metadata": {
        "id": "13hSnrj-xIdP",
        "colab": {
          "base_uri": "https://localhost:8080/"
        },
        "outputId": "569595be-ad46-41e6-8073-10ec921496fe"
      },
      "source": [
        "net.save('/content/drive/MyDrive/nets/prelim_model/a_net/')\n",
        "net.save_weights('/content/drive/MyDrive/nets/prelim_model/a_net/weights/')"
      ],
      "execution_count": 30,
      "outputs": [
        {
          "output_type": "stream",
          "text": [
            "INFO:tensorflow:Assets written to: /content/drive/MyDrive/nets/prelim_model/a_net/assets\n"
          ],
          "name": "stdout"
        }
      ]
    },
    {
      "cell_type": "code",
      "metadata": {
        "id": "yioy75P8xEOH",
        "colab": {
          "base_uri": "https://localhost:8080/"
        },
        "outputId": "9e612828-3a92-4ec4-e12b-f5c55a5901d5"
      },
      "source": [
        "%%time\n",
        "train_model(, train, val, net, train_loss_tracker, val_loss_tracker, optimizer)"
      ],
      "execution_count": null,
      "outputs": [
        {
          "output_type": "stream",
          "text": [
            "\n",
            "Start of epoch 0 [===================================================================]  -  Training Loss: 0.5620  -  Validation Loss: 0.3334  -   Time taken: 3731.36s\n",
            "\n",
            "Start of epoch 1 [===================================================================]  -  Training Loss: 0.3249  -  Validation Loss: 0.3269  -   Time taken: 124.88s\n",
            "\n",
            "Start of epoch 2 [===================================================================]  -  Training Loss: 0.2400  -  Validation Loss: 0.2279  -   Time taken: 125.40s\n",
            "\n",
            "Start of epoch 3 [===================================================================]  -  Training Loss: 0.1969  -  Validation Loss: 0.1995  -   Time taken: 125.07s\n",
            "\n",
            "Start of epoch 4 [===================================================================]  -  Training Loss: 0.1763  -  Validation Loss: 0.2328  -   Time taken: 125.84s\n",
            "\n",
            "Start of epoch 5 [===================================================================]  -  Training Loss: 0.1590  -  Validation Loss: 0.1845  -   Time taken: 125.54s\n",
            "\n",
            "Start of epoch 6 [===================================================================]  -  Training Loss: 0.1533  -  Validation Loss: 0.1693  -   Time taken: 125.60s\n",
            "\n",
            "Start of epoch 7 [===================================================================]  -  Training Loss: 0.1374  -  Validation Loss: 0.1787  -   Time taken: 125.93s\n",
            "\n",
            "Start of epoch 8 [===================================================================]  -  Training Loss: 0.1311  -  Validation Loss: 0.1769  -   Time taken: 125.88s\n",
            "\n",
            "Start of epoch 9 [===================================================================]  -  Training Loss: 0.1273  -  Validation Loss: 0.1475  -   Time taken: 126.22s\n",
            "CPU times: user 18min 57s, sys: 33.1 s, total: 19min 30s\n",
            "Wall time: 1h 21min 1s\n"
          ],
          "name": "stdout"
        }
      ]
    },
    {
      "cell_type": "code",
      "metadata": {
        "id": "y_CvlVOujGYi"
      },
      "source": [
        "net.save_weights('/content/drive/MyDrive/nets/a_net/0.1475')"
      ],
      "execution_count": null,
      "outputs": []
    },
    {
      "cell_type": "code",
      "metadata": {
        "id": "wmxCtc5q14xy"
      },
      "source": [
        "optimizer = Adam(learning_rate = 1e-5)"
      ],
      "execution_count": null,
      "outputs": []
    },
    {
      "cell_type": "code",
      "metadata": {
        "colab": {
          "base_uri": "https://localhost:8080/"
        },
        "id": "hM9donSU3XZz",
        "outputId": "ec367906-2179-49bd-bdba-d5b8fb02cb65"
      },
      "source": [
        "%%time\n",
        "train_model(30, train, val, net, train_loss_tracker, val_loss_tracker, optimizer)"
      ],
      "execution_count": null,
      "outputs": [
        {
          "output_type": "stream",
          "text": [
            "\n",
            "Start of epoch 0 [===================================================================]  -  Training Loss: 0.0933  -  Validation Loss: 0.1277  -   Time taken: 125.42s\n",
            "\n",
            "Start of epoch 1 [===================================================================]  -  Training Loss: 0.0892  -  Validation Loss: 0.1247  -   Time taken: 125.59s\n",
            "\n",
            "Start of epoch 2 [===================================================================]  -  Training Loss: 0.0871  -  Validation Loss: 0.1238  -   Time taken: 126.30s\n",
            "\n",
            "Start of epoch 3 [===================================================================]  -  Training Loss: 0.0864  -  Validation Loss: 0.1233  -   Time taken: 126.45s\n",
            "\n",
            "Start of epoch 4 [===================================================================]  -  Training Loss: 0.0866  -  Validation Loss: 0.1206  -   Time taken: 127.63s\n",
            "\n",
            "Start of epoch 5 [===================================================================]  -  Training Loss: 0.0841  -  Validation Loss: 0.1194  -   Time taken: 128.01s\n",
            "\n",
            "Start of epoch 6 [===================================================================]  -  Training Loss: 0.0833  -  Validation Loss: 0.1190  -   Time taken: 128.99s\n",
            "\n",
            "Start of epoch 7 [===================================================================]  -  Training Loss: 0.0834  -  Validation Loss: 0.1206  -   Time taken: 128.07s\n",
            "\n",
            "Start of epoch 8 [===================================================================]  -  Training Loss: 0.0816  -  Validation Loss: 0.1168  -   Time taken: 128.40s\n",
            "\n",
            "Start of epoch 9 [===================================================================]  -  Training Loss: 0.0821  -  Validation Loss: 0.1190  -   Time taken: 128.40s\n",
            "\n",
            "Start of epoch 10 [===================================================================]  -  Training Loss: 0.0813  -  Validation Loss: 0.1176  -   Time taken: 128.13s\n",
            "\n",
            "Start of epoch 11 [===================================================================]  -  Training Loss: 0.0813  -  Validation Loss: 0.1153  -   Time taken: 128.14s\n",
            "\n",
            "Start of epoch 12 [===================================================================]  -  Training Loss: 0.0801  -  Validation Loss: 0.1144  -   Time taken: 128.16s\n",
            "\n",
            "Start of epoch 13 [===================================================================]  -  Training Loss: 0.0792  -  Validation Loss: 0.1179  -   Time taken: 127.98s\n",
            "\n",
            "Start of epoch 14 [===================================================================]  -  Training Loss: 0.0793  -  Validation Loss: 0.1141  -   Time taken: 127.68s\n",
            "\n",
            "Start of epoch 15 [===================================================================]  -  Training Loss: 0.0783  -  Validation Loss: 0.1152  -   Time taken: 127.67s\n",
            "\n",
            "Start of epoch 16 [===================================================================]  -  Training Loss: 0.0792  -  Validation Loss: 0.1135  -   Time taken: 127.80s\n",
            "\n",
            "Start of epoch 17 [===================================================================]  -  Training Loss: 0.0782  -  Validation Loss: 0.1133  -   Time taken: 127.02s\n",
            "\n",
            "Start of epoch 18 [===================================================================]  -  Training Loss: 0.0791  -  Validation Loss: 0.1137  -   Time taken: 127.02s\n",
            "\n",
            "Start of epoch 19 [===================================================================]  -  Training Loss: 0.0770  -  Validation Loss: 0.1140  -   Time taken: 126.61s\n",
            "\n",
            "Start of epoch 20 [===================================================================]  -  Training Loss: 0.0775  -  Validation Loss: 0.1133  -   Time taken: 127.17s\n",
            "\n",
            "Start of epoch 21 [===================================================================]  -  Training Loss: 0.0773  -  Validation Loss: 0.1134  -   Time taken: 128.20s\n",
            "\n",
            "Start of epoch 22 [===================================================================]  -  Training Loss: 0.0775  -  Validation Loss: 0.1135  -   Time taken: 126.54s\n",
            "\n",
            "Start of epoch 23 [===================================================================]  -  Training Loss: 0.0765  -  Validation Loss: 0.1146  -   Time taken: 127.17s\n",
            "\n",
            "Start of epoch 24 [===================================================================]  -  Training Loss: 0.0771  -  Validation Loss: 0.1130  -   Time taken: 126.56s\n",
            "\n",
            "Start of epoch 25 [===================================================================]  -  Training Loss: 0.0765  -  Validation Loss: 0.1147  -   Time taken: 126.80s\n",
            "\n",
            "Start of epoch 26 [===================================================================]  -  Training Loss: 0.0757  -  Validation Loss: 0.1113  -   Time taken: 126.95s\n",
            "\n",
            "Start of epoch 27 [===================================================================]  -  Training Loss: 0.0747  -  Validation Loss: 0.1112  -   Time taken: 126.65s\n",
            "\n",
            "Start of epoch 28 [===================================================================]  -  Training Loss: 0.0750  -  Validation Loss: 0.1145  -   Time taken: 128.06s\n",
            "\n",
            "Start of epoch 29 [===================================================================]  -  Training Loss: 0.0751  -  Validation Loss: 0.1122  -   Time taken: 127.99s\n",
            "CPU times: user 57min 1s, sys: 1min 31s, total: 58min 32s\n",
            "Wall time: 1h 3min 41s\n"
          ],
          "name": "stdout"
        }
      ]
    },
    {
      "cell_type": "code",
      "metadata": {
        "colab": {
          "base_uri": "https://localhost:8080/"
        },
        "id": "0OF8K_et3kDB",
        "outputId": "98dc4695-e48d-4e60-eeed-38eec74f4581"
      },
      "source": [
        "net.save('/content/drive/MyDrive/nets/a_net/0.1122')\n",
        "net.save_weights('/content/drive/MyDrive/nets/a_net/0.1122')"
      ],
      "execution_count": null,
      "outputs": [
        {
          "output_type": "stream",
          "text": [
            "INFO:tensorflow:Assets written to: /content/drive/MyDrive/nets/a_net/0.1122/assets\n"
          ],
          "name": "stdout"
        }
      ]
    },
    {
      "cell_type": "code",
      "metadata": {
        "id": "4u5Dlt8XGQA6"
      },
      "source": [
        "optimizer = Adam(learning_rate = 1e-6)"
      ],
      "execution_count": null,
      "outputs": []
    },
    {
      "cell_type": "code",
      "metadata": {
        "colab": {
          "base_uri": "https://localhost:8080/"
        },
        "id": "Hg8oZq3lGZQ5",
        "outputId": "cd1e67e9-e1bf-45f9-e542-52b637e38f9d"
      },
      "source": [
        "%%time\n",
        "train_model(2, train, val, net, train_loss_tracker, val_loss_tracker, optimizer)"
      ],
      "execution_count": null,
      "outputs": [
        {
          "output_type": "stream",
          "text": [
            "\n",
            "Start of epoch 0 [===================================================================]  -  Training Loss: 0.0713  -  Validation Loss: 0.1107  -   Time taken: 128.81s\n",
            "\n",
            "Start of epoch 1 [===================================================================]  -  Training Loss: 0.0717  -  Validation Loss: 0.1108  -   Time taken: 128.06s\n",
            "CPU times: user 3min 49s, sys: 6.29 s, total: 3min 56s\n",
            "Wall time: 4min 16s\n"
          ],
          "name": "stdout"
        }
      ]
    },
    {
      "cell_type": "code",
      "metadata": {
        "id": "XKcz-uh2Gaqg"
      },
      "source": [
        "optimizer = Adam(learning_rate = 1e-7)"
      ],
      "execution_count": null,
      "outputs": []
    },
    {
      "cell_type": "code",
      "metadata": {
        "colab": {
          "base_uri": "https://localhost:8080/"
        },
        "id": "GQQoNVB3Hc3C",
        "outputId": "95ead195-c9eb-4616-c2c4-dc2350874631"
      },
      "source": [
        "%%time\n",
        "train_model(5, train, val, net, train_loss_tracker, val_loss_tracker, optimizer)"
      ],
      "execution_count": null,
      "outputs": [
        {
          "output_type": "stream",
          "text": [
            "\n",
            "Start of epoch 0 [===================================================================]  -  Training Loss: 0.0708  -  Validation Loss: 0.1108  -   Time taken: 127.23s\n",
            "\n",
            "Start of epoch 1 [===================================================================]  -  Training Loss: 0.0713  -  Validation Loss: 0.1107  -   Time taken: 126.73s\n",
            "\n",
            "Start of epoch 2 [===================================================================]  -  Training Loss: 0.0716  -  Validation Loss: 0.1106  -   Time taken: 127.25s\n",
            "\n",
            "Start of epoch 3 [===================================================================]  -  Training Loss: 0.0706  -  Validation Loss: 0.1108  -   Time taken: 126.53s\n",
            "\n",
            "Start of epoch 4 [===================================================================]  -  Training Loss: 0.0714  -  Validation Loss: 0.1110  -   Time taken: 127.11s\n",
            "CPU times: user 9min 28s, sys: 15.2 s, total: 9min 43s\n",
            "Wall time: 10min 34s\n"
          ],
          "name": "stdout"
        }
      ]
    },
    {
      "cell_type": "code",
      "metadata": {
        "colab": {
          "base_uri": "https://localhost:8080/"
        },
        "id": "zdA0_2j4HeHY",
        "outputId": "1c22f359-6fec-46a4-9864-5a046d449f3e"
      },
      "source": [
        "net.save('/content/drive/MyDrive/nets/a_net/0.1110')\n",
        "net.save_weights('/content/drive/MyDrive/nets/a_net/0.1110')"
      ],
      "execution_count": null,
      "outputs": [
        {
          "output_type": "stream",
          "text": [
            "INFO:tensorflow:Assets written to: /content/drive/MyDrive/nets/a_net/0.1110/assets\n"
          ],
          "name": "stdout"
        }
      ]
    },
    {
      "cell_type": "code",
      "metadata": {
        "id": "GuLGUeL_KJGC"
      },
      "source": [
        ""
      ],
      "execution_count": null,
      "outputs": []
    }
  ]
}