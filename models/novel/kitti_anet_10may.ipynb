{
  "nbformat": 4,
  "nbformat_minor": 0,
  "metadata": {
    "colab": {
      "name": "kitti_anet_10may.ipynb",
      "provenance": [],
      "collapsed_sections": [],
      "authorship_tag": "ABX9TyPX+oMMYVEDsaFLT9VscEVP",
      "include_colab_link": true
    },
    "kernelspec": {
      "name": "python3",
      "display_name": "Python 3"
    },
    "language_info": {
      "name": "python"
    },
    "accelerator": "GPU"
  },
  "cells": [
    {
      "cell_type": "markdown",
      "metadata": {
        "id": "view-in-github",
        "colab_type": "text"
      },
      "source": [
        "<a href=\"https://colab.research.google.com/github/abubakrsiddq/ImageDehazing/blob/main/models/novel/kitti_anet_10may.ipynb\" target=\"_parent\"><img src=\"https://colab.research.google.com/assets/colab-badge.svg\" alt=\"Open In Colab\"/></a>"
      ]
    },
    {
      "cell_type": "code",
      "metadata": {
        "colab": {
          "base_uri": "https://localhost:8080/"
        },
        "id": "3j2Mx_X6Kjml",
        "outputId": "707b34b5-5f73-498c-b38e-0b69c4dfe04f"
      },
      "source": [
        "!pip install tensorflow_addons\n",
        "import os\n",
        "import numpy as np\n",
        "import matplotlib.pyplot as plt\n",
        "%matplotlib inline\n",
        "import glob\n",
        "import random\n",
        "from PIL import Image\n",
        "import time\n",
        "import tensorflow_addons as tfa\n",
        "import tensorflow as tf\n",
        "from tensorflow.keras.layers import *\n",
        "from tensorflow.keras.preprocessing import image\n",
        "from tensorflow.keras.models import Model\n",
        "from tensorflow.keras.losses import mean_squared_error\n",
        "from tensorflow.keras.optimizers import Adam\n",
        "import keras"
      ],
      "execution_count": 9,
      "outputs": [
        {
          "output_type": "stream",
          "text": [
            "Collecting tensorflow_addons\n",
            "\u001b[?25l  Downloading https://files.pythonhosted.org/packages/66/4b/e893d194e626c24b3df2253066aa418f46a432fdb68250cde14bf9bb0700/tensorflow_addons-0.13.0-cp37-cp37m-manylinux2010_x86_64.whl (679kB)\n",
            "\r\u001b[K     |▌                               | 10kB 19.6MB/s eta 0:00:01\r\u001b[K     |█                               | 20kB 16.4MB/s eta 0:00:01\r\u001b[K     |█▌                              | 30kB 10.8MB/s eta 0:00:01\r\u001b[K     |██                              | 40kB 9.1MB/s eta 0:00:01\r\u001b[K     |██▍                             | 51kB 4.4MB/s eta 0:00:01\r\u001b[K     |███                             | 61kB 4.5MB/s eta 0:00:01\r\u001b[K     |███▍                            | 71kB 5.1MB/s eta 0:00:01\r\u001b[K     |███▉                            | 81kB 5.4MB/s eta 0:00:01\r\u001b[K     |████▍                           | 92kB 5.5MB/s eta 0:00:01\r\u001b[K     |████▉                           | 102kB 4.2MB/s eta 0:00:01\r\u001b[K     |█████▎                          | 112kB 4.2MB/s eta 0:00:01\r\u001b[K     |█████▉                          | 122kB 4.2MB/s eta 0:00:01\r\u001b[K     |██████▎                         | 133kB 4.2MB/s eta 0:00:01\r\u001b[K     |██████▊                         | 143kB 4.2MB/s eta 0:00:01\r\u001b[K     |███████▎                        | 153kB 4.2MB/s eta 0:00:01\r\u001b[K     |███████▊                        | 163kB 4.2MB/s eta 0:00:01\r\u001b[K     |████████▏                       | 174kB 4.2MB/s eta 0:00:01\r\u001b[K     |████████▊                       | 184kB 4.2MB/s eta 0:00:01\r\u001b[K     |█████████▏                      | 194kB 4.2MB/s eta 0:00:01\r\u001b[K     |█████████▋                      | 204kB 4.2MB/s eta 0:00:01\r\u001b[K     |██████████▏                     | 215kB 4.2MB/s eta 0:00:01\r\u001b[K     |██████████▋                     | 225kB 4.2MB/s eta 0:00:01\r\u001b[K     |███████████                     | 235kB 4.2MB/s eta 0:00:01\r\u001b[K     |███████████▋                    | 245kB 4.2MB/s eta 0:00:01\r\u001b[K     |████████████                    | 256kB 4.2MB/s eta 0:00:01\r\u001b[K     |████████████▌                   | 266kB 4.2MB/s eta 0:00:01\r\u001b[K     |█████████████                   | 276kB 4.2MB/s eta 0:00:01\r\u001b[K     |█████████████▌                  | 286kB 4.2MB/s eta 0:00:01\r\u001b[K     |██████████████                  | 296kB 4.2MB/s eta 0:00:01\r\u001b[K     |██████████████▌                 | 307kB 4.2MB/s eta 0:00:01\r\u001b[K     |███████████████                 | 317kB 4.2MB/s eta 0:00:01\r\u001b[K     |███████████████▍                | 327kB 4.2MB/s eta 0:00:01\r\u001b[K     |████████████████                | 337kB 4.2MB/s eta 0:00:01\r\u001b[K     |████████████████▍               | 348kB 4.2MB/s eta 0:00:01\r\u001b[K     |████████████████▉               | 358kB 4.2MB/s eta 0:00:01\r\u001b[K     |█████████████████▍              | 368kB 4.2MB/s eta 0:00:01\r\u001b[K     |█████████████████▉              | 378kB 4.2MB/s eta 0:00:01\r\u001b[K     |██████████████████▎             | 389kB 4.2MB/s eta 0:00:01\r\u001b[K     |██████████████████▉             | 399kB 4.2MB/s eta 0:00:01\r\u001b[K     |███████████████████▎            | 409kB 4.2MB/s eta 0:00:01\r\u001b[K     |███████████████████▊            | 419kB 4.2MB/s eta 0:00:01\r\u001b[K     |████████████████████▎           | 430kB 4.2MB/s eta 0:00:01\r\u001b[K     |████████████████████▊           | 440kB 4.2MB/s eta 0:00:01\r\u001b[K     |█████████████████████▏          | 450kB 4.2MB/s eta 0:00:01\r\u001b[K     |█████████████████████▊          | 460kB 4.2MB/s eta 0:00:01\r\u001b[K     |██████████████████████▏         | 471kB 4.2MB/s eta 0:00:01\r\u001b[K     |██████████████████████▋         | 481kB 4.2MB/s eta 0:00:01\r\u001b[K     |███████████████████████▏        | 491kB 4.2MB/s eta 0:00:01\r\u001b[K     |███████████████████████▋        | 501kB 4.2MB/s eta 0:00:01\r\u001b[K     |████████████████████████        | 512kB 4.2MB/s eta 0:00:01\r\u001b[K     |████████████████████████▋       | 522kB 4.2MB/s eta 0:00:01\r\u001b[K     |█████████████████████████       | 532kB 4.2MB/s eta 0:00:01\r\u001b[K     |█████████████████████████▌      | 542kB 4.2MB/s eta 0:00:01\r\u001b[K     |██████████████████████████      | 552kB 4.2MB/s eta 0:00:01\r\u001b[K     |██████████████████████████▌     | 563kB 4.2MB/s eta 0:00:01\r\u001b[K     |███████████████████████████     | 573kB 4.2MB/s eta 0:00:01\r\u001b[K     |███████████████████████████▌    | 583kB 4.2MB/s eta 0:00:01\r\u001b[K     |████████████████████████████    | 593kB 4.2MB/s eta 0:00:01\r\u001b[K     |████████████████████████████▍   | 604kB 4.2MB/s eta 0:00:01\r\u001b[K     |█████████████████████████████   | 614kB 4.2MB/s eta 0:00:01\r\u001b[K     |█████████████████████████████▍  | 624kB 4.2MB/s eta 0:00:01\r\u001b[K     |█████████████████████████████▉  | 634kB 4.2MB/s eta 0:00:01\r\u001b[K     |██████████████████████████████▍ | 645kB 4.2MB/s eta 0:00:01\r\u001b[K     |██████████████████████████████▉ | 655kB 4.2MB/s eta 0:00:01\r\u001b[K     |███████████████████████████████▎| 665kB 4.2MB/s eta 0:00:01\r\u001b[K     |███████████████████████████████▉| 675kB 4.2MB/s eta 0:00:01\r\u001b[K     |████████████████████████████████| 686kB 4.2MB/s \n",
            "\u001b[?25hRequirement already satisfied: typeguard>=2.7 in /usr/local/lib/python3.7/dist-packages (from tensorflow_addons) (2.7.1)\n",
            "Installing collected packages: tensorflow-addons\n",
            "Successfully installed tensorflow-addons-0.13.0\n"
          ],
          "name": "stdout"
        }
      ]
    },
    {
      "cell_type": "code",
      "metadata": {
        "colab": {
          "base_uri": "https://localhost:8080/"
        },
        "id": "qmET_qcoKk1W",
        "outputId": "7e711ee3-2e64-42c5-91ea-1790d5992ca0"
      },
      "source": [
        "from google.colab import drive\n",
        "drive.mount('/content/drive')"
      ],
      "execution_count": 10,
      "outputs": [
        {
          "output_type": "stream",
          "text": [
            "Drive already mounted at /content/drive; to attempt to forcibly remount, call drive.mount(\"/content/drive\", force_remount=True).\n"
          ],
          "name": "stdout"
        }
      ]
    },
    {
      "cell_type": "code",
      "metadata": {
        "id": "ToQQMyBfK48y"
      },
      "source": [
        "def load_image(img_path):\n",
        "    img = tf.io.read_file(img_path)\n",
        "    #img = tf.io.decode_jpeg(img, channels = 3)\n",
        "    img = tf.io.decode_png(img, channels = 3)\n",
        "    img = tf.image.resize(img, size = (352, 1216), antialias = True)\n",
        "    img = img / 255.0\n",
        "    return img"
      ],
      "execution_count": 11,
      "outputs": []
    },
    {
      "cell_type": "code",
      "metadata": {
        "id": "jtXC4lGNLjF3"
      },
      "source": [
        "def load_airlight(img_path):\n",
        "  air=img_path.split(\"_\")[-1][:-4];\n",
        "  return air"
      ],
      "execution_count": 3,
      "outputs": []
    },
    {
      "cell_type": "code",
      "metadata": {
        "id": "FD7gt2hALmKG"
      },
      "source": [
        "def display_img(model, hazy_img, orig_img):\n",
        "    pred = model(hazy_img)\n",
        "    plt.figure(figsize = (15,15))\n",
        "    \n",
        "    display_list = [hazy_img[0], orig_img[0], pred[0]]\n",
        "    title = ['Hazy Image', 'Ground Truth', 'Dehazed Image']\n",
        "    \n",
        "    for i in range(3):\n",
        "        plt.subplot(1, 3, i+1)\n",
        "        plt.title(title[i])\n",
        "        plt.imshow(display_list[i])\n",
        "        plt.axis('off')\n",
        "        \n",
        "    plt.show()"
      ],
      "execution_count": 4,
      "outputs": []
    },
    {
      "cell_type": "code",
      "metadata": {
        "id": "mVEhNFXILn9G"
      },
      "source": [
        "def data_path(hazy_img_path,percentage=0.8,seed_val=101):\n",
        "    \n",
        "    random.seed(seed_val)\n",
        "    train_img = []\n",
        "    val_img = []\n",
        "    train_air= []\n",
        "    val_air= []\n",
        "    \n",
        "    \n",
        "    #hazy_img = glob.glob(hazy_img_path + '/*.jpg')\n",
        "    hazy_img = glob.glob(hazy_img_path + '/*.png')\n",
        "    n = len(hazy_img)\n",
        "    n1=percentage*n;\n",
        "\n",
        "    random.shuffle(hazy_img)\n",
        "    n=n1;\n",
        "    train_keys = hazy_img[:int(0.9*n)]        #90% data for train, 10% for test\n",
        "    val_keys = hazy_img[int(0.9*n):int(1.0*n)]\n",
        "    #hazy_img=hazy_img[:n]\n",
        "    split_dict = {}\n",
        "    for key in train_keys:\n",
        "        split_dict[key] = 'train'\n",
        "    for key in val_keys:\n",
        "        split_dict[key] = 'val'\n",
        "        \n",
        "    \n",
        "    for img in hazy_img:\n",
        "        air=img.split(\"_\")[-1][:-4];\n",
        "  \n",
        "        try:\n",
        "          if (split_dict[img] == 'train'):\n",
        "              train_air.append(float(air))\n",
        "              train_img.append(img)\n",
        "          else:\n",
        "              val_air.append(float(air))\n",
        "              val_img.append(img)\n",
        "        except KeyError:\n",
        "          pass\n",
        "    return train_img,train_air, val_img,val_air"
      ],
      "execution_count": 12,
      "outputs": []
    },
    {
      "cell_type": "code",
      "metadata": {
        "id": "8viiKUeGLpdO"
      },
      "source": [
        "def dataloader(train_data,train_res, val_data,val_res, batch_size):\n",
        "    print(len(train_data))\n",
        "    train_data_haze = tf.data.Dataset.from_tensor_slices([img for img in train_data]).map(lambda x: load_image(x))\n",
        "    train_data_airlight = tf.data.Dataset.from_tensor_slices([a for a in train_res])\n",
        "    train = tf.data.Dataset.zip((train_data_haze,train_data_airlight)).shuffle(100).batch(batch_size)\n",
        "\n",
        "    val_data_haze = tf.data.Dataset.from_tensor_slices([img for img in val_data]).map(lambda x: load_image(x))\n",
        "    val_data_airlight = tf.data.Dataset.from_tensor_slices([a for a in val_res])\n",
        "    val = tf.data.Dataset.zip((val_data_haze,val_data_airlight)).shuffle(100).batch(batch_size)\n",
        "\n",
        "    \n",
        "\n",
        "    \n",
        "\n",
        "    return train, val"
      ],
      "execution_count": 13,
      "outputs": []
    },
    {
      "cell_type": "code",
      "metadata": {
        "id": "FmOtfz8-LrCm"
      },
      "source": [
        "def build_model(input_shape):\n",
        "    \"\"\"Generates CNN model\n",
        "    :param input_shape (tuple): Shape of input set\n",
        "    :return model: CNN model\n",
        "    \"\"\"\n",
        "\n",
        "    # build network topology\n",
        "    model = keras.Sequential()\n",
        "\n",
        "    # 1st conv layer\n",
        "    model.add(keras.layers.Conv2D(32, (3, 3), activation='relu', input_shape=input_shape))\n",
        "    model.add(keras.layers.MaxPooling2D((3, 3), strides=(2, 2), padding='same'))\n",
        "    model.add(keras.layers.BatchNormalization())\n",
        "\n",
        "    # 2nd conv layer\n",
        "    model.add(keras.layers.Conv2D(16, (3, 3), activation='relu'))\n",
        "    model.add(keras.layers.MaxPooling2D((3, 3), strides=(2, 2), padding='same'))\n",
        "    model.add(keras.layers.BatchNormalization())\n",
        "\n",
        "    # 3rd conv layer\n",
        "    model.add(keras.layers.Conv2D(8, (2, 2), activation='relu'))\n",
        "    model.add(keras.layers.MaxPooling2D((2, 2), strides=(2, 2), padding='same'))\n",
        "    model.add(keras.layers.BatchNormalization())\n",
        "\n",
        "    # flatten output and feed it into dense layer\n",
        "    model.add(keras.layers.Flatten())\n",
        "    \n",
        "    # 1st dense layer\n",
        "    model.add(keras.layers.Dense(512, activation='relu', kernel_regularizer=keras.regularizers.l2(0.01)))\n",
        "    model.add(keras.layers.Dropout(0.6))\n",
        "\n",
        "    # 2nd dense layer\n",
        "    model.add(keras.layers.Dense(512, activation='relu', kernel_regularizer=keras.regularizers.l2(0.01)))\n",
        "    model.add(keras.layers.Dropout(0.5))\n",
        "\n",
        "    # 3rd dense layer\n",
        "    model.add(keras.layers.Dense(64, activation='relu', kernel_regularizer=keras.regularizers.l2(0.001)))\n",
        "    model.add(keras.layers.Dropout(0.2))\n",
        "\n",
        "\n",
        "    # output layer\n",
        "    model.add(keras.layers.Dense(1, activation='relu'))\n",
        "\n",
        "    return model"
      ],
      "execution_count": null,
      "outputs": []
    },
    {
      "cell_type": "code",
      "metadata": {
        "id": "gq6yTG24RfxA"
      },
      "source": [
        "class a_net(tf.keras.Model):\n",
        "  def __init__(self):\n",
        "    super(a_net,self).__init__()\n",
        "    self.conv1=tf.keras.layers.Conv2D(32,3,1,dilation_rate=2,activation='relu')\n",
        "    self.pool1=tf.keras.layers.MaxPooling2D(4)\n",
        "    self.conv2=tf.keras.layers.Conv2D(16,3,1,dilation_rate=1,activation='relu')\n",
        "    self.pool2=tf.keras.layers.MaxPooling2D(4)\n",
        "    self.conv3=tf.keras.layers.Conv2D(8,3,1,dilation_rate=1,activation='relu')\n",
        "    self.pool3=tf.keras.layers.MaxPooling2D(4)\n",
        "    self.flatten=tf.keras.layers.Flatten()\n",
        "    self.dense=tf.keras.layers.Dense(1,activation='relu')\n",
        "\n",
        "    \n",
        "    \n",
        "  def call(self,inputs):   \n",
        "    x=self.conv1(self.pool1(inputs))\n",
        "    x=self.conv2(self.pool2(x))\n",
        "    x=self.conv3(self.pool3(x))\n",
        "    x=self.dense(self.flatten(x))\n",
        "    \n",
        "    return x\n",
        "\n",
        "  def model(self):\n",
        "        x = Input(shape =(352, 1216, 3))\n",
        "        return Model(inputs=[x], outputs=self.call(x))\n",
        "\n",
        "\n",
        "    \n",
        "  def build_graph(self):\n",
        "        x = Input(shape=(352, 1216, 3))\n",
        "        return Model(inputs=[x], outputs=self.call(x))"
      ],
      "execution_count": 14,
      "outputs": []
    },
    {
      "cell_type": "code",
      "metadata": {
        "colab": {
          "base_uri": "https://localhost:8080/",
          "height": 1000
        },
        "id": "NLsZ6lNSUDgC",
        "outputId": "81b73830-996d-40b5-9939-ed518f859ee4"
      },
      "source": [
        "\n",
        "model=a_net()\n",
        "\n",
        "model.model().summary()\n",
        "dot_img_file = '/tmp/model_1.png'\n",
        "tf.keras.utils.plot_model(model.build_graph(), to_file=dot_img_file, show_shapes=True)"
      ],
      "execution_count": 15,
      "outputs": [
        {
          "output_type": "stream",
          "text": [
            "Model: \"model\"\n",
            "_________________________________________________________________\n",
            "Layer (type)                 Output Shape              Param #   \n",
            "=================================================================\n",
            "input_1 (InputLayer)         [(None, 352, 1216, 3)]    0         \n",
            "_________________________________________________________________\n",
            "max_pooling2d (MaxPooling2D) (None, 88, 304, 3)        0         \n",
            "_________________________________________________________________\n",
            "conv2d (Conv2D)              (None, 84, 300, 32)       896       \n",
            "_________________________________________________________________\n",
            "max_pooling2d_1 (MaxPooling2 (None, 21, 75, 32)        0         \n",
            "_________________________________________________________________\n",
            "conv2d_1 (Conv2D)            (None, 19, 73, 16)        4624      \n",
            "_________________________________________________________________\n",
            "max_pooling2d_2 (MaxPooling2 (None, 4, 18, 16)         0         \n",
            "_________________________________________________________________\n",
            "conv2d_2 (Conv2D)            (None, 2, 16, 8)          1160      \n",
            "_________________________________________________________________\n",
            "flatten (Flatten)            (None, 256)               0         \n",
            "_________________________________________________________________\n",
            "dense (Dense)                (None, 1)                 257       \n",
            "=================================================================\n",
            "Total params: 6,937\n",
            "Trainable params: 6,937\n",
            "Non-trainable params: 0\n",
            "_________________________________________________________________\n"
          ],
          "name": "stdout"
        },
        {
          "output_type": "execute_result",
          "data": {
            "image/png": "[encoded data removed]",
            "text/plain": [
              "<IPython.core.display.Image object>"
            ]
          },
          "metadata": {
            "tags": []
          },
          "execution_count": 15
        }
      ]
    },
    {
      "cell_type": "code",
      "metadata": {
        "colab": {
          "base_uri": "https://localhost:8080/"
        },
        "id": "zhw7EtBQGQeC",
        "outputId": "d26c2465-d51d-4c33-f56a-52474eb1c52d"
      },
      "source": [
        "net = build_model([352, 1216, 3])\n",
        "net.summary()"
      ],
      "execution_count": null,
      "outputs": [
        {
          "output_type": "stream",
          "text": [
            "Model: \"sequential\"\n",
            "_________________________________________________________________\n",
            "Layer (type)                 Output Shape              Param #   \n",
            "=================================================================\n",
            "conv2d (Conv2D)              (None, 350, 1214, 32)     896       \n",
            "_________________________________________________________________\n",
            "max_pooling2d (MaxPooling2D) (None, 175, 607, 32)      0         \n",
            "_________________________________________________________________\n",
            "batch_normalization (BatchNo (None, 175, 607, 32)      128       \n",
            "_________________________________________________________________\n",
            "conv2d_1 (Conv2D)            (None, 173, 605, 16)      4624      \n",
            "_________________________________________________________________\n",
            "max_pooling2d_1 (MaxPooling2 (None, 87, 303, 16)       0         \n",
            "_________________________________________________________________\n",
            "batch_normalization_1 (Batch (None, 87, 303, 16)       64        \n",
            "_________________________________________________________________\n",
            "conv2d_2 (Conv2D)            (None, 86, 302, 8)        520       \n",
            "_________________________________________________________________\n",
            "max_pooling2d_2 (MaxPooling2 (None, 43, 151, 8)        0         \n",
            "_________________________________________________________________\n",
            "batch_normalization_2 (Batch (None, 43, 151, 8)        32        \n",
            "_________________________________________________________________\n",
            "flatten (Flatten)            (None, 51944)             0         \n",
            "_________________________________________________________________\n",
            "dense (Dense)                (None, 512)               26595840  \n",
            "_________________________________________________________________\n",
            "dropout (Dropout)            (None, 512)               0         \n",
            "_________________________________________________________________\n",
            "dense_1 (Dense)              (None, 512)               262656    \n",
            "_________________________________________________________________\n",
            "dropout_1 (Dropout)          (None, 512)               0         \n",
            "_________________________________________________________________\n",
            "dense_2 (Dense)              (None, 64)                32832     \n",
            "_________________________________________________________________\n",
            "dropout_2 (Dropout)          (None, 64)                0         \n",
            "_________________________________________________________________\n",
            "dense_3 (Dense)              (None, 1)                 65        \n",
            "=================================================================\n",
            "Total params: 26,897,657\n",
            "Trainable params: 26,897,545\n",
            "Non-trainable params: 112\n",
            "_________________________________________________________________\n"
          ],
          "name": "stdout"
        }
      ]
    },
    {
      "cell_type": "code",
      "metadata": {
        "colab": {
          "base_uri": "https://localhost:8080/"
        },
        "id": "Fe63jIbLL4lO",
        "outputId": "6631c45e-81b5-43e7-ddb0-cb84fedab954"
      },
      "source": [
        "# Hyperparameters\n",
        "epochs = 20\n",
        "batch_size = 64\n",
        "k_init = tf.keras.initializers.random_normal(stddev=0.008, seed = 101)      \n",
        "regularizer = tf.keras.regularizers.L2(1e-4)\n",
        "b_init = tf.constant_initializer()\n",
        "\n",
        "train_data,train_res, val_data,val_res = data_path(hazy_img_path = '/content/drive/MyDrive/kitti/hazy',percentage=1)\n",
        "train, val = dataloader(train_data,train_res, val_data,val_res, batch_size)\n",
        "\n",
        "optimizer = Adam(learning_rate = 1e-5)\n",
        "#net = build_model([352, 1216, 3])\n",
        "train_loss_tracker = tf.keras.metrics.MeanSquaredError(name = \"train loss\")\n",
        "val_loss_tracker = tf.keras.metrics.MeanSquaredError(name = \"val loss\")"
      ],
      "execution_count": 20,
      "outputs": [
        {
          "output_type": "stream",
          "text": [
            "5400\n"
          ],
          "name": "stdout"
        }
      ]
    },
    {
      "cell_type": "code",
      "metadata": {
        "id": "xKcWZ0IxMQoX"
      },
      "source": [
        "def train_model(epochs, train, val, net, train_loss_tracker, val_loss_tracker, optimizer):\n",
        "    \n",
        "    for epoch in range(epochs):\n",
        "        \n",
        "        print(\"\\nStart of epoch %d\" % (epoch,), end=' ')\n",
        "        start_time_epoch = time.time()\n",
        "        start_time_step = time.time()\n",
        "\n",
        "        for step, (train_batch_haze, train_res) in enumerate(train):\n",
        "\n",
        "            with tf.GradientTape() as tape:\n",
        "\n",
        "                train_logits = net(train_batch_haze, training = True)\n",
        "                #print(train_logits.shape)\n",
        "                train_res=np.expand_dims(train_res,axis=-1)\n",
        "                loss = mean_squared_error(train_res, train_logits)\n",
        "\n",
        "            grads = tape.gradient(loss, net.trainable_weights)\n",
        "            optimizer.apply_gradients(zip(grads, net.trainable_weights))\n",
        "            \n",
        "            train_loss_tracker.update_state(train_res, train_logits)\n",
        "            if step == 0:\n",
        "                print('[', end='')\n",
        "            if step % 64 == 0:\n",
        "                print('=', end='')\n",
        "        \n",
        "        print(']', end='')\n",
        "        print('  -  ', end='')\n",
        "        print('Training Loss: %.4f' % (train_loss_tracker.result()), end='')\n",
        "        \n",
        "        for step, (val_batch_haze, val_res) in enumerate(val):\n",
        "            val_logits = net(val_batch_haze, training = False)\n",
        "            val_res=np.expand_dims(val_res,axis=-1)\n",
        "            #print(val_logits.shape)\n",
        "            #print(\"---------------------\")\n",
        "            val_loss_tracker.update_state(val_res, val_logits)\n",
        "            #if step % 64 ==0:\n",
        "                #display_img(net, val_batch_haze, val_batch_orig)\n",
        "        print('  -  ', end='')\n",
        "        print('Validation Loss: %.4f' % (val_loss_tracker.result()), end='')\n",
        "        print('  -  ', end=' ')\n",
        "        print(\"Time taken: %.2fs\" % (time.time() - start_time_epoch))\n",
        "        \n",
        "        train_loss_tracker.reset_states()\n",
        "        val_loss_tracker.reset_states()"
      ],
      "execution_count": 21,
      "outputs": []
    },
    {
      "cell_type": "code",
      "metadata": {
        "colab": {
          "base_uri": "https://localhost:8080/"
        },
        "id": "wCp2ri9rMVfz",
        "outputId": "9eb8dd2d-5e80-49f4-ff25-4b44db182346"
      },
      "source": [
        "%%time\n",
        "train_model(2, train, val, model, train_loss_tracker, val_loss_tracker, tf.keras.optimizers.SGD(learning_rate = 1e-12))"
      ],
      "execution_count": 49,
      "outputs": [
        {
          "output_type": "stream",
          "text": [
            "\n",
            "Start of epoch 0 [==]  -  Training Loss: 0.0191  -  Validation Loss: 0.0220  -   Time taken: 170.89s\n",
            "\n",
            "Start of epoch 1 [==]  -  Training Loss: 0.0191  -  Validation Loss: 0.0220  -   Time taken: 171.24s\n",
            "CPU times: user 5min 18s, sys: 10.3 s, total: 5min 29s\n",
            "Wall time: 5min 42s\n"
          ],
          "name": "stdout"
        }
      ]
    },
    {
      "cell_type": "code",
      "metadata": {
        "colab": {
          "base_uri": "https://localhost:8080/"
        },
        "id": "oKk6LtK2eqZ_",
        "outputId": "ac42e0fe-6328-4c8c-994a-0a79aa390509"
      },
      "source": [
        "model.save_weights('/content/drive/MyDrive/nets/prelim_model/simple_a_net/weights')\n",
        "model.save('/content/drive/MyDrive/nets/prelim_model/simple_a_net')"
      ],
      "execution_count": 50,
      "outputs": [
        {
          "output_type": "stream",
          "text": [
            "INFO:tensorflow:Assets written to: /content/drive/MyDrive/nets/prelim_model/simple_a_net/assets\n"
          ],
          "name": "stdout"
        }
      ]
    },
    {
      "cell_type": "code",
      "metadata": {
        "id": "dfT3lnhRN5Qe"
      },
      "source": [
        "optimizer = Adam(learning_rate = 1e-3)"
      ],
      "execution_count": null,
      "outputs": []
    },
    {
      "cell_type": "code",
      "metadata": {
        "id": "L9MQ0jv7fmEu"
      },
      "source": [
        ""
      ],
      "execution_count": null,
      "outputs": []
    },
    {
      "cell_type": "code",
      "metadata": {
        "colab": {
          "base_uri": "https://localhost:8080/",
          "height": 366
        },
        "id": "MI6N-wetdS5z",
        "outputId": "93226c1f-121d-47d7-ef1d-db94393aa247"
      },
      "source": [
        "%%time\n",
        "train_model(20, train, val, net, train_loss_tracker, val_loss_tracker, optimizer)"
      ],
      "execution_count": 24,
      "outputs": [
        {
          "output_type": "error",
          "ename": "NameError",
          "evalue": "ignored",
          "traceback": [
            "\u001b[0;31m---------------------------------------------------------------------------\u001b[0m",
            "\u001b[0;31mNameError\u001b[0m                                 Traceback (most recent call last)",
            "\u001b[0;32m<ipython-input-24-74218c29ef1c>\u001b[0m in \u001b[0;36m<module>\u001b[0;34m()\u001b[0m\n\u001b[0;32m----> 1\u001b[0;31m \u001b[0mget_ipython\u001b[0m\u001b[0;34m(\u001b[0m\u001b[0;34m)\u001b[0m\u001b[0;34m.\u001b[0m\u001b[0mrun_cell_magic\u001b[0m\u001b[0;34m(\u001b[0m\u001b[0;34m'time'\u001b[0m\u001b[0;34m,\u001b[0m \u001b[0;34m''\u001b[0m\u001b[0;34m,\u001b[0m \u001b[0;34m'train_model(20, train, val, net, train_loss_tracker, val_loss_tracker, optimizer)'\u001b[0m\u001b[0;34m)\u001b[0m\u001b[0;34m\u001b[0m\u001b[0;34m\u001b[0m\u001b[0m\n\u001b[0m",
            "\u001b[0;32m/usr/local/lib/python3.7/dist-packages/IPython/core/interactiveshell.py\u001b[0m in \u001b[0;36mrun_cell_magic\u001b[0;34m(self, magic_name, line, cell)\u001b[0m\n\u001b[1;32m   2115\u001b[0m             \u001b[0mmagic_arg_s\u001b[0m \u001b[0;34m=\u001b[0m \u001b[0mself\u001b[0m\u001b[0;34m.\u001b[0m\u001b[0mvar_expand\u001b[0m\u001b[0;34m(\u001b[0m\u001b[0mline\u001b[0m\u001b[0;34m,\u001b[0m \u001b[0mstack_depth\u001b[0m\u001b[0;34m)\u001b[0m\u001b[0;34m\u001b[0m\u001b[0;34m\u001b[0m\u001b[0m\n\u001b[1;32m   2116\u001b[0m             \u001b[0;32mwith\u001b[0m \u001b[0mself\u001b[0m\u001b[0;34m.\u001b[0m\u001b[0mbuiltin_trap\u001b[0m\u001b[0;34m:\u001b[0m\u001b[0;34m\u001b[0m\u001b[0;34m\u001b[0m\u001b[0m\n\u001b[0;32m-> 2117\u001b[0;31m                 \u001b[0mresult\u001b[0m \u001b[0;34m=\u001b[0m \u001b[0mfn\u001b[0m\u001b[0;34m(\u001b[0m\u001b[0mmagic_arg_s\u001b[0m\u001b[0;34m,\u001b[0m \u001b[0mcell\u001b[0m\u001b[0;34m)\u001b[0m\u001b[0;34m\u001b[0m\u001b[0;34m\u001b[0m\u001b[0m\n\u001b[0m\u001b[1;32m   2118\u001b[0m             \u001b[0;32mreturn\u001b[0m \u001b[0mresult\u001b[0m\u001b[0;34m\u001b[0m\u001b[0;34m\u001b[0m\u001b[0m\n\u001b[1;32m   2119\u001b[0m \u001b[0;34m\u001b[0m\u001b[0m\n",
            "\u001b[0;32m<decorator-gen-53>\u001b[0m in \u001b[0;36mtime\u001b[0;34m(self, line, cell, local_ns)\u001b[0m\n",
            "\u001b[0;32m/usr/local/lib/python3.7/dist-packages/IPython/core/magic.py\u001b[0m in \u001b[0;36m<lambda>\u001b[0;34m(f, *a, **k)\u001b[0m\n\u001b[1;32m    186\u001b[0m     \u001b[0;31m# but it's overkill for just that one bit of state.\u001b[0m\u001b[0;34m\u001b[0m\u001b[0;34m\u001b[0m\u001b[0;34m\u001b[0m\u001b[0m\n\u001b[1;32m    187\u001b[0m     \u001b[0;32mdef\u001b[0m \u001b[0mmagic_deco\u001b[0m\u001b[0;34m(\u001b[0m\u001b[0marg\u001b[0m\u001b[0;34m)\u001b[0m\u001b[0;34m:\u001b[0m\u001b[0;34m\u001b[0m\u001b[0;34m\u001b[0m\u001b[0m\n\u001b[0;32m--> 188\u001b[0;31m         \u001b[0mcall\u001b[0m \u001b[0;34m=\u001b[0m \u001b[0;32mlambda\u001b[0m \u001b[0mf\u001b[0m\u001b[0;34m,\u001b[0m \u001b[0;34m*\u001b[0m\u001b[0ma\u001b[0m\u001b[0;34m,\u001b[0m \u001b[0;34m**\u001b[0m\u001b[0mk\u001b[0m\u001b[0;34m:\u001b[0m \u001b[0mf\u001b[0m\u001b[0;34m(\u001b[0m\u001b[0;34m*\u001b[0m\u001b[0ma\u001b[0m\u001b[0;34m,\u001b[0m \u001b[0;34m**\u001b[0m\u001b[0mk\u001b[0m\u001b[0;34m)\u001b[0m\u001b[0;34m\u001b[0m\u001b[0;34m\u001b[0m\u001b[0m\n\u001b[0m\u001b[1;32m    189\u001b[0m \u001b[0;34m\u001b[0m\u001b[0m\n\u001b[1;32m    190\u001b[0m         \u001b[0;32mif\u001b[0m \u001b[0mcallable\u001b[0m\u001b[0;34m(\u001b[0m\u001b[0marg\u001b[0m\u001b[0;34m)\u001b[0m\u001b[0;34m:\u001b[0m\u001b[0;34m\u001b[0m\u001b[0;34m\u001b[0m\u001b[0m\n",
            "\u001b[0;32m/usr/local/lib/python3.7/dist-packages/IPython/core/magics/execution.py\u001b[0m in \u001b[0;36mtime\u001b[0;34m(self, line, cell, local_ns)\u001b[0m\n\u001b[1;32m   1187\u001b[0m         \u001b[0;32mif\u001b[0m \u001b[0mmode\u001b[0m\u001b[0;34m==\u001b[0m\u001b[0;34m'eval'\u001b[0m\u001b[0;34m:\u001b[0m\u001b[0;34m\u001b[0m\u001b[0;34m\u001b[0m\u001b[0m\n\u001b[1;32m   1188\u001b[0m             \u001b[0mst\u001b[0m \u001b[0;34m=\u001b[0m \u001b[0mclock2\u001b[0m\u001b[0;34m(\u001b[0m\u001b[0;34m)\u001b[0m\u001b[0;34m\u001b[0m\u001b[0;34m\u001b[0m\u001b[0m\n\u001b[0;32m-> 1189\u001b[0;31m             \u001b[0mout\u001b[0m \u001b[0;34m=\u001b[0m \u001b[0meval\u001b[0m\u001b[0;34m(\u001b[0m\u001b[0mcode\u001b[0m\u001b[0;34m,\u001b[0m \u001b[0mglob\u001b[0m\u001b[0;34m,\u001b[0m \u001b[0mlocal_ns\u001b[0m\u001b[0;34m)\u001b[0m\u001b[0;34m\u001b[0m\u001b[0;34m\u001b[0m\u001b[0m\n\u001b[0m\u001b[1;32m   1190\u001b[0m             \u001b[0mend\u001b[0m \u001b[0;34m=\u001b[0m \u001b[0mclock2\u001b[0m\u001b[0;34m(\u001b[0m\u001b[0;34m)\u001b[0m\u001b[0;34m\u001b[0m\u001b[0;34m\u001b[0m\u001b[0m\n\u001b[1;32m   1191\u001b[0m         \u001b[0;32melse\u001b[0m\u001b[0;34m:\u001b[0m\u001b[0;34m\u001b[0m\u001b[0;34m\u001b[0m\u001b[0m\n",
            "\u001b[0;32m<timed eval>\u001b[0m in \u001b[0;36m<module>\u001b[0;34m()\u001b[0m\n",
            "\u001b[0;31mNameError\u001b[0m: name 'net' is not defined"
          ]
        }
      ]
    },
    {
      "cell_type": "code",
      "metadata": {
        "id": "ZRt5EBwRdWEZ"
      },
      "source": [
        "optimizer = Adam(learning_rate = 1e-7)"
      ],
      "execution_count": null,
      "outputs": []
    },
    {
      "cell_type": "code",
      "metadata": {
        "colab": {
          "base_uri": "https://localhost:8080/"
        },
        "id": "1U0ZRgqg0vww",
        "outputId": "20e4e2ce-5e59-41d0-e73a-da0a770ccaa9"
      },
      "source": [
        "%%time\n",
        "train_model(20, train, val, net, train_loss_tracker, val_loss_tracker, optimizer)"
      ],
      "execution_count": null,
      "outputs": [
        {
          "output_type": "stream",
          "text": [
            "\n",
            "Start of epoch 0 [===]  -  Training Loss: 0.0286  -  Validation Loss: 0.0271  -   Time taken: 172.55s\n",
            "\n",
            "Start of epoch 1 [===]  -  Training Loss: 0.0286  -  Validation Loss: 0.0271  -   Time taken: 171.65s\n",
            "\n",
            "Start of epoch 2 [===]  -  Training Loss: 0.0286  -  Validation Loss: 0.0271  -   Time taken: 171.25s\n",
            "\n",
            "Start of epoch 3 [===]  -  Training Loss: 0.0286  -  Validation Loss: 0.0271  -   Time taken: 171.01s\n",
            "\n",
            "Start of epoch 4 [===]  -  Training Loss: 0.0286  -  Validation Loss: 0.0271  -   Time taken: 172.48s\n",
            "\n",
            "Start of epoch 5 [===]  -  Training Loss: 0.0286  -  Validation Loss: 0.0271  -   Time taken: 171.11s\n",
            "\n",
            "Start of epoch 6 [===]  -  Training Loss: 0.0286  -  Validation Loss: 0.0271  -   Time taken: 171.05s\n",
            "\n",
            "Start of epoch 7 [===]  -  Training Loss: 0.0286  -  Validation Loss: 0.0271  -   Time taken: 170.93s\n",
            "\n",
            "Start of epoch 8 [===]  -  Training Loss: 0.0286  -  Validation Loss: 0.0271  -   Time taken: 172.29s\n",
            "\n",
            "Start of epoch 9 [===]  -  Training Loss: 0.0286  -  Validation Loss: 0.0271  -   Time taken: 170.68s\n",
            "\n",
            "Start of epoch 10 [===]  -  Training Loss: 0.0286  -  Validation Loss: 0.0271  -   Time taken: 170.76s\n",
            "\n",
            "Start of epoch 11 [===]  -  Training Loss: 0.0286  -  Validation Loss: 0.0271  -   Time taken: 171.08s\n",
            "\n",
            "Start of epoch 12 [===]  -  Training Loss: 0.0286  -  Validation Loss: 0.0271  -   Time taken: 171.79s\n",
            "\n",
            "Start of epoch 13 [===]  -  Training Loss: 0.0286  -  Validation Loss: 0.0271  -   Time taken: 170.76s\n",
            "\n",
            "Start of epoch 14 [===]  -  Training Loss: 0.0286  -  Validation Loss: 0.0271  -   Time taken: 171.83s\n",
            "\n",
            "Start of epoch 15 [===]  -  Training Loss: 0.0286  -  Validation Loss: 0.0271  -   Time taken: 170.97s\n",
            "\n",
            "Start of epoch 16 [===]  -  Training Loss: 0.0286  -  Validation Loss: 0.0271  -   Time taken: 170.93s\n",
            "\n",
            "Start of epoch 17 [===]  -  Training Loss: 0.0286  -  Validation Loss: 0.0271  -   Time taken: 171.35s\n",
            "\n",
            "Start of epoch 18 [===]  -  Training Loss: 0.0286  -  Validation Loss: 0.0271  -   Time taken: 171.23s\n",
            "\n",
            "Start of epoch 19 [===]  -  Training Loss: 0.0286  -  Validation Loss: 0.0271  -   Time taken: 170.94s\n",
            "CPU times: user 46min 25s, sys: 1min 16s, total: 47min 41s\n",
            "Wall time: 57min 6s\n"
          ],
          "name": "stdout"
        }
      ]
    },
    {
      "cell_type": "code",
      "metadata": {
        "colab": {
          "base_uri": "https://localhost:8080/"
        },
        "id": "KBNkRjJN0yZX",
        "outputId": "5433c23b-5a40-482e-b5c6-005442fa73c4"
      },
      "source": [
        "net.save('/content/drive/MyDrive/nets/prelim_model/a_net/0.0271')\n",
        "net.save_weights('/content/drive/MyDrive/nets/prelim_model/a_net/weights/0.0271')"
      ],
      "execution_count": null,
      "outputs": [
        {
          "output_type": "stream",
          "text": [
            "INFO:tensorflow:Assets written to: /content/drive/MyDrive/nets/prelim_model/a_net/0.0271/assets\n"
          ],
          "name": "stdout"
        }
      ]
    },
    {
      "cell_type": "code",
      "metadata": {
        "id": "VRHdytLfHmWf",
        "colab": {
          "base_uri": "https://localhost:8080/"
        },
        "outputId": "69df6310-2993-47a1-e356-0c8dbddd6152"
      },
      "source": [
        "net = build_model([352, 1216, 3])\n",
        "net.load_weights('/content/drive/MyDrive/nets/prelim_model/a_net/weights/0.0271')"
      ],
      "execution_count": null,
      "outputs": [
        {
          "output_type": "execute_result",
          "data": {
            "text/plain": [
              "<tensorflow.python.training.tracking.util.CheckpointLoadStatus at 0x7fd1c6af0e50>"
            ]
          },
          "metadata": {
            "tags": []
          },
          "execution_count": 31
        }
      ]
    },
    {
      "cell_type": "code",
      "metadata": {
        "id": "W1leVG-3FN3f"
      },
      "source": [
        "a=load_image('/content/drive/MyDrive/kitti/hazy/0000000005_14_0.81059.png')"
      ],
      "execution_count": 54,
      "outputs": []
    },
    {
      "cell_type": "code",
      "metadata": {
        "colab": {
          "base_uri": "https://localhost:8080/"
        },
        "id": "iXNpGb8nFhT-",
        "outputId": "ad9504c6-1f6f-4387-f57f-aec76801db62"
      },
      "source": [
        "model.predict(tf.expand_dims(a,axis=0))"
      ],
      "execution_count": 55,
      "outputs": [
        {
          "output_type": "execute_result",
          "data": {
            "text/plain": [
              "array([[0.8153625]], dtype=float32)"
            ]
          },
          "metadata": {
            "tags": []
          },
          "execution_count": 55
        }
      ]
    },
    {
      "cell_type": "code",
      "metadata": {
        "colab": {
          "base_uri": "https://localhost:8080/"
        },
        "id": "QrWCGUVDFk4d",
        "outputId": "5d87abfb-cc7a-4288-fcb4-b9ca2e39dc40"
      },
      "source": [
        "a.shape"
      ],
      "execution_count": null,
      "outputs": [
        {
          "output_type": "execute_result",
          "data": {
            "text/plain": [
              "TensorShape([352, 1216, 3])"
            ]
          },
          "metadata": {
            "tags": []
          },
          "execution_count": 12
        }
      ]
    },
    {
      "cell_type": "code",
      "metadata": {
        "id": "PpC10hR_F5uw"
      },
      "source": [
        ""
      ],
      "execution_count": null,
      "outputs": []
    }
  ]
}