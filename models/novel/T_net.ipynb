{
  "nbformat": 4,
  "nbformat_minor": 0,
  "metadata": {
    "colab": {
      "name": "T_net.ipynb",
      "provenance": [],
      "collapsed_sections": [],
      "machine_shape": "hm",
      "include_colab_link": true
    },
    "kernelspec": {
      "display_name": "Python 3",
      "name": "python3"
    },
    "language_info": {
      "name": "python"
    },
    "accelerator": "GPU"
  },
  "cells": [
    {
      "cell_type": "markdown",
      "metadata": {
        "id": "view-in-github",
        "colab_type": "text"
      },
      "source": [
        "<a href=\"https://colab.research.google.com/github/abubakrsiddq/ImageDehazing/blob/main/models/novel/T_net.ipynb\" target=\"_parent\"><img src=\"https://colab.research.google.com/assets/colab-badge.svg\" alt=\"Open In Colab\"/></a>"
      ]
    },
    {
      "cell_type": "code",
      "metadata": {
        "id": "icYwoeTy4FhA"
      },
      "source": [
        "import os\n",
        "import numpy as np\n",
        "import matplotlib.pyplot as plt\n",
        "%matplotlib inline\n",
        "import glob\n",
        "import random\n",
        "from PIL import Image\n",
        "import time\n",
        "import datetime\n",
        "import math\n",
        "\n",
        "import tensorflow as tf\n",
        "from tensorflow.keras.layers import *\n",
        "from tensorflow.keras.models import Model\n",
        "from tensorflow.keras.losses import mean_squared_error\n",
        "from tensorflow.keras.optimizers import Adam\n",
        "#from keras.callbacks import ModelCheckpoint\n",
        "from keras.models import load_model"
      ],
      "execution_count": 1,
      "outputs": []
    },
    {
      "cell_type": "markdown",
      "metadata": {
        "id": "c7sIVsVC0Lac"
      },
      "source": [
        ""
      ]
    },
    {
      "cell_type": "code",
      "metadata": {
        "colab": {
          "base_uri": "https://localhost:8080/"
        },
        "id": "UdoGLras4Iwy",
        "outputId": "364f9a7c-7364-4be7-a350-b854604f0dae"
      },
      "source": [
        "from google.colab import drive\n",
        "drive.mount('/content/drive')"
      ],
      "execution_count": 2,
      "outputs": [
        {
          "output_type": "stream",
          "text": [
            "Mounted at /content/drive\n"
          ],
          "name": "stdout"
        }
      ]
    },
    {
      "cell_type": "code",
      "metadata": {
        "id": "DUTLzaTM4PrJ"
      },
      "source": [
        "def load_image_jpg(img_path):\n",
        "    img = tf.io.read_file(img_path)\n",
        "    img = tf.io.decode_jpeg(img, channels = 3)\n",
        "    img = tf.image.resize(img, size = (352 ,1216), antialias = True)\n",
        "    img = img / 255.0\n",
        "    return img"
      ],
      "execution_count": 3,
      "outputs": []
    },
    {
      "cell_type": "code",
      "metadata": {
        "id": "POjYb-7V_FJu"
      },
      "source": [
        "def load_image_png(img_path):\n",
        "    img = tf.io.read_file(img_path)\n",
        "    img = tf.io.decode_png(img, channels = 3)\n",
        "    img = tf.image.resize(img, size = (352 , 1216), antialias = True)\n",
        "    img = img / 255.0\n",
        "    return img"
      ],
      "execution_count": 4,
      "outputs": []
    },
    {
      "cell_type": "code",
      "metadata": {
        "id": "ABOVnpnR4W9x"
      },
      "source": [
        "def dataset_preposses(orig_img_path='/content/drive/MyDrive/generated_dataset/trans',hazy_img_path='/content/drive/MyDrive/generated_dataset/hazy',percentage=0.1,validation_size=200,test_size=64,seed_val=200):\n",
        "    train_img = []\n",
        "    val_img = []\n",
        "    \n",
        "    orig_img = glob.glob(orig_img_path + '/*.jpg')\n",
        "    n = len(orig_img)\n",
        "    random.shuffle(orig_img)\n",
        "    red_keys=orig_img[:]                                 #redundant keys to avoid key error\n",
        "    train_keys = orig_img[:int(0.9*n*percentage)]\n",
        "    #print(len(train_keys))\n",
        "    val_keys = orig_img[-int(0.1*n*percentage):]\n",
        "    #print(len(val_keys))\n",
        "    split_dict = {}\n",
        "    for key in red_keys:\n",
        "      split_dict[key]='red'\n",
        "    for key in train_keys:\n",
        "      split_dict[key] = 'train'\n",
        "    for key in val_keys:\n",
        "      split_dict[key] = 'val'\n",
        "      \n",
        "    hazy_img = glob.glob(hazy_img_path + '/*.png')\n",
        "    for img in hazy_img:\n",
        "      img_name = img.split('/')[-1][:-4]\n",
        "      orig_path = orig_img_path + '/' + img_name+'.jpg'\n",
        "      if (split_dict[orig_path] == 'train'):\n",
        "        train_img.append([img, orig_path])\n",
        "      elif (split_dict[orig_path] == 'val'):\n",
        "        val_img.append([img, orig_path])\n",
        "      \n",
        "\n",
        "    return train_img, val_img\n",
        "\n",
        "def gen_dataset(ar):\n",
        "  '''\n",
        "  parameters\n",
        "  list of paths\n",
        "  return\n",
        "  list with gt attached \n",
        "  '''\n",
        "  #orig_path='/content/drive/MyDrive/generated_dataset/trans'\n",
        "  #haze_pth='/content/drive/MyDrive/generated_dataset/hazy'\n",
        "  lst=[]\n",
        "  for i in ar:\n",
        "    name=i.split('/')[-1].split('_')[0]\n",
        "    pthlist=[i,orig_path+'/'+name+'.jpg']\n",
        "    lst.append(pthlist)\n",
        "  return lst\n",
        "\n",
        "def data_path(orig_img_path = './drive/MyDrive/reside/archive/clear_images', hazy_img_path = './drive/MyDrive/reside/archive/haze'):\n",
        "  \n",
        "  (a,b)=dataset_preposses(orig_path=orig_img_path,haze_path=hazy_img_path)\n",
        "  a=gen_dataset(a)\n",
        "  b=gen_dataset(b)\n",
        "  return a,b"
      ],
      "execution_count": 5,
      "outputs": []
    },
    {
      "cell_type": "code",
      "metadata": {
        "id": "Jqt9E8jm4YxZ"
      },
      "source": [
        "def dataloader(train_data, val_data, batch_size):\n",
        "    print(len(train_data))\n",
        "    train_data_orig = tf.data.Dataset.from_tensor_slices([img[1] for img in train_data]).map(lambda x: load_image_jpg(x))\n",
        "    train_data_haze = tf.data.Dataset.from_tensor_slices([img[0] for img in train_data]).map(lambda x: load_image_png(x))\n",
        "    train = tf.data.Dataset.zip((train_data_haze, train_data_orig)).shuffle(buffer_size=100).batch(batch_size)\n",
        "    \n",
        "    val_data_orig = tf.data.Dataset.from_tensor_slices([img[1] for img in val_data]).map(lambda x: load_image_jpg(x))\n",
        "    val_data_haze = tf.data.Dataset.from_tensor_slices([img[0] for img in val_data]).map(lambda x: load_image_png(x))\n",
        "    val = tf.data.Dataset.zip((val_data_haze, val_data_orig)).shuffle(buffer_size=100).batch(batch_size)\n",
        "    \n",
        "    return train, val"
      ],
      "execution_count": 6,
      "outputs": []
    },
    {
      "cell_type": "code",
      "metadata": {
        "id": "fanxzq1p4mP5"
      },
      "source": [
        "def display_img(model, hazy_img, orig_img):\n",
        "    \n",
        "    dehazed_img = model(hazy_img)\n",
        "    #dehazed_img=np.squeeze(dehazed_img,axis=-1)\n",
        "    #dehazed_img_size=dehazed_img.shape\n",
        "    #dehazed_img=np.resize(dehazed_img,(dehazed_img_size[0],dehazed_img_size[1],3))\n",
        "    plt.figure(figsize = (15,15))\n",
        "    \n",
        "    display_list = [hazy_img[0], orig_img[0], dehazed_img[0]]\n",
        "    title = ['Hazy Image', 'Ground Truth trans', 'generated trans']\n",
        "    \n",
        "    for i in range(3):\n",
        "        plt.subplot(3, 1, i+1)\n",
        "        plt.title(title[i])\n",
        "        #if(i==2):\n",
        "        #  plt.imshow(display_list[i],cmap='gray')  \n",
        "        #else:\n",
        "        plt.imshow(display_list[i])\n",
        "        plt.axis('off')\n",
        "        directory='/content/drive/MyDrive/Test/padCheck'\n",
        "        os.chdir(directory)\n",
        "        filename=str(i)+'.jpg'\n",
        "        #tf.keras.preprocessing.image.save_img(filename,display_list[i])\n",
        "        \n",
        "    plt.show()"
      ],
      "execution_count": 7,
      "outputs": []
    },
    {
      "cell_type": "code",
      "metadata": {
        "id": "V1SPxuo_4nsg"
      },
      "source": [
        "model1=load_model('/content/drive/MyDrive/nets/modified_t_net/',compile=False)\n",
        "\n",
        "class T_net(tf.keras.Model):\n",
        "  def __init__(self):\n",
        "    super(T_net,self).__init__()\n",
        "    self.base_model=model1\n",
        "    self.resize=tf.keras.layers.experimental.preprocessing.Resizing(352,1216, interpolation='bilinear')\n",
        "    self.conv1 = Conv2D(filters = 3, kernel_size = 3, strides = 1, padding = 'same', use_bias = True,\n",
        "                   kernel_initializer = tf.random_normal_initializer(stddev = 0.02), kernel_regularizer = tf.keras.regularizers.l2(1e-2))\n",
        "    #self.conv2 = Conv2D(filters = 1, kernel_size = 3, strides = 1, padding = 'same', use_bias = True,\n",
        "    #               kernel_initializer = tf.random_normal_initializer(stddev = 0.02), kernel_regularizer = tf.keras.regularizers.l2(1e-2))\n",
        "\n",
        "    \n",
        "  def call(self,inputs):   \n",
        "    #inputs = tf.keras.Input(shape = [413,550,3])\n",
        "    #pad=tf.keras.layers.ZeroPadding2D(padding=(1, 1))(inputs)\n",
        "    #atm=self.get_dark_channel(inputs,15)\n",
        "    #atm=self.atmlight(inputs,atm)\n",
        "\n",
        "\n",
        "    \n",
        "\n",
        "    inputs=self.base_model(inputs)\n",
        "    inputs=self.resize(inputs)\n",
        "    conv1 = self.conv1(inputs)\n",
        "    \n",
        "    #conv2 = self.conv2(conv1)\n",
        "    \n",
        "    \n",
        "    return conv1\n",
        "\n",
        "  def model(self):\n",
        "        x = Input(shape =(352, 1216, 3))\n",
        "        return Model(inputs=[x], outputs=self.call(x))\n",
        "\n",
        "  #def updt(self):\n",
        "  #      self.conv1.trainable = False\n",
        "  #      self.conv2.trainable = False\n",
        "  #      self.conv3.trainable = False\n",
        "\n",
        "\n",
        "  #def __str__(self):\n",
        "  #    return \"\\nd1:{0}\\nd2:{1}\".format(self.conv4.trainable, self.conv5.trainable)\n",
        "    \n",
        "\n",
        "    \n",
        "  def build_graph(self):\n",
        "        x = Input(shape=(352, 1216, 3))\n",
        "        return Model(inputs=[x], outputs=self.call(x))\n"
      ],
      "execution_count": 8,
      "outputs": []
    },
    {
      "cell_type": "code",
      "metadata": {
        "colab": {
          "base_uri": "https://localhost:8080/",
          "height": 700
        },
        "id": "rvAnXihJwelo",
        "outputId": "031716df-82fd-4a69-b9de-31bb4f82730f"
      },
      "source": [
        "\n",
        "\n",
        "model=T_net()\n",
        "\n",
        "model.model().summary()\n",
        "dot_img_file = '/tmp/model_1.png'\n",
        "tf.keras.utils.plot_model(model.build_graph(), to_file=dot_img_file, show_shapes=True)\n",
        "\n"
      ],
      "execution_count": 9,
      "outputs": [
        {
          "output_type": "stream",
          "text": [
            "Model: \"model\"\n",
            "_________________________________________________________________\n",
            "Layer (type)                 Output Shape              Param #   \n",
            "=================================================================\n",
            "input_1 (InputLayer)         [(None, 352, 1216, 3)]    0         \n",
            "_________________________________________________________________\n",
            "model_1 (Functional)         (None, None, None, 1)     42816089  \n",
            "_________________________________________________________________\n",
            "resizing (Resizing)          (None, 352, 1216, 1)      0         \n",
            "_________________________________________________________________\n",
            "conv2d (Conv2D)              (None, 352, 1216, 3)      30        \n",
            "=================================================================\n",
            "Total params: 42,816,119\n",
            "Trainable params: 42,657,719\n",
            "Non-trainable params: 158,400\n",
            "_________________________________________________________________\n"
          ],
          "name": "stdout"
        },
        {
          "output_type": "execute_result",
          "data": {
            "image/png": "[encoded data removed]",
            "text/plain": [
              "<IPython.core.display.Image object>"
            ]
          },
          "metadata": {
            "tags": []
          },
          "execution_count": 9
        }
      ]
    },
    {
      "cell_type": "code",
      "metadata": {
        "id": "mok_gOj1y9wr"
      },
      "source": [
        "from tensorflow.keras.layers import Conv2D, UpSampling2D, LeakyReLU, Concatenate\n",
        "from tensorflow.keras import Model\n",
        "\n",
        "\n",
        "import os\n",
        "import numpy as np\n",
        "import matplotlib.pyplot as plt\n",
        "%matplotlib inline\n",
        "import glob\n",
        "import random\n",
        "from PIL import Image\n",
        "import time\n",
        "import datetime\n",
        "\n",
        "\n",
        "import tensorflow as tf\n",
        "from tensorflow.keras.layers import *\n",
        "from tensorflow.keras.models import Model\n",
        "from tensorflow.keras.losses import mean_squared_error\n",
        "from tensorflow.keras.optimizers import Adam\n",
        "\n",
        "\n",
        "from tensorflow.keras.applications import DenseNet169\n",
        "\n",
        "class UpscaleBlock(Model):\n",
        "    def __init__(self, filters, name):      \n",
        "        super(UpscaleBlock, self).__init__()\n",
        "        self.up = UpSampling2D(size=(2, 2), interpolation='bilinear', name=name+'_upsampling2d')\n",
        "        self.concat = Concatenate(name=name+'_concat') # Skip connection        \n",
        "        self.convA = Conv2D(filters=filters, kernel_size=3, strides=1, padding='same', name=name+'_convA')\n",
        "        self.reluA = LeakyReLU(alpha=0.2)\n",
        "        self.convB = Conv2D(filters=filters, kernel_size=3, strides=1, padding='same', name=name+'_convB')\n",
        "        self.reluB = LeakyReLU(alpha=0.2)\n",
        "    \n",
        "    def call(self, x):        \n",
        "        b = self.reluB( self.convB( self.reluA( self.convA( self.concat( [self.up(x[0]), x[1]] ) ) ) ) )\n",
        "        return b \n",
        "\n",
        "    #def model(self):\n",
        "    #    x = Input(shape = (412, 548, 3))\n",
        "    #    return Model(x=[x], outputs=self.call(x))\n",
        "#\n",
        "    #\n",
        "    #def build_graph(self):\n",
        "    #    x = Input(shape=(412, 548, 3))\n",
        "    #    return Model(x=[x], outputs=self.call(x))\n",
        "\n",
        "\n",
        "class Encoder(Model):\n",
        "    def __init__(self):\n",
        "        super(Encoder, self).__init__()                \n",
        "        self.base_model = DenseNet169(input_shape=(None, None, 3), include_top=False)   \n",
        "        print('Base model loaded {}'.format(DenseNet169.__name__))\n",
        "        \n",
        "        # Create encoder model that produce final features along with multiple intermediate features\n",
        "        outputs = [self.base_model.outputs[-1]]\n",
        "        for name in ['pool1', 'pool2_pool', 'pool3_pool', 'conv1/relu'] : outputs.append( self.base_model.get_layer(name).output )        \n",
        "        self.encoder = Model(inputs=self.base_model.inputs, outputs=outputs)\n",
        "        \n",
        "    def call(self, x):\n",
        "\n",
        "        return self.encoder(x)\n",
        "\n",
        "    #def model(self):\n",
        "    #    x = Input(shape = (412, 548, 3))\n",
        "    #    #return Model(inputs=[x], outputs=self.call(x))\n",
        "    #    return Model(x=[x], outputs=self.call(x))\n",
        "#\n",
        "    #\n",
        "    #def build_graph(self):\n",
        "    #    x = Input(shape=(412, 548, 3))\n",
        "    #    #return Model(inputs=[x], outputs=self.call(x))\n",
        "    #    return Model(x=[x], outputs=self.call(x))\n",
        "\n",
        "\n",
        "class Decoder(Model):\n",
        "    def __init__(self, decode_filters):\n",
        "        super(Decoder, self).__init__()        \n",
        "        self.conv2 =  Conv2D(filters=decode_filters, kernel_size=1, padding='same', name='conv2')        \n",
        "        self.up1 = UpscaleBlock(filters=decode_filters//2,  name='up1')\n",
        "        self.up2 = UpscaleBlock(filters=decode_filters//4,  name='up2')\n",
        "        self.up3 = UpscaleBlock(filters=decode_filters//8,  name='up3')\n",
        "        self.up4 = UpscaleBlock(filters=decode_filters//16, name='up4')        \n",
        "        self.conv3 = Conv2D(filters=1, kernel_size=3, strides=1, padding='same', name='conv3')       \n",
        "        \n",
        "\n",
        "    def call(self, features):        \n",
        "        x, pool1, pool2, pool3, conv1 = features[0], features[1], features[2], features[3], features[4]\n",
        "        up0 = self.conv2(x)        \n",
        "        up1 = self.up1([up0, pool3])        \n",
        "        up2 = self.up2([up1, pool2])        \n",
        "        up3 = self.up3([up2, pool1])        \n",
        "        up4 = self.up4([up3, conv1])        \n",
        "        up4=self.conv3( up4 )\n",
        "        return ReLU(max_value = 1.0)(up4)\n",
        "\n",
        "    #def model(self):\n",
        "    #    x = Input(shape = (412, 548, 3))\n",
        "    #    return Model(features=[x], outputs=self.call(x))\n",
        "#\n",
        "    #\n",
        "    #def build_graph(self):\n",
        "    #    x = Input(shape=(412, 548, 3))\n",
        "    #    return Model(features=[x], outputs=self.call(x))\n",
        "    \n",
        "class DepthEstimate(Model):\n",
        "    def __init__(self):\n",
        "        super(DepthEstimate, self).__init__()\n",
        "        self.encoder = Encoder()\n",
        "        print( int(self.encoder.layers[-1].output[0].shape[-1]  ))\n",
        "        self.decoder = Decoder( decode_filters = int(self.encoder.layers[-1].output[0].shape[-1]  ) )\n",
        "        self.inc_size=tf.keras.layers.UpSampling2D( size=(2, 2), data_format=None, interpolation='bilinear')\n",
        "        \n",
        "        print('\\nModel created.')\n",
        "\n",
        "    def call(self, x):\n",
        "        x=self.inc_size(self.decoder( self.encoder(x) ))\n",
        "        return tf.keras.layers.concatenate([x,x,x],axis=-1)\n",
        "\n",
        "    def model(self):\n",
        "        x = Input(shape = (352, 1216, 3))\n",
        "        return Model(inputs=[x], outputs=self.call(x))\n",
        "        \n",
        "    \n",
        "    def build_graph(self):\n",
        "       x = Input(shape = (352, 1216, 3))\n",
        "       return Model(inputs=[x], outputs=self.call(x))\n"
      ],
      "execution_count": null,
      "outputs": []
    },
    {
      "cell_type": "code",
      "metadata": {
        "colab": {
          "base_uri": "https://localhost:8080/"
        },
        "id": "pfBU69F3zIVp",
        "outputId": "da745fbf-462a-4d26-94be-9dfd27e40fde"
      },
      "source": [
        "model=DepthEstimate()\n",
        "model.load_weights('/content/drive/MyDrive/nets/modified_t_net/weights/')"
      ],
      "execution_count": null,
      "outputs": [
        {
          "output_type": "stream",
          "text": [
            "Base model loaded DenseNet169\n",
            "1664\n",
            "\n",
            "Model created.\n"
          ],
          "name": "stdout"
        },
        {
          "output_type": "execute_result",
          "data": {
            "text/plain": [
              "<tensorflow.python.training.tracking.util.CheckpointLoadStatus at 0x7faa4018dd90>"
            ]
          },
          "metadata": {
            "tags": []
          },
          "execution_count": 10
        }
      ]
    },
    {
      "cell_type": "code",
      "metadata": {
        "id": "itMsjVKo2MsF"
      },
      "source": [
        "\n",
        "model.model().summary()\n",
        "dot_img_file = '/tmp/model_1.png'\n",
        "tf.keras.utils.plot_model(model.build_graph(), to_file=dot_img_file, show_shapes=True)"
      ],
      "execution_count": null,
      "outputs": []
    },
    {
      "cell_type": "code",
      "metadata": {
        "id": "5tGRx4klMY_U"
      },
      "source": [
        "tnet=T_net()"
      ],
      "execution_count": 10,
      "outputs": []
    },
    {
      "cell_type": "code",
      "metadata": {
        "colab": {
          "base_uri": "https://localhost:8080/"
        },
        "id": "x0nqYR0P4t_p",
        "outputId": "9ff0a9ae-10ea-4a7d-c031-9ed4324690eb"
      },
      "source": [
        "# Hyperparameters\n",
        "epochs = 2\n",
        "batch_size = 4\n",
        "k_init = tf.keras.initializers.random_normal(stddev=0.008, seed = 101)      \n",
        "regularizer = tf.keras.regularizers.L2(1e-4)\n",
        "b_init = tf.constant_initializer()\n",
        "\n",
        "#train_data, val_data = dataset_preposses(orig_img_path = '/content/drive/MyDrive/generated_dataset/trans', hazy_img_path = '/content/drive/MyDrive/generated_dataset/hazy')\n",
        "train_data, val_data = dataset_preposses(orig_img_path = '/content/drive/MyDrive/kitti/trans', hazy_img_path = '/content/drive/MyDrive/kitti/hazy',percentage=0.05)\n",
        "train, val = dataloader(train_data, val_data, batch_size)\n",
        "#tnet = model\n",
        "#tnet = tf.keras.models.load_model('/content/drive/MyDrive/nets/dehazenet',compile=False)\n",
        "\n",
        "optimizer = Adam(learning_rate = 1e-7)\n",
        "\n",
        "train_loss_tracker = tf.keras.metrics.MeanSquaredError(name = \"train loss\")\n",
        "val_loss_tracker = tf.keras.metrics.MeanSquaredError(name = \"val loss\")\n"
      ],
      "execution_count": 11,
      "outputs": [
        {
          "output_type": "stream",
          "text": [
            "270\n"
          ],
          "name": "stdout"
        }
      ]
    },
    {
      "cell_type": "code",
      "metadata": {
        "id": "SlI181f24_ba"
      },
      "source": [
        "def train_model_enhance(epochs, train, val, net, train_loss_tracker, val_loss_tracker, optimizer):\n",
        "    \n",
        "    for epoch in range(epochs):\n",
        "        \n",
        "        print(\"\\nStart of epoch %d\" % (epoch,), end=' ')\n",
        "        start_time_epoch = time.time()\n",
        "        start_time_step = time.time()\n",
        "        \n",
        "        # training loop\n",
        "        \n",
        "        for step, (train_batch_haze, train_batch_orig) in enumerate(train):\n",
        "\n",
        "            with tf.GradientTape() as tape:\n",
        "\n",
        "                train_logits = net(train_batch_haze, training = True)\n",
        "                #loss = mean_squared_error(train_batch_orig, train_logits)\n",
        "                #loss=tf.image.psnr(train_batch_orig, train_logits, max_val=1)\n",
        "                \n",
        "                loss=mean_squared_error(train_batch_orig, train_logits)#.numpy\n",
        "\n",
        "            grads = tape.gradient(loss, net.trainable_weights)\n",
        "            optimizer.apply_gradients(zip(grads, net.trainable_weights))\n",
        "\n",
        "            train_loss_tracker.update_state(train_batch_orig, train_logits)\n",
        "            if step == 0:\n",
        "                print('[', end='')\n",
        "            if step % 64 == 0:\n",
        "                print('=', end='')\n",
        "        \n",
        "        print(']', end='')\n",
        "        print('  -  ', end='')\n",
        "        print('Training Loss: %.4f' % (train_loss_tracker.result()), end='')\n",
        "        \n",
        "        # validation loop\n",
        "        \n",
        "        for step, (val_batch_haze, val_batch_orig) in enumerate(val):\n",
        "            val_logits = net(val_batch_haze, training = False)\n",
        "            val_loss_tracker.update_state(val_batch_orig, val_logits)\n",
        "            \n",
        "            if step % 64 ==0:\n",
        "                display_img(net, val_batch_haze, val_batch_orig)\n",
        "        \n",
        "        print('  -  ', end='')\n",
        "        print('Validation Loss: %.4f' % (val_loss_tracker.result()), end='')\n",
        "        print('  -  ', end=' ')\n",
        "        print(\"Time taken: %.2fs\" % (time.time() - start_time_epoch))\n",
        "        \n",
        "        net.save('/content/drive/MyDrive/nets/t_net/trained_model')           # save the model(variables, weights, etc)\n",
        "        train_loss_tracker.reset_states()\n",
        "        val_loss_tracker.reset_states()"
      ],
      "execution_count": 12,
      "outputs": []
    },
    {
      "cell_type": "code",
      "metadata": {
        "colab": {
          "base_uri": "https://localhost:8080/",
          "height": 434
        },
        "id": "CPyt0_9t5EJB",
        "outputId": "e48d063e-ea26-48de-ac27-7857256e5729"
      },
      "source": [
        "%%time\n",
        "#net= tf.keras.models.load_model('/content/drive/MyDrive/nets/multihaze',compile=False)\n",
        "train_model_enhance(1, train, val,tnet,train_loss_tracker, val_loss_tracker, optimizer)"
      ],
      "execution_count": 13,
      "outputs": [
        {
          "output_type": "stream",
          "text": [
            "\n",
            "Start of epoch 0 "
          ],
          "name": "stdout"
        },
        {
          "output_type": "error",
          "ename": "KeyboardInterrupt",
          "evalue": "ignored",
          "traceback": [
            "\u001b[0;31m---------------------------------------------------------------------------\u001b[0m",
            "\u001b[0;31mKeyboardInterrupt\u001b[0m                         Traceback (most recent call last)",
            "\u001b[0;32m<ipython-input-13-c68ee3ba0f61>\u001b[0m in \u001b[0;36m<module>\u001b[0;34m()\u001b[0m\n\u001b[0;32m----> 1\u001b[0;31m \u001b[0mget_ipython\u001b[0m\u001b[0;34m(\u001b[0m\u001b[0;34m)\u001b[0m\u001b[0;34m.\u001b[0m\u001b[0mrun_cell_magic\u001b[0m\u001b[0;34m(\u001b[0m\u001b[0;34m'time'\u001b[0m\u001b[0;34m,\u001b[0m \u001b[0;34m''\u001b[0m\u001b[0;34m,\u001b[0m \u001b[0;34m\"#net= tf.keras.models.load_model('/content/drive/MyDrive/nets/multihaze',compile=False)\\ntrain_model_enhance(1, train, val,tnet,train_loss_tracker, val_loss_tracker, optimizer)\"\u001b[0m\u001b[0;34m)\u001b[0m\u001b[0;34m\u001b[0m\u001b[0;34m\u001b[0m\u001b[0m\n\u001b[0m",
            "\u001b[0;32m/usr/local/lib/python3.7/dist-packages/IPython/core/interactiveshell.py\u001b[0m in \u001b[0;36mrun_cell_magic\u001b[0;34m(self, magic_name, line, cell)\u001b[0m\n\u001b[1;32m   2115\u001b[0m             \u001b[0mmagic_arg_s\u001b[0m \u001b[0;34m=\u001b[0m \u001b[0mself\u001b[0m\u001b[0;34m.\u001b[0m\u001b[0mvar_expand\u001b[0m\u001b[0;34m(\u001b[0m\u001b[0mline\u001b[0m\u001b[0;34m,\u001b[0m \u001b[0mstack_depth\u001b[0m\u001b[0;34m)\u001b[0m\u001b[0;34m\u001b[0m\u001b[0;34m\u001b[0m\u001b[0m\n\u001b[1;32m   2116\u001b[0m             \u001b[0;32mwith\u001b[0m \u001b[0mself\u001b[0m\u001b[0;34m.\u001b[0m\u001b[0mbuiltin_trap\u001b[0m\u001b[0;34m:\u001b[0m\u001b[0;34m\u001b[0m\u001b[0;34m\u001b[0m\u001b[0m\n\u001b[0;32m-> 2117\u001b[0;31m                 \u001b[0mresult\u001b[0m \u001b[0;34m=\u001b[0m \u001b[0mfn\u001b[0m\u001b[0;34m(\u001b[0m\u001b[0mmagic_arg_s\u001b[0m\u001b[0;34m,\u001b[0m \u001b[0mcell\u001b[0m\u001b[0;34m)\u001b[0m\u001b[0;34m\u001b[0m\u001b[0;34m\u001b[0m\u001b[0m\n\u001b[0m\u001b[1;32m   2118\u001b[0m             \u001b[0;32mreturn\u001b[0m \u001b[0mresult\u001b[0m\u001b[0;34m\u001b[0m\u001b[0;34m\u001b[0m\u001b[0m\n\u001b[1;32m   2119\u001b[0m \u001b[0;34m\u001b[0m\u001b[0m\n",
            "\u001b[0;32m<decorator-gen-53>\u001b[0m in \u001b[0;36mtime\u001b[0;34m(self, line, cell, local_ns)\u001b[0m\n",
            "\u001b[0;32m/usr/local/lib/python3.7/dist-packages/IPython/core/magic.py\u001b[0m in \u001b[0;36m<lambda>\u001b[0;34m(f, *a, **k)\u001b[0m\n\u001b[1;32m    186\u001b[0m     \u001b[0;31m# but it's overkill for just that one bit of state.\u001b[0m\u001b[0;34m\u001b[0m\u001b[0;34m\u001b[0m\u001b[0;34m\u001b[0m\u001b[0m\n\u001b[1;32m    187\u001b[0m     \u001b[0;32mdef\u001b[0m \u001b[0mmagic_deco\u001b[0m\u001b[0;34m(\u001b[0m\u001b[0marg\u001b[0m\u001b[0;34m)\u001b[0m\u001b[0;34m:\u001b[0m\u001b[0;34m\u001b[0m\u001b[0;34m\u001b[0m\u001b[0m\n\u001b[0;32m--> 188\u001b[0;31m         \u001b[0mcall\u001b[0m \u001b[0;34m=\u001b[0m \u001b[0;32mlambda\u001b[0m \u001b[0mf\u001b[0m\u001b[0;34m,\u001b[0m \u001b[0;34m*\u001b[0m\u001b[0ma\u001b[0m\u001b[0;34m,\u001b[0m \u001b[0;34m**\u001b[0m\u001b[0mk\u001b[0m\u001b[0;34m:\u001b[0m \u001b[0mf\u001b[0m\u001b[0;34m(\u001b[0m\u001b[0;34m*\u001b[0m\u001b[0ma\u001b[0m\u001b[0;34m,\u001b[0m \u001b[0;34m**\u001b[0m\u001b[0mk\u001b[0m\u001b[0;34m)\u001b[0m\u001b[0;34m\u001b[0m\u001b[0;34m\u001b[0m\u001b[0m\n\u001b[0m\u001b[1;32m    189\u001b[0m \u001b[0;34m\u001b[0m\u001b[0m\n\u001b[1;32m    190\u001b[0m         \u001b[0;32mif\u001b[0m \u001b[0mcallable\u001b[0m\u001b[0;34m(\u001b[0m\u001b[0marg\u001b[0m\u001b[0;34m)\u001b[0m\u001b[0;34m:\u001b[0m\u001b[0;34m\u001b[0m\u001b[0;34m\u001b[0m\u001b[0m\n",
            "\u001b[0;32m/usr/local/lib/python3.7/dist-packages/IPython/core/magics/execution.py\u001b[0m in \u001b[0;36mtime\u001b[0;34m(self, line, cell, local_ns)\u001b[0m\n\u001b[1;32m   1187\u001b[0m         \u001b[0;32mif\u001b[0m \u001b[0mmode\u001b[0m\u001b[0;34m==\u001b[0m\u001b[0;34m'eval'\u001b[0m\u001b[0;34m:\u001b[0m\u001b[0;34m\u001b[0m\u001b[0;34m\u001b[0m\u001b[0m\n\u001b[1;32m   1188\u001b[0m             \u001b[0mst\u001b[0m \u001b[0;34m=\u001b[0m \u001b[0mclock2\u001b[0m\u001b[0;34m(\u001b[0m\u001b[0;34m)\u001b[0m\u001b[0;34m\u001b[0m\u001b[0;34m\u001b[0m\u001b[0m\n\u001b[0;32m-> 1189\u001b[0;31m             \u001b[0mout\u001b[0m \u001b[0;34m=\u001b[0m \u001b[0meval\u001b[0m\u001b[0;34m(\u001b[0m\u001b[0mcode\u001b[0m\u001b[0;34m,\u001b[0m \u001b[0mglob\u001b[0m\u001b[0;34m,\u001b[0m \u001b[0mlocal_ns\u001b[0m\u001b[0;34m)\u001b[0m\u001b[0;34m\u001b[0m\u001b[0;34m\u001b[0m\u001b[0m\n\u001b[0m\u001b[1;32m   1190\u001b[0m             \u001b[0mend\u001b[0m \u001b[0;34m=\u001b[0m \u001b[0mclock2\u001b[0m\u001b[0;34m(\u001b[0m\u001b[0;34m)\u001b[0m\u001b[0;34m\u001b[0m\u001b[0;34m\u001b[0m\u001b[0m\n\u001b[1;32m   1191\u001b[0m         \u001b[0;32melse\u001b[0m\u001b[0;34m:\u001b[0m\u001b[0;34m\u001b[0m\u001b[0;34m\u001b[0m\u001b[0m\n",
            "\u001b[0;32m<timed eval>\u001b[0m in \u001b[0;36m<module>\u001b[0;34m()\u001b[0m\n",
            "\u001b[0;32m<ipython-input-12-2bd83e1af432>\u001b[0m in \u001b[0;36mtrain_model_enhance\u001b[0;34m(epochs, train, val, net, train_loss_tracker, val_loss_tracker, optimizer)\u001b[0m\n\u001b[1;32m      9\u001b[0m         \u001b[0;31m# training loop\u001b[0m\u001b[0;34m\u001b[0m\u001b[0;34m\u001b[0m\u001b[0;34m\u001b[0m\u001b[0m\n\u001b[1;32m     10\u001b[0m \u001b[0;34m\u001b[0m\u001b[0m\n\u001b[0;32m---> 11\u001b[0;31m         \u001b[0;32mfor\u001b[0m \u001b[0mstep\u001b[0m\u001b[0;34m,\u001b[0m \u001b[0;34m(\u001b[0m\u001b[0mtrain_batch_haze\u001b[0m\u001b[0;34m,\u001b[0m \u001b[0mtrain_batch_orig\u001b[0m\u001b[0;34m)\u001b[0m \u001b[0;32min\u001b[0m \u001b[0menumerate\u001b[0m\u001b[0;34m(\u001b[0m\u001b[0mtrain\u001b[0m\u001b[0;34m)\u001b[0m\u001b[0;34m:\u001b[0m\u001b[0;34m\u001b[0m\u001b[0;34m\u001b[0m\u001b[0m\n\u001b[0m\u001b[1;32m     12\u001b[0m \u001b[0;34m\u001b[0m\u001b[0m\n\u001b[1;32m     13\u001b[0m             \u001b[0;32mwith\u001b[0m \u001b[0mtf\u001b[0m\u001b[0;34m.\u001b[0m\u001b[0mGradientTape\u001b[0m\u001b[0;34m(\u001b[0m\u001b[0;34m)\u001b[0m \u001b[0;32mas\u001b[0m \u001b[0mtape\u001b[0m\u001b[0;34m:\u001b[0m\u001b[0;34m\u001b[0m\u001b[0;34m\u001b[0m\u001b[0m\n",
            "\u001b[0;32m/usr/local/lib/python3.7/dist-packages/tensorflow/python/data/ops/iterator_ops.py\u001b[0m in \u001b[0;36m__next__\u001b[0;34m(self)\u001b[0m\n\u001b[1;32m    745\u001b[0m   \u001b[0;32mdef\u001b[0m \u001b[0m__next__\u001b[0m\u001b[0;34m(\u001b[0m\u001b[0mself\u001b[0m\u001b[0;34m)\u001b[0m\u001b[0;34m:\u001b[0m\u001b[0;34m\u001b[0m\u001b[0;34m\u001b[0m\u001b[0m\n\u001b[1;32m    746\u001b[0m     \u001b[0;32mtry\u001b[0m\u001b[0;34m:\u001b[0m\u001b[0;34m\u001b[0m\u001b[0;34m\u001b[0m\u001b[0m\n\u001b[0;32m--> 747\u001b[0;31m       \u001b[0;32mreturn\u001b[0m \u001b[0mself\u001b[0m\u001b[0;34m.\u001b[0m\u001b[0m_next_internal\u001b[0m\u001b[0;34m(\u001b[0m\u001b[0;34m)\u001b[0m\u001b[0;34m\u001b[0m\u001b[0;34m\u001b[0m\u001b[0m\n\u001b[0m\u001b[1;32m    748\u001b[0m     \u001b[0;32mexcept\u001b[0m \u001b[0merrors\u001b[0m\u001b[0;34m.\u001b[0m\u001b[0mOutOfRangeError\u001b[0m\u001b[0;34m:\u001b[0m\u001b[0;34m\u001b[0m\u001b[0;34m\u001b[0m\u001b[0m\n\u001b[1;32m    749\u001b[0m       \u001b[0;32mraise\u001b[0m \u001b[0mStopIteration\u001b[0m\u001b[0;34m\u001b[0m\u001b[0;34m\u001b[0m\u001b[0m\n",
            "\u001b[0;32m/usr/local/lib/python3.7/dist-packages/tensorflow/python/data/ops/iterator_ops.py\u001b[0m in \u001b[0;36m_next_internal\u001b[0;34m(self)\u001b[0m\n\u001b[1;32m    731\u001b[0m           \u001b[0mself\u001b[0m\u001b[0;34m.\u001b[0m\u001b[0m_iterator_resource\u001b[0m\u001b[0;34m,\u001b[0m\u001b[0;34m\u001b[0m\u001b[0;34m\u001b[0m\u001b[0m\n\u001b[1;32m    732\u001b[0m           \u001b[0moutput_types\u001b[0m\u001b[0;34m=\u001b[0m\u001b[0mself\u001b[0m\u001b[0;34m.\u001b[0m\u001b[0m_flat_output_types\u001b[0m\u001b[0;34m,\u001b[0m\u001b[0;34m\u001b[0m\u001b[0;34m\u001b[0m\u001b[0m\n\u001b[0;32m--> 733\u001b[0;31m           output_shapes=self._flat_output_shapes)\n\u001b[0m\u001b[1;32m    734\u001b[0m \u001b[0;34m\u001b[0m\u001b[0m\n\u001b[1;32m    735\u001b[0m       \u001b[0;32mtry\u001b[0m\u001b[0;34m:\u001b[0m\u001b[0;34m\u001b[0m\u001b[0;34m\u001b[0m\u001b[0m\n",
            "\u001b[0;32m/usr/local/lib/python3.7/dist-packages/tensorflow/python/ops/gen_dataset_ops.py\u001b[0m in \u001b[0;36miterator_get_next\u001b[0;34m(iterator, output_types, output_shapes, name)\u001b[0m\n\u001b[1;32m   2574\u001b[0m       _result = pywrap_tfe.TFE_Py_FastPathExecute(\n\u001b[1;32m   2575\u001b[0m         \u001b[0m_ctx\u001b[0m\u001b[0;34m,\u001b[0m \u001b[0;34m\"IteratorGetNext\"\u001b[0m\u001b[0;34m,\u001b[0m \u001b[0mname\u001b[0m\u001b[0;34m,\u001b[0m \u001b[0miterator\u001b[0m\u001b[0;34m,\u001b[0m \u001b[0;34m\"output_types\"\u001b[0m\u001b[0;34m,\u001b[0m \u001b[0moutput_types\u001b[0m\u001b[0;34m,\u001b[0m\u001b[0;34m\u001b[0m\u001b[0;34m\u001b[0m\u001b[0m\n\u001b[0;32m-> 2576\u001b[0;31m         \"output_shapes\", output_shapes)\n\u001b[0m\u001b[1;32m   2577\u001b[0m       \u001b[0;32mreturn\u001b[0m \u001b[0m_result\u001b[0m\u001b[0;34m\u001b[0m\u001b[0;34m\u001b[0m\u001b[0m\n\u001b[1;32m   2578\u001b[0m     \u001b[0;32mexcept\u001b[0m \u001b[0m_core\u001b[0m\u001b[0;34m.\u001b[0m\u001b[0m_NotOkStatusException\u001b[0m \u001b[0;32mas\u001b[0m \u001b[0me\u001b[0m\u001b[0;34m:\u001b[0m\u001b[0;34m\u001b[0m\u001b[0;34m\u001b[0m\u001b[0m\n",
            "\u001b[0;31mKeyboardInterrupt\u001b[0m: "
          ]
        }
      ]
    },
    {
      "cell_type": "code",
      "metadata": {
        "id": "uKG9mpLc5JGB",
        "colab": {
          "base_uri": "https://localhost:8080/"
        },
        "outputId": "f0589a8c-c60e-4e17-f061-2d65c5096c29"
      },
      "source": [
        "tnet.save_weights('/content/drive/MyDrive/nets/prelim_model/t_net/weights/')\n",
        "tnet.save('/content/drive/MyDrive/nets/prelim_model/t_net/')\n"
      ],
      "execution_count": null,
      "outputs": [
        {
          "output_type": "stream",
          "text": [
            "INFO:tensorflow:Assets written to: /content/drive/MyDrive/nets/prelim_model/t_net/assets\n"
          ],
          "name": "stdout"
        }
      ]
    },
    {
      "cell_type": "code",
      "metadata": {
        "id": "3I8SQ5mFiRzj"
      },
      "source": [
        ""
      ],
      "execution_count": null,
      "outputs": []
    }
  ]
}