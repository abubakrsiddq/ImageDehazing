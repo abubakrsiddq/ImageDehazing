{
  "nbformat": 4,
  "nbformat_minor": 0,
  "metadata": {
    "kernelspec": {
      "name": "python3",
      "display_name": "Python 3",
      "language": "python"
    },
    "language_info": {
      "name": "python",
      "version": "3.7.6",
      "mimetype": "text/x-python",
      "codemirror_mode": {
        "name": "ipython",
        "version": 3
      },
      "pygments_lexer": "ipython3",
      "nbconvert_exporter": "python",
      "file_extension": ".py"
    },
    "colab": {
      "name": "ffa_kitti.ipynb",
      "provenance": [],
      "collapsed_sections": [],
      "include_colab_link": true
    }
  },
  "cells": [
    {
      "cell_type": "markdown",
      "metadata": {
        "id": "view-in-github",
        "colab_type": "text"
      },
      "source": [
        "<a href=\"https://colab.research.google.com/github/abubakrsiddq/ImageDehazing/blob/main/models/FFA-net/ffa_kitti.ipynb\" target=\"_parent\"><img src=\"https://colab.research.google.com/assets/colab-badge.svg\" alt=\"Open In Colab\"/></a>"
      ]
    },
    {
      "cell_type": "code",
      "metadata": {
        "_uuid": "d629ff2d2480ee46fbb7e2d37f6b5fab8052498a",
        "_cell_guid": "79c7e3d0-c299-4dcb-8224-4455121ee9b0",
        "trusted": true,
        "scrolled": false,
        "id": "N39U696_KnKD"
      },
      "source": [
        "import os\n",
        "import numpy as np\n",
        "import matplotlib.pyplot as plt\n",
        "%matplotlib inline\n",
        "import glob\n",
        "import random\n",
        "from PIL import Image\n",
        "import time\n",
        "import datetime\n",
        "\n",
        "import tensorflow as tf\n",
        "from tensorflow.keras.layers import *\n",
        "from tensorflow.keras.models import Model\n",
        "from tensorflow.keras.losses import mean_squared_error\n",
        "from tensorflow.keras.optimizers import Adam\n",
        "from tensorflow.keras.applications import *\n",
        "from tensorflow.keras import backend as K\n",
        "import math"
      ],
      "execution_count": 36,
      "outputs": []
    },
    {
      "cell_type": "code",
      "metadata": {
        "colab": {
          "base_uri": "https://localhost:8080/"
        },
        "id": "NetxtfKRKv7K",
        "outputId": "99c60d01-0795-4676-d433-33ed5476cd0c"
      },
      "source": [
        "from google.colab import drive\n",
        "drive.mount('/content/drive')"
      ],
      "execution_count": 37,
      "outputs": [
        {
          "output_type": "stream",
          "text": [
            "Drive already mounted at /content/drive; to attempt to forcibly remount, call drive.mount(\"/content/drive\", force_remount=True).\n"
          ],
          "name": "stdout"
        }
      ]
    },
    {
      "cell_type": "markdown",
      "metadata": {
        "id": "8FE6nygwKnKd"
      },
      "source": [
        "# Preprocessing and loading of data"
      ]
    },
    {
      "cell_type": "code",
      "metadata": {
        "id": "-VQvDpNGaB_l"
      },
      "source": [
        "#ls drive/MyDrive/reside/archive/clear_images drive/MyDrive/reside/archive/haze  "
      ],
      "execution_count": 38,
      "outputs": []
    },
    {
      "cell_type": "code",
      "metadata": {
        "trusted": true,
        "scrolled": false,
        "id": "uk0gyj-8KnKe"
      },
      "source": [
        "def load_image(img_path):\n",
        "    img = tf.io.read_file(img_path)\n",
        "    \n",
        "    img = tf.io.decode_png(img, channels = 3)\n",
        "    img = tf.image.resize(img, size = (352 , 1216), antialias = True)\n",
        "    img = img / 255.0\n",
        "    return img"
      ],
      "execution_count": null,
      "outputs": []
    },
    {
      "cell_type": "code",
      "metadata": {
        "trusted": true,
        "scrolled": false,
        "id": "vvpitygGKnKf"
      },
      "source": [
        "def dataset_preposses(orig_img_path='/content/drive/MyDrive/generated_dataset/trans',hazy_img_path='/content/drive/MyDrive/generated_dataset/hazy',percentage=0.1,validation_size=200,test_size=64,seed_val=200):\n",
        "    train_img = []\n",
        "    val_img = []\n",
        "    random.seed=seed_val\n",
        "    orig_img = glob.glob(orig_img_path + '/*.png')\n",
        "    n = len(orig_img)\n",
        "    random.shuffle(orig_img)\n",
        "    red_keys=orig_img[:]                                 #redundant keys to avoid key error\n",
        "    train_keys = orig_img[:int(0.9*n*percentage)]\n",
        "    #print(0.9*n*percentage)\n",
        "    #print(len(train_keys))\n",
        "    val_keys = orig_img[-int(0.1*n*percentage):]\n",
        "    #print(len(val_keys))\n",
        "    split_dict = {}\n",
        "    #i=0\n",
        "    for key in red_keys:\n",
        "      split_dict[key]='red'\n",
        "      #i+=1\n",
        "    #print(i)\n",
        "    for key in train_keys:\n",
        "      split_dict[key] = 'train'\n",
        "    for key in val_keys:\n",
        "      split_dict[key] = 'val'\n",
        "      \n",
        "    hazy_img = glob.glob(hazy_img_path + '/*.png')\n",
        "    for img in hazy_img:\n",
        "      \n",
        "      img_name = img.split('/')[-1][:-4].split('_')[0]\n",
        "      orig_path = orig_img_path + '/' + img_name+'.png'\n",
        "      if (split_dict[orig_path] == 'train'):\n",
        "        train_img.append([img, orig_path])\n",
        "      if (split_dict[orig_path] == 'val'):\n",
        "        val_img.append([img, orig_path])\n",
        "      \n",
        "\n",
        "    return train_img, val_img\n",
        "\n",
        "\n",
        "def gen_dataset(ar):\n",
        "  '''\n",
        "  parameters\n",
        "  list of paths\n",
        "  return\n",
        "  list with gt attached \n",
        "  '''\n",
        "  orig_path='/content/drive/MyDrive/kitti/gt'\n",
        "  haze_pth='/content/drive/MyDrive/kitti/hazy'\n",
        "  lst=[]\n",
        "  for i in ar:\n",
        "    name=i.split('/')[-1].split('_')[0]\n",
        "    pthlist=[i,orig_path+'/'+name+'.jpg']\n",
        "    lst.append(pthlist)\n",
        "  return lst\n",
        "\n",
        "def data_path(orig_img_path = '/content/drive/MyDrive/kitti/gt', hazy_img_path = '/content/drive/MyDrive/kitti/hazy'):\n",
        "  \n",
        "  (a,b,c)=dataset_preposses(orig_path=orig_img_path,haze_path=hazy_img_path)\n",
        "  a=gen_dataset(a)\n",
        "  b=gen_dataset(b)\n",
        "  return a,b"
      ],
      "execution_count": null,
      "outputs": []
    },
    {
      "cell_type": "code",
      "metadata": {
        "trusted": true,
        "scrolled": false,
        "id": "D-194d5sKnKg"
      },
      "source": [
        "def dataloader(train_data, val_data, batch_size):\n",
        "    print(len(train_data))\n",
        "    train_data_orig = tf.data.Dataset.from_tensor_slices([img[1] for img in train_data]).map(lambda x: load_image(x))\n",
        "    train_data_haze = tf.data.Dataset.from_tensor_slices([img[0] for img in train_data]).map(lambda x: load_image(x))\n",
        "    train = tf.data.Dataset.zip((train_data_haze, train_data_orig)).shuffle(buffer_size=100).batch(batch_size)\n",
        "    \n",
        "    val_data_orig = tf.data.Dataset.from_tensor_slices([img[1] for img in val_data]).map(lambda x: load_image(x))\n",
        "    val_data_haze = tf.data.Dataset.from_tensor_slices([img[0] for img in val_data]).map(lambda x: load_image(x))\n",
        "    val = tf.data.Dataset.zip((val_data_haze, val_data_orig)).shuffle(buffer_size=100).batch(batch_size)\n",
        "    \n",
        "    return train, val"
      ],
      "execution_count": null,
      "outputs": []
    },
    {
      "cell_type": "code",
      "metadata": {
        "trusted": true,
        "scrolled": false,
        "id": "2aU_zzDHKnKh"
      },
      "source": [
        "def display_img(model, hazy_img, orig_img):\n",
        "    \n",
        "    dehazed_img = model(hazy_img,training = False)\n",
        "    plt.figure(figsize = (15,15))\n",
        "    \n",
        "    display_list = [hazy_img[0], orig_img[0], dehazed_img[0]]\n",
        "    title = ['Hazy Image', 'Ground Truth', 'Dehazed Image']\n",
        "    \n",
        "    for i in range(3):\n",
        "        plt.subplot(3, 1, i+1)\n",
        "        plt.title(title[i])\n",
        "        plt.imshow(display_list[i])\n",
        "        plt.axis('off')\n",
        "        directory='/content/drive/MyDrive/Test/padCheck'\n",
        "        os.chdir(directory)\n",
        "        filename=str(i)+'.jpg'\n",
        "        tf.keras.preprocessing.image.save_img(filename,display_list[i],)\n",
        "        #plt.imsave('plt'+filename,display_list[i])\n",
        "    plt.show()"
      ],
      "execution_count": null,
      "outputs": []
    },
    {
      "cell_type": "markdown",
      "metadata": {
        "id": "uuypKuZZKnKi"
      },
      "source": [
        "# Network Function"
      ]
    },
    {
      "cell_type": "code",
      "metadata": {
        "id": "jsyBHZ12mMQ1"
      },
      "source": [
        "def default_conv(in_channels, out_channels, kernel_size, bias=True,activation='relu'):\n",
        "    return tf.keras.layers.Conv2D(out_channels, kernel_size,padding='same', use_bias=bias,activation=activation)\n",
        "    \n",
        "class PixAtLayer(tf.keras.Model):\n",
        "    def __init__(self, channel):\n",
        "        super(PixAtLayer, self).__init__()\n",
        "        self.pa = tf.keras.Sequential()\n",
        "        self.pa.add(tf.keras.layers.Conv2D(channel // 8, 1, padding='valid',activation='relu'))\n",
        "        self.pa.add(tf.keras.layers.Conv2D( 1, 1,activation='sigmoid'))\n",
        "    def call(self, x):\n",
        "        y = self.pa(x)\n",
        "        #return y\n",
        "        return x * y\n",
        "\n",
        "    def model(self):\n",
        "        x = Input(shape = (352, 1216, 3))\n",
        "        return Model(inputs=[x], outputs=self.call(x))\n",
        "\n",
        "class adapavgpooling(tf.keras.Model):\n",
        "  def __init__(self,outputsize):\n",
        "    super(adapavgpooling,self).__init__()\n",
        "    self.outputsize=outputsize\n",
        "\n",
        "  def call(self,x):\n",
        "    x_shape=tf.keras.backend.int_shape(x)\n",
        "    batchsize1,dim1,dim2,channels1=x_shape\n",
        "    stride=np.floor(dim2/self.outputsize).astype(np.int32)\n",
        "    kernels=dim1-(self.outputsize-1)*stride\n",
        "    adpooling=tf.keras.layers.AveragePooling2D(pool_size=(kernels,kernels),strides=(stride,stride))(x)\n",
        "    return adpooling\n",
        "\n",
        "  def model(self):\n",
        "        x = Input(shape = (352, 1216, 3))\n",
        "        return Model(inputs=[x], outputs=self.call(x))\n",
        "'''    \n",
        "def adapavgpooling(x,outsize):\n",
        "    x_shape=tf.keras.backend.int_shape(x)\n",
        "    batchsize1,dim1,dim2,channels1=x_shape\n",
        "    stride=np.floor(dim1/outsize).astype(np.int32)\n",
        "    kernels=dim1-(outsize-1)*stride\n",
        "    adpooling=tf.keras.layers.AveragePooling2D(pool_size=(kernels,kernels),strides=(stride,stride))(x)\n",
        "    \n",
        "    return adpooling\n",
        "'''\n",
        "class ChanAtLayer(tf.keras.Model):\n",
        "  def __init__(self, channel):\n",
        "      super(ChanAtLayer, self).__init__()\n",
        "      #self.avg_pool = tf.keras.layers.GlobalAveragePooling2D()\n",
        "      self.ca = tf.keras.Sequential()\n",
        "      self.ca.add(tf.keras.layers.Conv2D(channel // 8, 1,activation='relu'))\n",
        "      self.ca.add(tf.keras.layers.Conv2D(channel, 1, activation='sigmoid'))\n",
        "      self.adPool=adapavgpooling(1)\n",
        "  def call(self, x):\n",
        "      y = self.adPool(x)\n",
        "      #print(y.shape)\n",
        "      y = self.ca(y)\n",
        "      \n",
        "      return x * y\n",
        "\n",
        "  def model(self):\n",
        "        x = Input(shape = (352, 1216, 64))\n",
        "        return Model(inputs=[x], outputs=self.call(x))\n"
      ],
      "execution_count": 39,
      "outputs": []
    },
    {
      "cell_type": "code",
      "metadata": {
        "id": "fzcin-mNmRwv",
        "colab": {
          "base_uri": "https://localhost:8080/"
        },
        "outputId": "fadc5d6e-03d2-40f7-e976-3146fd0b5141"
      },
      "source": [
        "#sub = PixAtLayer(64)\n",
        "#sub.model().summary()\n",
        "sub1 = ChanAtLayer(64)\n",
        "sub1.model().summary()"
      ],
      "execution_count": 3,
      "outputs": [
        {
          "output_type": "stream",
          "text": [
            "Model: \"model\"\n",
            "__________________________________________________________________________________________________\n",
            "Layer (type)                    Output Shape         Param #     Connected to                     \n",
            "==================================================================================================\n",
            "input_1 (InputLayer)            [(None, 352, 1216, 6 0                                            \n",
            "__________________________________________________________________________________________________\n",
            "adapavgpooling (adapavgpooling) (None, 1, 1, 64)     0           input_1[0][0]                    \n",
            "__________________________________________________________________________________________________\n",
            "sequential (Sequential)         (None, 1, 1, 64)     1096        adapavgpooling[0][0]             \n",
            "__________________________________________________________________________________________________\n",
            "tf.math.multiply (TFOpLambda)   (None, 352, 1216, 64 0           input_1[0][0]                    \n",
            "                                                                 sequential[0][0]                 \n",
            "==================================================================================================\n",
            "Total params: 1,096\n",
            "Trainable params: 1,096\n",
            "Non-trainable params: 0\n",
            "__________________________________________________________________________________________________\n"
          ],
          "name": "stdout"
        }
      ]
    },
    {
      "cell_type": "code",
      "metadata": {
        "id": "OW2s_Zopmb3q"
      },
      "source": [
        "class Block_layer(tf.keras.Model):\n",
        "    def __init__(self, conv, dim, kernel_size,):\n",
        "        super(Block_layer, self).__init__()\n",
        "        self.conv1=conv(dim,dim, kernel_size, bias=True,activation='relu')\n",
        "        \n",
        "        self.conv2=conv(dim,dim, kernel_size, bias=True)\n",
        "        self.calayer=ChanAtLayer(dim)\n",
        "        self.palayer=PixAtLayer(dim)\n",
        "    def call(self, x):\n",
        "        res=self.conv1(x)\n",
        "        res=res+x \n",
        "        res=self.conv2(res)\n",
        "        res=self.calayer(res)\n",
        "        res=self.palayer(res)\n",
        "        res += x \n",
        "        return res\n",
        "\n",
        "    def model(self):\n",
        "        x = Input(shape = (352, 1216, 64))\n",
        "        return Model(inputs=[x], outputs=self.call(x))\n"
      ],
      "execution_count": 40,
      "outputs": []
    },
    {
      "cell_type": "code",
      "metadata": {
        "id": "UOzDIDpqjZBn"
      },
      "source": [
        "class Group_layer(tf.keras.Model):\n",
        "    def __init__(self, conv, dim, kernel_size, blocks):\n",
        "        super(Group_layer, self).__init__()\n",
        "        modules = [ Block_layer(conv, dim, kernel_size)  for _ in range(blocks)]\n",
        "        modules.append(tf.keras.layers.Conv2D(dim, kernel_size,padding='same'))\n",
        "        self.gp = tf.keras.Sequential()\n",
        "        for lay in modules:\n",
        "          self.gp.add(lay)\n",
        "        \n",
        "    def call(self,input_tensor):\n",
        "        res = self.gp(input_tensor)\n",
        "        #res =tf.keras.layers.Add()([res,input_tensor])\n",
        "        res+=input_tensor\n",
        "        return res\n",
        "\n",
        "    def model(self):\n",
        "        x = Input(shape = (352, 1216, 64))\n",
        "        return Model(inputs=[x], outputs=self.call(x))"
      ],
      "execution_count": 41,
      "outputs": []
    },
    {
      "cell_type": "code",
      "metadata": {
        "id": "IypzZI1tnZ2X"
      },
      "source": [
        "#sub1 =Group_layer(default_conv,64,3,6)\n",
        "#sub1.model().summary()"
      ],
      "execution_count": 42,
      "outputs": []
    },
    {
      "cell_type": "code",
      "metadata": {
        "id": "DTCX-CqzehI3"
      },
      "source": [
        "class FFAnet(tf.keras.Model):\n",
        "    def __init__(self,gps,blocks,conv=default_conv):\n",
        "        super(FFAnet, self).__init__()\n",
        "        # define all layers in init\n",
        "        # Layer of Block 1\n",
        "        self.gps=gps\n",
        "        self.dim=64\n",
        "        kernel_size=3\n",
        "        pre_process = [tf.keras.layers.Conv2D(self.dim, kernel_size)]\n",
        "        assert self.gps==3\n",
        "        self.g1= Group_layer(conv, self.dim, kernel_size,blocks=blocks)\n",
        "        self.g2= Group_layer(conv, self.dim, kernel_size,blocks=blocks)\n",
        "        self.g3= Group_layer(conv, self.dim, kernel_size,blocks=blocks)\n",
        "        l=[\n",
        "            adapavgpooling(1),\n",
        "            tf.keras.layers.Conv2D(self.dim//16,1,padding='valid'),\n",
        "            \n",
        "            tf.keras.layers.Conv2D(self.dim*self.gps, 1, padding='valid', use_bias=True,activation='sigmoid')\n",
        "            \n",
        "            ]\n",
        "       \n",
        "        self.ca=tf.keras.Sequential()\n",
        "        for lay in l:\n",
        "          self.ca.add(lay)\n",
        "        self.palayer=PixAtLayer(self.dim)\n",
        "\n",
        "        post_precess = [\n",
        "            conv(self.dim, self.dim, kernel_size),\n",
        "            conv(self.dim, 3, kernel_size)]\n",
        "\n",
        "        self.pre = tf.keras.Sequential(conv(3,self.dim, kernel_size),name='preprocess')\n",
        "\n",
        "        self.post = tf.keras.Sequential(name='postprocess')\n",
        "        for lay in post_precess:\n",
        "          self.post.add(lay)\n",
        "        \n",
        "    def call(self, input_tensor = (352, 1216, 3), training=False):\n",
        "        # forward pass: block 1 \n",
        "        x = self.pre(input_tensor)\n",
        "        res1=self.g1(x)\n",
        "        res2=self.g2(res1)\n",
        "        res3=self.g3(res2)\n",
        "        w=tf.keras.layers.concatenate([res1,res2,res3],axis=-1)\n",
        "        w=self.ca(w)\n",
        "        w=tf.keras.layers.Reshape((1,self.gps,self.dim))(w)\n",
        "        out=w[:,:,0]*res1+w[:,:,1]*res2+w[:,:,2]*res3\n",
        "        out=self.palayer(out)\n",
        "        x=self.post(out)\n",
        "        return x + input_tensor\n",
        "        #return out\n",
        "       \n",
        "    def model(self):\n",
        "        x = Input(shape = (352, 1216, 3))\n",
        "        return Model(inputs=[x], outputs=self.call(x))\n",
        "\n",
        "    def build_graph(self):\n",
        "        x = Input(shape=(352, 1216, 3))\n",
        "        return Model(inputs=[x], outputs=self.call(x))"
      ],
      "execution_count": 43,
      "outputs": []
    },
    {
      "cell_type": "code",
      "metadata": {
        "colab": {
          "base_uri": "https://localhost:8080/",
          "height": 1000
        },
        "id": "htg4Y_MW0Jfo",
        "outputId": "da6b796e-6d88-43be-89ee-b42fc0d1f1a3"
      },
      "source": [
        "model =FFAnet(gps=3,blocks=19)\n",
        "model.model().summary()\n",
        "dot_img_file = '/tmp/model_1.png'\n",
        "tf.keras.utils.plot_model(\n",
        "    model.build_graph(),                      # here is the trick (for now)\n",
        "    to_file='model.png', dpi=96,              # saving  \n",
        "    show_shapes=True, show_layer_names=True,  # show shapes and layer name\n",
        "    expand_nested=False                       # will show nested block\n",
        ")"
      ],
      "execution_count": 44,
      "outputs": [
        {
          "output_type": "stream",
          "text": [
            "Model: \"model_9\"\n",
            "__________________________________________________________________________________________________\n",
            "Layer (type)                    Output Shape         Param #     Connected to                     \n",
            "==================================================================================================\n",
            "input_10 (InputLayer)           [(None, 352, 1216, 3 0                                            \n",
            "__________________________________________________________________________________________________\n",
            "preprocess (Sequential)         (None, 352, 1216, 64 1792        input_10[0][0]                   \n",
            "__________________________________________________________________________________________________\n",
            "group_layer_12 (Group_layer)    (None, 352, 1216, 64 1471067     preprocess[0][0]                 \n",
            "__________________________________________________________________________________________________\n",
            "group_layer_13 (Group_layer)    (None, 352, 1216, 64 1471067     group_layer_12[0][0]             \n",
            "__________________________________________________________________________________________________\n",
            "group_layer_14 (Group_layer)    (None, 352, 1216, 64 1471067     group_layer_13[0][0]             \n",
            "__________________________________________________________________________________________________\n",
            "concatenate_8 (Concatenate)     (None, 352, 1216, 19 0           group_layer_12[0][0]             \n",
            "                                                                 group_layer_13[0][0]             \n",
            "                                                                 group_layer_14[0][0]             \n",
            "__________________________________________________________________________________________________\n",
            "sequential_598 (Sequential)     (None, 1, 1, 192)    1732        concatenate_8[0][0]              \n",
            "__________________________________________________________________________________________________\n",
            "reshape_8 (Reshape)             (None, 1, 3, 64)     0           sequential_598[0][0]             \n",
            "__________________________________________________________________________________________________\n",
            "tf.__operators__.getitem_24 (Sl (None, 1, 64)        0           reshape_8[0][0]                  \n",
            "__________________________________________________________________________________________________\n",
            "tf.__operators__.getitem_25 (Sl (None, 1, 64)        0           reshape_8[0][0]                  \n",
            "__________________________________________________________________________________________________\n",
            "tf.math.multiply_25 (TFOpLambda (None, 352, 1216, 64 0           tf.__operators__.getitem_24[0][0]\n",
            "                                                                 group_layer_12[0][0]             \n",
            "__________________________________________________________________________________________________\n",
            "tf.math.multiply_26 (TFOpLambda (None, 352, 1216, 64 0           tf.__operators__.getitem_25[0][0]\n",
            "                                                                 group_layer_13[0][0]             \n",
            "__________________________________________________________________________________________________\n",
            "tf.__operators__.getitem_26 (Sl (None, 1, 64)        0           reshape_8[0][0]                  \n",
            "__________________________________________________________________________________________________\n",
            "tf.__operators__.add_24 (TFOpLa (None, 352, 1216, 64 0           tf.math.multiply_25[0][0]        \n",
            "                                                                 tf.math.multiply_26[0][0]        \n",
            "__________________________________________________________________________________________________\n",
            "tf.math.multiply_27 (TFOpLambda (None, 352, 1216, 64 0           tf.__operators__.getitem_26[0][0]\n",
            "                                                                 group_layer_14[0][0]             \n",
            "__________________________________________________________________________________________________\n",
            "tf.__operators__.add_25 (TFOpLa (None, 352, 1216, 64 0           tf.__operators__.add_24[0][0]    \n",
            "                                                                 tf.math.multiply_27[0][0]        \n",
            "__________________________________________________________________________________________________\n",
            "pix_at_layer_289 (PixAtLayer)   (None, 352, 1216, 64 529         tf.__operators__.add_25[0][0]    \n",
            "__________________________________________________________________________________________________\n",
            "postprocess (Sequential)        (None, 352, 1216, 3) 38659       pix_at_layer_289[0][0]           \n",
            "__________________________________________________________________________________________________\n",
            "tf.__operators__.add_26 (TFOpLa (None, 352, 1216, 3) 0           postprocess[0][0]                \n",
            "                                                                 input_10[0][0]                   \n",
            "==================================================================================================\n",
            "Total params: 4,455,913\n",
            "Trainable params: 4,455,913\n",
            "Non-trainable params: 0\n",
            "__________________________________________________________________________________________________\n"
          ],
          "name": "stdout"
        },
        {
          "output_type": "execute_result",
          "data": {
            "image/png": "[encoded data removed]",
            "text/plain": [
              "<IPython.core.display.Image object>"
            ]
          },
          "metadata": {
            "tags": []
          },
          "execution_count": 44
        }
      ]
    },
    {
      "cell_type": "markdown",
      "metadata": {
        "id": "uQp71pXvD3of"
      },
      "source": [
        "# Transfer Learning"
      ]
    },
    {
      "cell_type": "code",
      "metadata": {
        "id": "4YzmjUh1_1TH",
        "outputId": "2f831ea3-4d10-44db-a3b2-44825e644cfb",
        "colab": {
          "base_uri": "https://localhost:8080/"
        }
      },
      "source": [
        "import torch\n",
        "pretrain=torch.load('/content/drive/MyDrive/ots_train_ffa_3_19.pk',map_location=torch.device('cpu'))\n",
        "pretrain.keys()"
      ],
      "execution_count": 45,
      "outputs": [
        {
          "output_type": "execute_result",
          "data": {
            "text/plain": [
              "dict_keys(['step', 'max_psnr', 'max_ssim', 'ssims', 'psnrs', 'losses', 'model'])"
            ]
          },
          "metadata": {
            "tags": []
          },
          "execution_count": 45
        }
      ]
    },
    {
      "cell_type": "code",
      "metadata": {
        "id": "92BLXpxj_1VV",
        "outputId": "2f983a32-1a39-4f0f-8079-e0f21efc6633",
        "colab": {
          "base_uri": "https://localhost:8080/"
        }
      },
      "source": [
        "pretrain['model'].keys()"
      ],
      "execution_count": 46,
      "outputs": [
        {
          "output_type": "execute_result",
          "data": {
            "text/plain": [
              "odict_keys(['module.g1.gp.0.conv1.weight', 'module.g1.gp.0.conv1.bias', 'module.g1.gp.0.conv2.weight', 'module.g1.gp.0.conv2.bias', 'module.g1.gp.0.calayer.ca.0.weight', 'module.g1.gp.0.calayer.ca.0.bias', 'module.g1.gp.0.calayer.ca.2.weight', 'module.g1.gp.0.calayer.ca.2.bias', 'module.g1.gp.0.palayer.pa.0.weight', 'module.g1.gp.0.palayer.pa.0.bias', 'module.g1.gp.0.palayer.pa.2.weight', 'module.g1.gp.0.palayer.pa.2.bias', 'module.g1.gp.1.conv1.weight', 'module.g1.gp.1.conv1.bias', 'module.g1.gp.1.conv2.weight', 'module.g1.gp.1.conv2.bias', 'module.g1.gp.1.calayer.ca.0.weight', 'module.g1.gp.1.calayer.ca.0.bias', 'module.g1.gp.1.calayer.ca.2.weight', 'module.g1.gp.1.calayer.ca.2.bias', 'module.g1.gp.1.palayer.pa.0.weight', 'module.g1.gp.1.palayer.pa.0.bias', 'module.g1.gp.1.palayer.pa.2.weight', 'module.g1.gp.1.palayer.pa.2.bias', 'module.g1.gp.2.conv1.weight', 'module.g1.gp.2.conv1.bias', 'module.g1.gp.2.conv2.weight', 'module.g1.gp.2.conv2.bias', 'module.g1.gp.2.calayer.ca.0.weight', 'module.g1.gp.2.calayer.ca.0.bias', 'module.g1.gp.2.calayer.ca.2.weight', 'module.g1.gp.2.calayer.ca.2.bias', 'module.g1.gp.2.palayer.pa.0.weight', 'module.g1.gp.2.palayer.pa.0.bias', 'module.g1.gp.2.palayer.pa.2.weight', 'module.g1.gp.2.palayer.pa.2.bias', 'module.g1.gp.3.conv1.weight', 'module.g1.gp.3.conv1.bias', 'module.g1.gp.3.conv2.weight', 'module.g1.gp.3.conv2.bias', 'module.g1.gp.3.calayer.ca.0.weight', 'module.g1.gp.3.calayer.ca.0.bias', 'module.g1.gp.3.calayer.ca.2.weight', 'module.g1.gp.3.calayer.ca.2.bias', 'module.g1.gp.3.palayer.pa.0.weight', 'module.g1.gp.3.palayer.pa.0.bias', 'module.g1.gp.3.palayer.pa.2.weight', 'module.g1.gp.3.palayer.pa.2.bias', 'module.g1.gp.4.conv1.weight', 'module.g1.gp.4.conv1.bias', 'module.g1.gp.4.conv2.weight', 'module.g1.gp.4.conv2.bias', 'module.g1.gp.4.calayer.ca.0.weight', 'module.g1.gp.4.calayer.ca.0.bias', 'module.g1.gp.4.calayer.ca.2.weight', 'module.g1.gp.4.calayer.ca.2.bias', 'module.g1.gp.4.palayer.pa.0.weight', 'module.g1.gp.4.palayer.pa.0.bias', 'module.g1.gp.4.palayer.pa.2.weight', 'module.g1.gp.4.palayer.pa.2.bias', 'module.g1.gp.5.conv1.weight', 'module.g1.gp.5.conv1.bias', 'module.g1.gp.5.conv2.weight', 'module.g1.gp.5.conv2.bias', 'module.g1.gp.5.calayer.ca.0.weight', 'module.g1.gp.5.calayer.ca.0.bias', 'module.g1.gp.5.calayer.ca.2.weight', 'module.g1.gp.5.calayer.ca.2.bias', 'module.g1.gp.5.palayer.pa.0.weight', 'module.g1.gp.5.palayer.pa.0.bias', 'module.g1.gp.5.palayer.pa.2.weight', 'module.g1.gp.5.palayer.pa.2.bias', 'module.g1.gp.6.conv1.weight', 'module.g1.gp.6.conv1.bias', 'module.g1.gp.6.conv2.weight', 'module.g1.gp.6.conv2.bias', 'module.g1.gp.6.calayer.ca.0.weight', 'module.g1.gp.6.calayer.ca.0.bias', 'module.g1.gp.6.calayer.ca.2.weight', 'module.g1.gp.6.calayer.ca.2.bias', 'module.g1.gp.6.palayer.pa.0.weight', 'module.g1.gp.6.palayer.pa.0.bias', 'module.g1.gp.6.palayer.pa.2.weight', 'module.g1.gp.6.palayer.pa.2.bias', 'module.g1.gp.7.conv1.weight', 'module.g1.gp.7.conv1.bias', 'module.g1.gp.7.conv2.weight', 'module.g1.gp.7.conv2.bias', 'module.g1.gp.7.calayer.ca.0.weight', 'module.g1.gp.7.calayer.ca.0.bias', 'module.g1.gp.7.calayer.ca.2.weight', 'module.g1.gp.7.calayer.ca.2.bias', 'module.g1.gp.7.palayer.pa.0.weight', 'module.g1.gp.7.palayer.pa.0.bias', 'module.g1.gp.7.palayer.pa.2.weight', 'module.g1.gp.7.palayer.pa.2.bias', 'module.g1.gp.8.conv1.weight', 'module.g1.gp.8.conv1.bias', 'module.g1.gp.8.conv2.weight', 'module.g1.gp.8.conv2.bias', 'module.g1.gp.8.calayer.ca.0.weight', 'module.g1.gp.8.calayer.ca.0.bias', 'module.g1.gp.8.calayer.ca.2.weight', 'module.g1.gp.8.calayer.ca.2.bias', 'module.g1.gp.8.palayer.pa.0.weight', 'module.g1.gp.8.palayer.pa.0.bias', 'module.g1.gp.8.palayer.pa.2.weight', 'module.g1.gp.8.palayer.pa.2.bias', 'module.g1.gp.9.conv1.weight', 'module.g1.gp.9.conv1.bias', 'module.g1.gp.9.conv2.weight', 'module.g1.gp.9.conv2.bias', 'module.g1.gp.9.calayer.ca.0.weight', 'module.g1.gp.9.calayer.ca.0.bias', 'module.g1.gp.9.calayer.ca.2.weight', 'module.g1.gp.9.calayer.ca.2.bias', 'module.g1.gp.9.palayer.pa.0.weight', 'module.g1.gp.9.palayer.pa.0.bias', 'module.g1.gp.9.palayer.pa.2.weight', 'module.g1.gp.9.palayer.pa.2.bias', 'module.g1.gp.10.conv1.weight', 'module.g1.gp.10.conv1.bias', 'module.g1.gp.10.conv2.weight', 'module.g1.gp.10.conv2.bias', 'module.g1.gp.10.calayer.ca.0.weight', 'module.g1.gp.10.calayer.ca.0.bias', 'module.g1.gp.10.calayer.ca.2.weight', 'module.g1.gp.10.calayer.ca.2.bias', 'module.g1.gp.10.palayer.pa.0.weight', 'module.g1.gp.10.palayer.pa.0.bias', 'module.g1.gp.10.palayer.pa.2.weight', 'module.g1.gp.10.palayer.pa.2.bias', 'module.g1.gp.11.conv1.weight', 'module.g1.gp.11.conv1.bias', 'module.g1.gp.11.conv2.weight', 'module.g1.gp.11.conv2.bias', 'module.g1.gp.11.calayer.ca.0.weight', 'module.g1.gp.11.calayer.ca.0.bias', 'module.g1.gp.11.calayer.ca.2.weight', 'module.g1.gp.11.calayer.ca.2.bias', 'module.g1.gp.11.palayer.pa.0.weight', 'module.g1.gp.11.palayer.pa.0.bias', 'module.g1.gp.11.palayer.pa.2.weight', 'module.g1.gp.11.palayer.pa.2.bias', 'module.g1.gp.12.conv1.weight', 'module.g1.gp.12.conv1.bias', 'module.g1.gp.12.conv2.weight', 'module.g1.gp.12.conv2.bias', 'module.g1.gp.12.calayer.ca.0.weight', 'module.g1.gp.12.calayer.ca.0.bias', 'module.g1.gp.12.calayer.ca.2.weight', 'module.g1.gp.12.calayer.ca.2.bias', 'module.g1.gp.12.palayer.pa.0.weight', 'module.g1.gp.12.palayer.pa.0.bias', 'module.g1.gp.12.palayer.pa.2.weight', 'module.g1.gp.12.palayer.pa.2.bias', 'module.g1.gp.13.conv1.weight', 'module.g1.gp.13.conv1.bias', 'module.g1.gp.13.conv2.weight', 'module.g1.gp.13.conv2.bias', 'module.g1.gp.13.calayer.ca.0.weight', 'module.g1.gp.13.calayer.ca.0.bias', 'module.g1.gp.13.calayer.ca.2.weight', 'module.g1.gp.13.calayer.ca.2.bias', 'module.g1.gp.13.palayer.pa.0.weight', 'module.g1.gp.13.palayer.pa.0.bias', 'module.g1.gp.13.palayer.pa.2.weight', 'module.g1.gp.13.palayer.pa.2.bias', 'module.g1.gp.14.conv1.weight', 'module.g1.gp.14.conv1.bias', 'module.g1.gp.14.conv2.weight', 'module.g1.gp.14.conv2.bias', 'module.g1.gp.14.calayer.ca.0.weight', 'module.g1.gp.14.calayer.ca.0.bias', 'module.g1.gp.14.calayer.ca.2.weight', 'module.g1.gp.14.calayer.ca.2.bias', 'module.g1.gp.14.palayer.pa.0.weight', 'module.g1.gp.14.palayer.pa.0.bias', 'module.g1.gp.14.palayer.pa.2.weight', 'module.g1.gp.14.palayer.pa.2.bias', 'module.g1.gp.15.conv1.weight', 'module.g1.gp.15.conv1.bias', 'module.g1.gp.15.conv2.weight', 'module.g1.gp.15.conv2.bias', 'module.g1.gp.15.calayer.ca.0.weight', 'module.g1.gp.15.calayer.ca.0.bias', 'module.g1.gp.15.calayer.ca.2.weight', 'module.g1.gp.15.calayer.ca.2.bias', 'module.g1.gp.15.palayer.pa.0.weight', 'module.g1.gp.15.palayer.pa.0.bias', 'module.g1.gp.15.palayer.pa.2.weight', 'module.g1.gp.15.palayer.pa.2.bias', 'module.g1.gp.16.conv1.weight', 'module.g1.gp.16.conv1.bias', 'module.g1.gp.16.conv2.weight', 'module.g1.gp.16.conv2.bias', 'module.g1.gp.16.calayer.ca.0.weight', 'module.g1.gp.16.calayer.ca.0.bias', 'module.g1.gp.16.calayer.ca.2.weight', 'module.g1.gp.16.calayer.ca.2.bias', 'module.g1.gp.16.palayer.pa.0.weight', 'module.g1.gp.16.palayer.pa.0.bias', 'module.g1.gp.16.palayer.pa.2.weight', 'module.g1.gp.16.palayer.pa.2.bias', 'module.g1.gp.17.conv1.weight', 'module.g1.gp.17.conv1.bias', 'module.g1.gp.17.conv2.weight', 'module.g1.gp.17.conv2.bias', 'module.g1.gp.17.calayer.ca.0.weight', 'module.g1.gp.17.calayer.ca.0.bias', 'module.g1.gp.17.calayer.ca.2.weight', 'module.g1.gp.17.calayer.ca.2.bias', 'module.g1.gp.17.palayer.pa.0.weight', 'module.g1.gp.17.palayer.pa.0.bias', 'module.g1.gp.17.palayer.pa.2.weight', 'module.g1.gp.17.palayer.pa.2.bias', 'module.g1.gp.18.conv1.weight', 'module.g1.gp.18.conv1.bias', 'module.g1.gp.18.conv2.weight', 'module.g1.gp.18.conv2.bias', 'module.g1.gp.18.calayer.ca.0.weight', 'module.g1.gp.18.calayer.ca.0.bias', 'module.g1.gp.18.calayer.ca.2.weight', 'module.g1.gp.18.calayer.ca.2.bias', 'module.g1.gp.18.palayer.pa.0.weight', 'module.g1.gp.18.palayer.pa.0.bias', 'module.g1.gp.18.palayer.pa.2.weight', 'module.g1.gp.18.palayer.pa.2.bias', 'module.g1.gp.19.weight', 'module.g1.gp.19.bias', 'module.g2.gp.0.conv1.weight', 'module.g2.gp.0.conv1.bias', 'module.g2.gp.0.conv2.weight', 'module.g2.gp.0.conv2.bias', 'module.g2.gp.0.calayer.ca.0.weight', 'module.g2.gp.0.calayer.ca.0.bias', 'module.g2.gp.0.calayer.ca.2.weight', 'module.g2.gp.0.calayer.ca.2.bias', 'module.g2.gp.0.palayer.pa.0.weight', 'module.g2.gp.0.palayer.pa.0.bias', 'module.g2.gp.0.palayer.pa.2.weight', 'module.g2.gp.0.palayer.pa.2.bias', 'module.g2.gp.1.conv1.weight', 'module.g2.gp.1.conv1.bias', 'module.g2.gp.1.conv2.weight', 'module.g2.gp.1.conv2.bias', 'module.g2.gp.1.calayer.ca.0.weight', 'module.g2.gp.1.calayer.ca.0.bias', 'module.g2.gp.1.calayer.ca.2.weight', 'module.g2.gp.1.calayer.ca.2.bias', 'module.g2.gp.1.palayer.pa.0.weight', 'module.g2.gp.1.palayer.pa.0.bias', 'module.g2.gp.1.palayer.pa.2.weight', 'module.g2.gp.1.palayer.pa.2.bias', 'module.g2.gp.2.conv1.weight', 'module.g2.gp.2.conv1.bias', 'module.g2.gp.2.conv2.weight', 'module.g2.gp.2.conv2.bias', 'module.g2.gp.2.calayer.ca.0.weight', 'module.g2.gp.2.calayer.ca.0.bias', 'module.g2.gp.2.calayer.ca.2.weight', 'module.g2.gp.2.calayer.ca.2.bias', 'module.g2.gp.2.palayer.pa.0.weight', 'module.g2.gp.2.palayer.pa.0.bias', 'module.g2.gp.2.palayer.pa.2.weight', 'module.g2.gp.2.palayer.pa.2.bias', 'module.g2.gp.3.conv1.weight', 'module.g2.gp.3.conv1.bias', 'module.g2.gp.3.conv2.weight', 'module.g2.gp.3.conv2.bias', 'module.g2.gp.3.calayer.ca.0.weight', 'module.g2.gp.3.calayer.ca.0.bias', 'module.g2.gp.3.calayer.ca.2.weight', 'module.g2.gp.3.calayer.ca.2.bias', 'module.g2.gp.3.palayer.pa.0.weight', 'module.g2.gp.3.palayer.pa.0.bias', 'module.g2.gp.3.palayer.pa.2.weight', 'module.g2.gp.3.palayer.pa.2.bias', 'module.g2.gp.4.conv1.weight', 'module.g2.gp.4.conv1.bias', 'module.g2.gp.4.conv2.weight', 'module.g2.gp.4.conv2.bias', 'module.g2.gp.4.calayer.ca.0.weight', 'module.g2.gp.4.calayer.ca.0.bias', 'module.g2.gp.4.calayer.ca.2.weight', 'module.g2.gp.4.calayer.ca.2.bias', 'module.g2.gp.4.palayer.pa.0.weight', 'module.g2.gp.4.palayer.pa.0.bias', 'module.g2.gp.4.palayer.pa.2.weight', 'module.g2.gp.4.palayer.pa.2.bias', 'module.g2.gp.5.conv1.weight', 'module.g2.gp.5.conv1.bias', 'module.g2.gp.5.conv2.weight', 'module.g2.gp.5.conv2.bias', 'module.g2.gp.5.calayer.ca.0.weight', 'module.g2.gp.5.calayer.ca.0.bias', 'module.g2.gp.5.calayer.ca.2.weight', 'module.g2.gp.5.calayer.ca.2.bias', 'module.g2.gp.5.palayer.pa.0.weight', 'module.g2.gp.5.palayer.pa.0.bias', 'module.g2.gp.5.palayer.pa.2.weight', 'module.g2.gp.5.palayer.pa.2.bias', 'module.g2.gp.6.conv1.weight', 'module.g2.gp.6.conv1.bias', 'module.g2.gp.6.conv2.weight', 'module.g2.gp.6.conv2.bias', 'module.g2.gp.6.calayer.ca.0.weight', 'module.g2.gp.6.calayer.ca.0.bias', 'module.g2.gp.6.calayer.ca.2.weight', 'module.g2.gp.6.calayer.ca.2.bias', 'module.g2.gp.6.palayer.pa.0.weight', 'module.g2.gp.6.palayer.pa.0.bias', 'module.g2.gp.6.palayer.pa.2.weight', 'module.g2.gp.6.palayer.pa.2.bias', 'module.g2.gp.7.conv1.weight', 'module.g2.gp.7.conv1.bias', 'module.g2.gp.7.conv2.weight', 'module.g2.gp.7.conv2.bias', 'module.g2.gp.7.calayer.ca.0.weight', 'module.g2.gp.7.calayer.ca.0.bias', 'module.g2.gp.7.calayer.ca.2.weight', 'module.g2.gp.7.calayer.ca.2.bias', 'module.g2.gp.7.palayer.pa.0.weight', 'module.g2.gp.7.palayer.pa.0.bias', 'module.g2.gp.7.palayer.pa.2.weight', 'module.g2.gp.7.palayer.pa.2.bias', 'module.g2.gp.8.conv1.weight', 'module.g2.gp.8.conv1.bias', 'module.g2.gp.8.conv2.weight', 'module.g2.gp.8.conv2.bias', 'module.g2.gp.8.calayer.ca.0.weight', 'module.g2.gp.8.calayer.ca.0.bias', 'module.g2.gp.8.calayer.ca.2.weight', 'module.g2.gp.8.calayer.ca.2.bias', 'module.g2.gp.8.palayer.pa.0.weight', 'module.g2.gp.8.palayer.pa.0.bias', 'module.g2.gp.8.palayer.pa.2.weight', 'module.g2.gp.8.palayer.pa.2.bias', 'module.g2.gp.9.conv1.weight', 'module.g2.gp.9.conv1.bias', 'module.g2.gp.9.conv2.weight', 'module.g2.gp.9.conv2.bias', 'module.g2.gp.9.calayer.ca.0.weight', 'module.g2.gp.9.calayer.ca.0.bias', 'module.g2.gp.9.calayer.ca.2.weight', 'module.g2.gp.9.calayer.ca.2.bias', 'module.g2.gp.9.palayer.pa.0.weight', 'module.g2.gp.9.palayer.pa.0.bias', 'module.g2.gp.9.palayer.pa.2.weight', 'module.g2.gp.9.palayer.pa.2.bias', 'module.g2.gp.10.conv1.weight', 'module.g2.gp.10.conv1.bias', 'module.g2.gp.10.conv2.weight', 'module.g2.gp.10.conv2.bias', 'module.g2.gp.10.calayer.ca.0.weight', 'module.g2.gp.10.calayer.ca.0.bias', 'module.g2.gp.10.calayer.ca.2.weight', 'module.g2.gp.10.calayer.ca.2.bias', 'module.g2.gp.10.palayer.pa.0.weight', 'module.g2.gp.10.palayer.pa.0.bias', 'module.g2.gp.10.palayer.pa.2.weight', 'module.g2.gp.10.palayer.pa.2.bias', 'module.g2.gp.11.conv1.weight', 'module.g2.gp.11.conv1.bias', 'module.g2.gp.11.conv2.weight', 'module.g2.gp.11.conv2.bias', 'module.g2.gp.11.calayer.ca.0.weight', 'module.g2.gp.11.calayer.ca.0.bias', 'module.g2.gp.11.calayer.ca.2.weight', 'module.g2.gp.11.calayer.ca.2.bias', 'module.g2.gp.11.palayer.pa.0.weight', 'module.g2.gp.11.palayer.pa.0.bias', 'module.g2.gp.11.palayer.pa.2.weight', 'module.g2.gp.11.palayer.pa.2.bias', 'module.g2.gp.12.conv1.weight', 'module.g2.gp.12.conv1.bias', 'module.g2.gp.12.conv2.weight', 'module.g2.gp.12.conv2.bias', 'module.g2.gp.12.calayer.ca.0.weight', 'module.g2.gp.12.calayer.ca.0.bias', 'module.g2.gp.12.calayer.ca.2.weight', 'module.g2.gp.12.calayer.ca.2.bias', 'module.g2.gp.12.palayer.pa.0.weight', 'module.g2.gp.12.palayer.pa.0.bias', 'module.g2.gp.12.palayer.pa.2.weight', 'module.g2.gp.12.palayer.pa.2.bias', 'module.g2.gp.13.conv1.weight', 'module.g2.gp.13.conv1.bias', 'module.g2.gp.13.conv2.weight', 'module.g2.gp.13.conv2.bias', 'module.g2.gp.13.calayer.ca.0.weight', 'module.g2.gp.13.calayer.ca.0.bias', 'module.g2.gp.13.calayer.ca.2.weight', 'module.g2.gp.13.calayer.ca.2.bias', 'module.g2.gp.13.palayer.pa.0.weight', 'module.g2.gp.13.palayer.pa.0.bias', 'module.g2.gp.13.palayer.pa.2.weight', 'module.g2.gp.13.palayer.pa.2.bias', 'module.g2.gp.14.conv1.weight', 'module.g2.gp.14.conv1.bias', 'module.g2.gp.14.conv2.weight', 'module.g2.gp.14.conv2.bias', 'module.g2.gp.14.calayer.ca.0.weight', 'module.g2.gp.14.calayer.ca.0.bias', 'module.g2.gp.14.calayer.ca.2.weight', 'module.g2.gp.14.calayer.ca.2.bias', 'module.g2.gp.14.palayer.pa.0.weight', 'module.g2.gp.14.palayer.pa.0.bias', 'module.g2.gp.14.palayer.pa.2.weight', 'module.g2.gp.14.palayer.pa.2.bias', 'module.g2.gp.15.conv1.weight', 'module.g2.gp.15.conv1.bias', 'module.g2.gp.15.conv2.weight', 'module.g2.gp.15.conv2.bias', 'module.g2.gp.15.calayer.ca.0.weight', 'module.g2.gp.15.calayer.ca.0.bias', 'module.g2.gp.15.calayer.ca.2.weight', 'module.g2.gp.15.calayer.ca.2.bias', 'module.g2.gp.15.palayer.pa.0.weight', 'module.g2.gp.15.palayer.pa.0.bias', 'module.g2.gp.15.palayer.pa.2.weight', 'module.g2.gp.15.palayer.pa.2.bias', 'module.g2.gp.16.conv1.weight', 'module.g2.gp.16.conv1.bias', 'module.g2.gp.16.conv2.weight', 'module.g2.gp.16.conv2.bias', 'module.g2.gp.16.calayer.ca.0.weight', 'module.g2.gp.16.calayer.ca.0.bias', 'module.g2.gp.16.calayer.ca.2.weight', 'module.g2.gp.16.calayer.ca.2.bias', 'module.g2.gp.16.palayer.pa.0.weight', 'module.g2.gp.16.palayer.pa.0.bias', 'module.g2.gp.16.palayer.pa.2.weight', 'module.g2.gp.16.palayer.pa.2.bias', 'module.g2.gp.17.conv1.weight', 'module.g2.gp.17.conv1.bias', 'module.g2.gp.17.conv2.weight', 'module.g2.gp.17.conv2.bias', 'module.g2.gp.17.calayer.ca.0.weight', 'module.g2.gp.17.calayer.ca.0.bias', 'module.g2.gp.17.calayer.ca.2.weight', 'module.g2.gp.17.calayer.ca.2.bias', 'module.g2.gp.17.palayer.pa.0.weight', 'module.g2.gp.17.palayer.pa.0.bias', 'module.g2.gp.17.palayer.pa.2.weight', 'module.g2.gp.17.palayer.pa.2.bias', 'module.g2.gp.18.conv1.weight', 'module.g2.gp.18.conv1.bias', 'module.g2.gp.18.conv2.weight', 'module.g2.gp.18.conv2.bias', 'module.g2.gp.18.calayer.ca.0.weight', 'module.g2.gp.18.calayer.ca.0.bias', 'module.g2.gp.18.calayer.ca.2.weight', 'module.g2.gp.18.calayer.ca.2.bias', 'module.g2.gp.18.palayer.pa.0.weight', 'module.g2.gp.18.palayer.pa.0.bias', 'module.g2.gp.18.palayer.pa.2.weight', 'module.g2.gp.18.palayer.pa.2.bias', 'module.g2.gp.19.weight', 'module.g2.gp.19.bias', 'module.g3.gp.0.conv1.weight', 'module.g3.gp.0.conv1.bias', 'module.g3.gp.0.conv2.weight', 'module.g3.gp.0.conv2.bias', 'module.g3.gp.0.calayer.ca.0.weight', 'module.g3.gp.0.calayer.ca.0.bias', 'module.g3.gp.0.calayer.ca.2.weight', 'module.g3.gp.0.calayer.ca.2.bias', 'module.g3.gp.0.palayer.pa.0.weight', 'module.g3.gp.0.palayer.pa.0.bias', 'module.g3.gp.0.palayer.pa.2.weight', 'module.g3.gp.0.palayer.pa.2.bias', 'module.g3.gp.1.conv1.weight', 'module.g3.gp.1.conv1.bias', 'module.g3.gp.1.conv2.weight', 'module.g3.gp.1.conv2.bias', 'module.g3.gp.1.calayer.ca.0.weight', 'module.g3.gp.1.calayer.ca.0.bias', 'module.g3.gp.1.calayer.ca.2.weight', 'module.g3.gp.1.calayer.ca.2.bias', 'module.g3.gp.1.palayer.pa.0.weight', 'module.g3.gp.1.palayer.pa.0.bias', 'module.g3.gp.1.palayer.pa.2.weight', 'module.g3.gp.1.palayer.pa.2.bias', 'module.g3.gp.2.conv1.weight', 'module.g3.gp.2.conv1.bias', 'module.g3.gp.2.conv2.weight', 'module.g3.gp.2.conv2.bias', 'module.g3.gp.2.calayer.ca.0.weight', 'module.g3.gp.2.calayer.ca.0.bias', 'module.g3.gp.2.calayer.ca.2.weight', 'module.g3.gp.2.calayer.ca.2.bias', 'module.g3.gp.2.palayer.pa.0.weight', 'module.g3.gp.2.palayer.pa.0.bias', 'module.g3.gp.2.palayer.pa.2.weight', 'module.g3.gp.2.palayer.pa.2.bias', 'module.g3.gp.3.conv1.weight', 'module.g3.gp.3.conv1.bias', 'module.g3.gp.3.conv2.weight', 'module.g3.gp.3.conv2.bias', 'module.g3.gp.3.calayer.ca.0.weight', 'module.g3.gp.3.calayer.ca.0.bias', 'module.g3.gp.3.calayer.ca.2.weight', 'module.g3.gp.3.calayer.ca.2.bias', 'module.g3.gp.3.palayer.pa.0.weight', 'module.g3.gp.3.palayer.pa.0.bias', 'module.g3.gp.3.palayer.pa.2.weight', 'module.g3.gp.3.palayer.pa.2.bias', 'module.g3.gp.4.conv1.weight', 'module.g3.gp.4.conv1.bias', 'module.g3.gp.4.conv2.weight', 'module.g3.gp.4.conv2.bias', 'module.g3.gp.4.calayer.ca.0.weight', 'module.g3.gp.4.calayer.ca.0.bias', 'module.g3.gp.4.calayer.ca.2.weight', 'module.g3.gp.4.calayer.ca.2.bias', 'module.g3.gp.4.palayer.pa.0.weight', 'module.g3.gp.4.palayer.pa.0.bias', 'module.g3.gp.4.palayer.pa.2.weight', 'module.g3.gp.4.palayer.pa.2.bias', 'module.g3.gp.5.conv1.weight', 'module.g3.gp.5.conv1.bias', 'module.g3.gp.5.conv2.weight', 'module.g3.gp.5.conv2.bias', 'module.g3.gp.5.calayer.ca.0.weight', 'module.g3.gp.5.calayer.ca.0.bias', 'module.g3.gp.5.calayer.ca.2.weight', 'module.g3.gp.5.calayer.ca.2.bias', 'module.g3.gp.5.palayer.pa.0.weight', 'module.g3.gp.5.palayer.pa.0.bias', 'module.g3.gp.5.palayer.pa.2.weight', 'module.g3.gp.5.palayer.pa.2.bias', 'module.g3.gp.6.conv1.weight', 'module.g3.gp.6.conv1.bias', 'module.g3.gp.6.conv2.weight', 'module.g3.gp.6.conv2.bias', 'module.g3.gp.6.calayer.ca.0.weight', 'module.g3.gp.6.calayer.ca.0.bias', 'module.g3.gp.6.calayer.ca.2.weight', 'module.g3.gp.6.calayer.ca.2.bias', 'module.g3.gp.6.palayer.pa.0.weight', 'module.g3.gp.6.palayer.pa.0.bias', 'module.g3.gp.6.palayer.pa.2.weight', 'module.g3.gp.6.palayer.pa.2.bias', 'module.g3.gp.7.conv1.weight', 'module.g3.gp.7.conv1.bias', 'module.g3.gp.7.conv2.weight', 'module.g3.gp.7.conv2.bias', 'module.g3.gp.7.calayer.ca.0.weight', 'module.g3.gp.7.calayer.ca.0.bias', 'module.g3.gp.7.calayer.ca.2.weight', 'module.g3.gp.7.calayer.ca.2.bias', 'module.g3.gp.7.palayer.pa.0.weight', 'module.g3.gp.7.palayer.pa.0.bias', 'module.g3.gp.7.palayer.pa.2.weight', 'module.g3.gp.7.palayer.pa.2.bias', 'module.g3.gp.8.conv1.weight', 'module.g3.gp.8.conv1.bias', 'module.g3.gp.8.conv2.weight', 'module.g3.gp.8.conv2.bias', 'module.g3.gp.8.calayer.ca.0.weight', 'module.g3.gp.8.calayer.ca.0.bias', 'module.g3.gp.8.calayer.ca.2.weight', 'module.g3.gp.8.calayer.ca.2.bias', 'module.g3.gp.8.palayer.pa.0.weight', 'module.g3.gp.8.palayer.pa.0.bias', 'module.g3.gp.8.palayer.pa.2.weight', 'module.g3.gp.8.palayer.pa.2.bias', 'module.g3.gp.9.conv1.weight', 'module.g3.gp.9.conv1.bias', 'module.g3.gp.9.conv2.weight', 'module.g3.gp.9.conv2.bias', 'module.g3.gp.9.calayer.ca.0.weight', 'module.g3.gp.9.calayer.ca.0.bias', 'module.g3.gp.9.calayer.ca.2.weight', 'module.g3.gp.9.calayer.ca.2.bias', 'module.g3.gp.9.palayer.pa.0.weight', 'module.g3.gp.9.palayer.pa.0.bias', 'module.g3.gp.9.palayer.pa.2.weight', 'module.g3.gp.9.palayer.pa.2.bias', 'module.g3.gp.10.conv1.weight', 'module.g3.gp.10.conv1.bias', 'module.g3.gp.10.conv2.weight', 'module.g3.gp.10.conv2.bias', 'module.g3.gp.10.calayer.ca.0.weight', 'module.g3.gp.10.calayer.ca.0.bias', 'module.g3.gp.10.calayer.ca.2.weight', 'module.g3.gp.10.calayer.ca.2.bias', 'module.g3.gp.10.palayer.pa.0.weight', 'module.g3.gp.10.palayer.pa.0.bias', 'module.g3.gp.10.palayer.pa.2.weight', 'module.g3.gp.10.palayer.pa.2.bias', 'module.g3.gp.11.conv1.weight', 'module.g3.gp.11.conv1.bias', 'module.g3.gp.11.conv2.weight', 'module.g3.gp.11.conv2.bias', 'module.g3.gp.11.calayer.ca.0.weight', 'module.g3.gp.11.calayer.ca.0.bias', 'module.g3.gp.11.calayer.ca.2.weight', 'module.g3.gp.11.calayer.ca.2.bias', 'module.g3.gp.11.palayer.pa.0.weight', 'module.g3.gp.11.palayer.pa.0.bias', 'module.g3.gp.11.palayer.pa.2.weight', 'module.g3.gp.11.palayer.pa.2.bias', 'module.g3.gp.12.conv1.weight', 'module.g3.gp.12.conv1.bias', 'module.g3.gp.12.conv2.weight', 'module.g3.gp.12.conv2.bias', 'module.g3.gp.12.calayer.ca.0.weight', 'module.g3.gp.12.calayer.ca.0.bias', 'module.g3.gp.12.calayer.ca.2.weight', 'module.g3.gp.12.calayer.ca.2.bias', 'module.g3.gp.12.palayer.pa.0.weight', 'module.g3.gp.12.palayer.pa.0.bias', 'module.g3.gp.12.palayer.pa.2.weight', 'module.g3.gp.12.palayer.pa.2.bias', 'module.g3.gp.13.conv1.weight', 'module.g3.gp.13.conv1.bias', 'module.g3.gp.13.conv2.weight', 'module.g3.gp.13.conv2.bias', 'module.g3.gp.13.calayer.ca.0.weight', 'module.g3.gp.13.calayer.ca.0.bias', 'module.g3.gp.13.calayer.ca.2.weight', 'module.g3.gp.13.calayer.ca.2.bias', 'module.g3.gp.13.palayer.pa.0.weight', 'module.g3.gp.13.palayer.pa.0.bias', 'module.g3.gp.13.palayer.pa.2.weight', 'module.g3.gp.13.palayer.pa.2.bias', 'module.g3.gp.14.conv1.weight', 'module.g3.gp.14.conv1.bias', 'module.g3.gp.14.conv2.weight', 'module.g3.gp.14.conv2.bias', 'module.g3.gp.14.calayer.ca.0.weight', 'module.g3.gp.14.calayer.ca.0.bias', 'module.g3.gp.14.calayer.ca.2.weight', 'module.g3.gp.14.calayer.ca.2.bias', 'module.g3.gp.14.palayer.pa.0.weight', 'module.g3.gp.14.palayer.pa.0.bias', 'module.g3.gp.14.palayer.pa.2.weight', 'module.g3.gp.14.palayer.pa.2.bias', 'module.g3.gp.15.conv1.weight', 'module.g3.gp.15.conv1.bias', 'module.g3.gp.15.conv2.weight', 'module.g3.gp.15.conv2.bias', 'module.g3.gp.15.calayer.ca.0.weight', 'module.g3.gp.15.calayer.ca.0.bias', 'module.g3.gp.15.calayer.ca.2.weight', 'module.g3.gp.15.calayer.ca.2.bias', 'module.g3.gp.15.palayer.pa.0.weight', 'module.g3.gp.15.palayer.pa.0.bias', 'module.g3.gp.15.palayer.pa.2.weight', 'module.g3.gp.15.palayer.pa.2.bias', 'module.g3.gp.16.conv1.weight', 'module.g3.gp.16.conv1.bias', 'module.g3.gp.16.conv2.weight', 'module.g3.gp.16.conv2.bias', 'module.g3.gp.16.calayer.ca.0.weight', 'module.g3.gp.16.calayer.ca.0.bias', 'module.g3.gp.16.calayer.ca.2.weight', 'module.g3.gp.16.calayer.ca.2.bias', 'module.g3.gp.16.palayer.pa.0.weight', 'module.g3.gp.16.palayer.pa.0.bias', 'module.g3.gp.16.palayer.pa.2.weight', 'module.g3.gp.16.palayer.pa.2.bias', 'module.g3.gp.17.conv1.weight', 'module.g3.gp.17.conv1.bias', 'module.g3.gp.17.conv2.weight', 'module.g3.gp.17.conv2.bias', 'module.g3.gp.17.calayer.ca.0.weight', 'module.g3.gp.17.calayer.ca.0.bias', 'module.g3.gp.17.calayer.ca.2.weight', 'module.g3.gp.17.calayer.ca.2.bias', 'module.g3.gp.17.palayer.pa.0.weight', 'module.g3.gp.17.palayer.pa.0.bias', 'module.g3.gp.17.palayer.pa.2.weight', 'module.g3.gp.17.palayer.pa.2.bias', 'module.g3.gp.18.conv1.weight', 'module.g3.gp.18.conv1.bias', 'module.g3.gp.18.conv2.weight', 'module.g3.gp.18.conv2.bias', 'module.g3.gp.18.calayer.ca.0.weight', 'module.g3.gp.18.calayer.ca.0.bias', 'module.g3.gp.18.calayer.ca.2.weight', 'module.g3.gp.18.calayer.ca.2.bias', 'module.g3.gp.18.palayer.pa.0.weight', 'module.g3.gp.18.palayer.pa.0.bias', 'module.g3.gp.18.palayer.pa.2.weight', 'module.g3.gp.18.palayer.pa.2.bias', 'module.g3.gp.19.weight', 'module.g3.gp.19.bias', 'module.ca.1.weight', 'module.ca.1.bias', 'module.ca.3.weight', 'module.ca.3.bias', 'module.palayer.pa.0.weight', 'module.palayer.pa.0.bias', 'module.palayer.pa.2.weight', 'module.palayer.pa.2.bias', 'module.pre.0.weight', 'module.pre.0.bias', 'module.post.0.weight', 'module.post.0.bias', 'module.post.1.weight', 'module.post.1.bias'])"
            ]
          },
          "metadata": {
            "tags": []
          },
          "execution_count": 46
        }
      ]
    },
    {
      "cell_type": "code",
      "metadata": {
        "id": "VRNOZS-o_1X8",
        "outputId": "2c1d2c1b-227f-4223-c1d4-9babcf065683",
        "colab": {
          "base_uri": "https://localhost:8080/"
        }
      },
      "source": [
        "model.layers"
      ],
      "execution_count": 78,
      "outputs": [
        {
          "output_type": "execute_result",
          "data": {
            "text/plain": [
              "[<__main__.Group_layer at 0x7fe8ff205b50>,\n",
              " <__main__.Group_layer at 0x7fe8ff16b1d0>,\n",
              " <__main__.Group_layer at 0x7fe8fef79f10>,\n",
              " <tensorflow.python.keras.engine.sequential.Sequential at 0x7fe8feb5d910>,\n",
              " <__main__.PixAtLayer at 0x7fe8feb68f90>,\n",
              " <tensorflow.python.keras.engine.sequential.Sequential at 0x7fe8feb6b6d0>,\n",
              " <tensorflow.python.keras.engine.sequential.Sequential at 0x7fe8feb6be10>]"
            ]
          },
          "metadata": {
            "tags": []
          },
          "execution_count": 78
        }
      ]
    },
    {
      "cell_type": "code",
      "metadata": {
        "id": "OV3iVsK-D12t"
      },
      "source": [
        "w=pretrain['model']['module.pre.0.weight']"
      ],
      "execution_count": 53,
      "outputs": []
    },
    {
      "cell_type": "code",
      "metadata": {
        "id": "bG5MbUvLJ7yW",
        "outputId": "3111b676-283f-4304-bb7f-a5761a76735f",
        "colab": {
          "base_uri": "https://localhost:8080/"
        }
      },
      "source": [
        "\n",
        "w=np.moveaxis(pretrain['model']['module.ca.3.weight'].numpy(),(0,1),(-1,-2))\n",
        "print(w.shape)\n",
        "b=pretrain['model']['module.ca.3.bias'].numpy()"
      ],
      "execution_count": 104,
      "outputs": [
        {
          "output_type": "stream",
          "text": [
            "(1, 1, 4, 192)\n"
          ],
          "name": "stdout"
        }
      ]
    },
    {
      "cell_type": "code",
      "metadata": {
        "id": "iyKMdxBGD16t"
      },
      "source": [
        "model.layers[-4].layers[2].set_weights([w,b])"
      ],
      "execution_count": 109,
      "outputs": []
    },
    {
      "cell_type": "code",
      "metadata": {
        "id": "RNAvYe0OD2BJ",
        "outputId": "2a50ce12-9c1f-4302-a48d-b5b3fb5957cf",
        "colab": {
          "base_uri": "https://localhost:8080/"
        }
      },
      "source": [
        "model.layers[0].layers[0].layers[0].layers#.get_weights()[0].shape"
      ],
      "execution_count": 115,
      "outputs": [
        {
          "output_type": "execute_result",
          "data": {
            "text/plain": [
              "[<tensorflow.python.keras.layers.convolutional.Conv2D at 0x7fe8ff17b550>,\n",
              " <tensorflow.python.keras.layers.convolutional.Conv2D at 0x7fe8ff202b50>,\n",
              " <__main__.ChanAtLayer at 0x7fe8ff129750>,\n",
              " <__main__.PixAtLayer at 0x7fe8ff127510>]"
            ]
          },
          "metadata": {
            "tags": []
          },
          "execution_count": 115
        }
      ]
    },
    {
      "cell_type": "code",
      "metadata": {
        "id": "wDns_ijcD2EU"
      },
      "source": [
        "model.save_weights('/content/drive/MyDrive/kitti_nets/ffa/weights/')"
      ],
      "execution_count": 113,
      "outputs": []
    },
    {
      "cell_type": "markdown",
      "metadata": {
        "id": "Zl0WoPoQK4GE"
      },
      "source": [
        "# train"
      ]
    },
    {
      "cell_type": "code",
      "metadata": {
        "trusted": true,
        "scrolled": false,
        "id": "HhB7n03AKnKo",
        "colab": {
          "base_uri": "https://localhost:8080/"
        },
        "outputId": "437cf078-bb28-4c56-a04d-fe054c4d6574"
      },
      "source": [
        "# Hyperparameters\n",
        "epochs = 10\n",
        "batch_size = 1\n",
        "\n",
        "train_data, val_data = dataset_preposses(orig_img_path = '/content/drive/MyDrive/kitti/gt', hazy_img_path = '/content/drive/MyDrive/kitti/hazy',percentage=0.01)\n",
        "train, val = dataloader(train_data, val_data, batch_size)\n",
        "\n",
        "optimizer = Adam(learning_rate = 1e-4,beta_1=0.9,beta_2=0.999,epsilon=1e-8)\n",
        "\n",
        "#net.load_weights('/content/drive/MyDrive/nets/ffa/weights')\n",
        "train_loss_tracker = tf.keras.metrics.MeanSquaredError(name = \"train loss\")\n",
        "val_loss_tracker = tf.keras.metrics.MeanSquaredError(name = \"val loss\")"
      ],
      "execution_count": null,
      "outputs": [
        {
          "output_type": "stream",
          "text": [
            "54\n"
          ],
          "name": "stdout"
        }
      ]
    },
    {
      "cell_type": "code",
      "metadata": {
        "id": "542MIb1E9E5r",
        "colab": {
          "base_uri": "https://localhost:8080/"
        },
        "outputId": "3de6dacd-d3c8-4171-8186-d2f8e0d915f9"
      },
      "source": [
        "model=tf.keras.models.load_model('/content/drive/MyDrive/kitti_nets/ffa/')"
      ],
      "execution_count": null,
      "outputs": [
        {
          "output_type": "stream",
          "text": [
            "WARNING:tensorflow:No training configuration found in save file, so the model was *not* compiled. Compile it manually.\n"
          ],
          "name": "stdout"
        }
      ]
    },
    {
      "cell_type": "code",
      "metadata": {
        "id": "sNnOt6tA6gYc"
      },
      "source": [
        "def lr_schedule_cosdecay(epoch,T=100,init_lr=1e-4):\n",
        "  #T=100\n",
        "  t=epoch;\n",
        "  lr=0.5*(1+math.cos(t*math.pi/T))*init_lr;\n",
        "  return lr\n",
        "\n",
        "def lossVGG(y_true, y_pred):\n",
        "\tvgg = VGG19(include_top=False, weights='imagenet')\n",
        "\tvgg.trainable = False\n",
        "\tcontent_layers = 'block2_conv2'\n",
        "\n",
        "\tlossModel = Model(vgg.input, vgg.get_layer(content_layers).output)\n",
        "\n",
        "\tvggX = lossModel(y_pred)\n",
        "\tvggY = lossModel(y_true)\n",
        "\t\n",
        "\treturn K.mean(K.square(vggX - vggY)) \n",
        "\n",
        "def my_loss(y_true, y_pred):\n",
        "  mae = tf.keras.losses.MeanAbsoluteError()\n",
        "  mae = (y_true, y_pred)\n",
        "  return mae+0.04*lossVGG(y_true, y_pred) "
      ],
      "execution_count": null,
      "outputs": []
    },
    {
      "cell_type": "code",
      "metadata": {
        "trusted": true,
        "scrolled": false,
        "_kg_hide-output": true,
        "id": "L7pz9bV9KnKr"
      },
      "source": [
        "\n",
        "\n",
        "def train_model(epochs, train, val, net, train_loss_tracker, val_loss_tracker, optimizer):\n",
        "    \n",
        "    for epoch in range(epochs):\n",
        "        \n",
        "        print(\"\\nStart of epoch %d\" % (epoch,), end=' ')\n",
        "        start_time_epoch = time.time()\n",
        "        start_time_step = time.time()\n",
        "        \n",
        "        # training loop\n",
        "        \n",
        "        optimizer.learning_rate=lr_schedule_cosdecay(epoch)\n",
        "        for step, (train_batch_haze, train_batch_orig) in enumerate(train):\n",
        "\n",
        "            with tf.GradientTape() as tape:\n",
        "\n",
        "                train_logits = net(train_batch_haze, training = True)\n",
        "                #print(train_logits.shape)\n",
        "                loss = my_loss(train_batch_orig, train_logits)\n",
        "\n",
        "            grads = tape.gradient(loss, net.trainable_weights)\n",
        "            \n",
        "            optimizer.apply_gradients(zip(grads, net.trainable_weights))\n",
        "\n",
        "            train_loss_tracker.update_state(train_batch_orig, train_logits)\n",
        "            if step == 0:\n",
        "                print('[', end='')\n",
        "            if step % 32 == 0:\n",
        "                print('=', end='')\n",
        "        \n",
        "        print(']', end='')\n",
        "        print('  -  ', end='')\n",
        "        print('Training Loss: %.4f' % (train_loss_tracker.result()), end='')\n",
        "        \n",
        "        # validation loop\n",
        "        \n",
        "        for step, (val_batch_haze, val_batch_orig) in enumerate(val):\n",
        "            val_logits = net(val_batch_haze, training = False)\n",
        "            val_loss_tracker.update_state(val_batch_orig, val_logits)\n",
        "            \n",
        "            if step % 32 ==0:\n",
        "                display_img(net, val_batch_haze, val_batch_orig)\n",
        "        \n",
        "        print('  -  ', end='')\n",
        "        print('Validation Loss: %.4f' % (val_loss_tracker.result()), end='')\n",
        "        print('  -  ', end=' ')\n",
        "        print(\"Time taken: %.2fs\" % (time.time() - start_time_epoch))\n",
        "        \n",
        "        #net.save('trained_model')  \n",
        "        #net.save_weights('/content/drive/MyDrive/nets/ffa/weights')         # save the model(variables, weights, etc)\n",
        "        train_loss_tracker.reset_states()\n",
        "        val_loss_tracker.reset_states()"
      ],
      "execution_count": null,
      "outputs": []
    },
    {
      "cell_type": "code",
      "metadata": {
        "id": "37YWjqW-uWyN",
        "colab": {
          "base_uri": "https://localhost:8080/"
        },
        "outputId": "c8618573-e2e2-42ea-9ef5-adb6c3b87717"
      },
      "source": [
        "%%time\n",
        "train_model(2, train, val,model, train_loss_tracker, val_loss_tracker, optimizer)"
      ],
      "execution_count": null,
      "outputs": [
        {
          "output_type": "stream",
          "text": [
            "\n",
            "Start of epoch 0 Downloading data from https://storage.googleapis.com/tensorflow/keras-applications/vgg19/vgg19_weights_tf_dim_ordering_tf_kernels_notop.h5\n",
            "80142336/80134624 [==============================] - 1s 0us/step\n"
          ],
          "name": "stdout"
        }
      ]
    },
    {
      "cell_type": "code",
      "metadata": {
        "id": "tMg7MNzdkWCH",
        "outputId": "1582d50a-4846-4c1c-ca95-afe719dea41e",
        "colab": {
          "base_uri": "https://localhost:8080/",
          "height": 417
        }
      },
      "source": [
        "model.save('/content/drive/MyDrive/kitti_nets/ffa/')\n",
        "\n",
        "model.save_weights('/content/drive/MyDrive/kitti_nets/ffa/weights/')\n",
        "#model=net\n",
        "\n",
        "#model.model().summary()"
      ],
      "execution_count": 58,
      "outputs": [
        {
          "output_type": "stream",
          "text": [
            "WARNING:tensorflow:Skipping full serialization of Keras layer <__main__.FFAnet object at 0x7fe8ff1f8ed0>, because it is not built.\n"
          ],
          "name": "stdout"
        },
        {
          "output_type": "error",
          "ename": "ValueError",
          "evalue": "ignored",
          "traceback": [
            "\u001b[0;31m---------------------------------------------------------------------------\u001b[0m",
            "\u001b[0;31mValueError\u001b[0m                                Traceback (most recent call last)",
            "\u001b[0;32m<ipython-input-58-cd8d69e2dbff>\u001b[0m in \u001b[0;36m<module>\u001b[0;34m()\u001b[0m\n\u001b[0;32m----> 1\u001b[0;31m \u001b[0mmodel\u001b[0m\u001b[0;34m.\u001b[0m\u001b[0msave\u001b[0m\u001b[0;34m(\u001b[0m\u001b[0;34m'/content/drive/MyDrive/kitti_nets/ffa/'\u001b[0m\u001b[0;34m)\u001b[0m\u001b[0;34m\u001b[0m\u001b[0;34m\u001b[0m\u001b[0m\n\u001b[0m\u001b[1;32m      2\u001b[0m \u001b[0;34m\u001b[0m\u001b[0m\n\u001b[1;32m      3\u001b[0m \u001b[0mmodel\u001b[0m\u001b[0;34m.\u001b[0m\u001b[0msave_weights\u001b[0m\u001b[0;34m(\u001b[0m\u001b[0;34m'/content/drive/MyDrive/kitti_nets/ffa/weights/'\u001b[0m\u001b[0;34m)\u001b[0m\u001b[0;34m\u001b[0m\u001b[0;34m\u001b[0m\u001b[0m\n\u001b[1;32m      4\u001b[0m \u001b[0;31m#model=net\u001b[0m\u001b[0;34m\u001b[0m\u001b[0;34m\u001b[0m\u001b[0;34m\u001b[0m\u001b[0m\n\u001b[1;32m      5\u001b[0m \u001b[0;34m\u001b[0m\u001b[0m\n",
            "\u001b[0;32m/usr/local/lib/python3.7/dist-packages/tensorflow/python/keras/engine/training.py\u001b[0m in \u001b[0;36msave\u001b[0;34m(self, filepath, overwrite, include_optimizer, save_format, signatures, options, save_traces)\u001b[0m\n\u001b[1;32m   2000\u001b[0m     \u001b[0;31m# pylint: enable=line-too-long\u001b[0m\u001b[0;34m\u001b[0m\u001b[0;34m\u001b[0m\u001b[0;34m\u001b[0m\u001b[0m\n\u001b[1;32m   2001\u001b[0m     save.save_model(self, filepath, overwrite, include_optimizer, save_format,\n\u001b[0;32m-> 2002\u001b[0;31m                     signatures, options, save_traces)\n\u001b[0m\u001b[1;32m   2003\u001b[0m \u001b[0;34m\u001b[0m\u001b[0m\n\u001b[1;32m   2004\u001b[0m   def save_weights(self,\n",
            "\u001b[0;32m/usr/local/lib/python3.7/dist-packages/tensorflow/python/keras/saving/save.py\u001b[0m in \u001b[0;36msave_model\u001b[0;34m(model, filepath, overwrite, include_optimizer, save_format, signatures, options, save_traces)\u001b[0m\n\u001b[1;32m    155\u001b[0m   \u001b[0;32melse\u001b[0m\u001b[0;34m:\u001b[0m\u001b[0;34m\u001b[0m\u001b[0;34m\u001b[0m\u001b[0m\n\u001b[1;32m    156\u001b[0m     saved_model_save.save(model, filepath, overwrite, include_optimizer,\n\u001b[0;32m--> 157\u001b[0;31m                           signatures, options, save_traces)\n\u001b[0m\u001b[1;32m    158\u001b[0m \u001b[0;34m\u001b[0m\u001b[0m\n\u001b[1;32m    159\u001b[0m \u001b[0;34m\u001b[0m\u001b[0m\n",
            "\u001b[0;32m/usr/local/lib/python3.7/dist-packages/tensorflow/python/keras/saving/saved_model/save.py\u001b[0m in \u001b[0;36msave\u001b[0;34m(model, filepath, overwrite, include_optimizer, signatures, options, save_traces)\u001b[0m\n\u001b[1;32m     71\u001b[0m   \u001b[0;32mif\u001b[0m \u001b[0msave_traces\u001b[0m\u001b[0;34m:\u001b[0m\u001b[0;34m\u001b[0m\u001b[0;34m\u001b[0m\u001b[0m\n\u001b[1;32m     72\u001b[0m     \u001b[0;32mif\u001b[0m \u001b[0msave_impl\u001b[0m\u001b[0;34m.\u001b[0m\u001b[0mshould_skip_serialization\u001b[0m\u001b[0;34m(\u001b[0m\u001b[0mmodel\u001b[0m\u001b[0;34m)\u001b[0m\u001b[0;34m:\u001b[0m\u001b[0;34m\u001b[0m\u001b[0;34m\u001b[0m\u001b[0m\n\u001b[0;32m---> 73\u001b[0;31m       \u001b[0msaving_utils\u001b[0m\u001b[0;34m.\u001b[0m\u001b[0mraise_model_input_error\u001b[0m\u001b[0;34m(\u001b[0m\u001b[0mmodel\u001b[0m\u001b[0;34m)\u001b[0m\u001b[0;34m\u001b[0m\u001b[0;34m\u001b[0m\u001b[0m\n\u001b[0m\u001b[1;32m     74\u001b[0m \u001b[0;34m\u001b[0m\u001b[0m\n\u001b[1;32m     75\u001b[0m   \u001b[0;32mif\u001b[0m \u001b[0;32mnot\u001b[0m \u001b[0minclude_optimizer\u001b[0m\u001b[0;34m:\u001b[0m\u001b[0;34m\u001b[0m\u001b[0;34m\u001b[0m\u001b[0m\n",
            "\u001b[0;32m/usr/local/lib/python3.7/dist-packages/tensorflow/python/keras/saving/saving_utils.py\u001b[0m in \u001b[0;36mraise_model_input_error\u001b[0;34m(model)\u001b[0m\n\u001b[1;32m     96\u001b[0m       \u001b[0;34m'set. Usually, input shapes are automatically determined from calling'\u001b[0m\u001b[0;34m\u001b[0m\u001b[0;34m\u001b[0m\u001b[0m\n\u001b[1;32m     97\u001b[0m       \u001b[0;34m' `.fit()` or `.predict()`. To manually set the shapes, call '\u001b[0m\u001b[0;34m\u001b[0m\u001b[0;34m\u001b[0m\u001b[0m\n\u001b[0;32m---> 98\u001b[0;31m       '`model.build(input_shape)`.'.format(model))\n\u001b[0m\u001b[1;32m     99\u001b[0m \u001b[0;34m\u001b[0m\u001b[0m\n\u001b[1;32m    100\u001b[0m \u001b[0;34m\u001b[0m\u001b[0m\n",
            "\u001b[0;31mValueError\u001b[0m: Model <__main__.FFAnet object at 0x7fe8ff1f8ed0> cannot be saved because the input shapes have not been set. Usually, input shapes are automatically determined from calling `.fit()` or `.predict()`. To manually set the shapes, call `model.build(input_shape)`."
          ]
        }
      ]
    },
    {
      "cell_type": "markdown",
      "metadata": {
        "id": "mhExtlubE8X3"
      },
      "source": [
        "## Test"
      ]
    },
    {
      "cell_type": "code",
      "metadata": {
        "id": "Apmkwb-1udIK"
      },
      "source": [
        "import cv2\n",
        "import matplotlib.pyplot as plt\n",
        "\n",
        "def evaluate_gen(net):\n",
        "    \n",
        "    #test_img = glob.glob(test_img_path +'/*.jpg')\n",
        "    test_img=glob.glob('/content/drive/MyDrive/Final_compare/HAZY/*.jpg')\n",
        "    #random.shuffle(test_img)\n",
        "    i=0;\n",
        "    for img in test_img:\n",
        "        print(img)\n",
        "        img = tf.io.read_file(img)\n",
        "        img = tf.io.decode_jpeg(img, channels = 3)\n",
        "        \n",
        "        img = tf.image.resize(img, size = (412,548), antialias = True)\n",
        "        \n",
        "        img = img / 255.0\n",
        "        print(i,end=\" \")\n",
        "        img = tf.expand_dims(img, axis = 0)      #transform input image from 3D to 4D ###\n",
        "        \n",
        "        dehaze =net(img, training = True)\n",
        "        dehaze=tf.image.resize(dehaze, size = (413,550), antialias = True)\n",
        "        #plt.figure(figsize = (80, 80))\n",
        "        \n",
        "        #display_list = [img[0], dehaze[0]]       #make the first dimension zero\n",
        "        im=dehaze[0]\n",
        "        directory = '/content/drive/MyDrive/Final_compare/ffa'\n",
        "        os.chdir(directory)\n",
        "        filename = str(i) + '_outdoor_gen.jpg'\n",
        "        #print(filename)\n",
        "        #cv2.imwrite(filename,im) \n",
        "        #plt.imsave(filename,im)\n",
        "        tf.keras.preprocessing.image.save_img(\n",
        "    filename, \n",
        "\n",
        "im)\n",
        "\n",
        "        os.chdir('/content')\n",
        "        i+=1;\n",
        "\n"
      ],
      "execution_count": null,
      "outputs": []
    },
    {
      "cell_type": "code",
      "metadata": {
        "id": "7Sh6GG8rumQ0",
        "colab": {
          "base_uri": "https://localhost:8080/"
        },
        "outputId": "8fc8dfe4-8211-41d5-bd91-4662489a8f9d"
      },
      "source": [
        "#new_model = tf.keras.models.load_model('/content/drive/MyDrive/nets/gca',compile=False)\n",
        "#new_model = tf.keras.models.load_model('/content/drive/MyDrive/nets/gca/trained_model',compile=False)\n",
        "#new_model = tf.keras.models.load_model('/content/drive/MyDrive/nets/test_custom_loss_net',compile=False)\n",
        "\n",
        "net = FFAnet(gps=3,blocks=8)\n",
        "net.load_weights('/content/drive/MyDrive/nets/ffa/weights')\n",
        "#evaluate_gen(new_model)\n",
        "evaluate_gen(net)"
      ],
      "execution_count": null,
      "outputs": [
        {
          "output_type": "stream",
          "text": [
            "/content/drive/MyDrive/Final_compare/HAZY/0_outdoor_hazy.jpg\n",
            "0 /content/drive/MyDrive/Final_compare/HAZY/4_outdoor_hazy.jpg\n",
            "1 /content/drive/MyDrive/Final_compare/HAZY/2_outdoor_hazy.jpg\n",
            "2 /content/drive/MyDrive/Final_compare/HAZY/5_outdoor_hazy.jpg\n",
            "3 /content/drive/MyDrive/Final_compare/HAZY/3_outdoor_hazy.jpg\n",
            "4 /content/drive/MyDrive/Final_compare/HAZY/1_outdoor_hazy.jpg\n",
            "5 /content/drive/MyDrive/Final_compare/HAZY/6_outdoor_hazy.jpg\n",
            "6 /content/drive/MyDrive/Final_compare/HAZY/7_outdoor_hazy.jpg\n",
            "7 /content/drive/MyDrive/Final_compare/HAZY/8_outdoor_hazy.jpg\n",
            "8 /content/drive/MyDrive/Final_compare/HAZY/9_outdoor_hazy.jpg\n",
            "9 /content/drive/MyDrive/Final_compare/HAZY/10_outdoor_hazy.jpg\n",
            "10 /content/drive/MyDrive/Final_compare/HAZY/11_outdoor_hazy.jpg\n",
            "11 /content/drive/MyDrive/Final_compare/HAZY/12_outdoor_hazy.jpg\n",
            "12 /content/drive/MyDrive/Final_compare/HAZY/13_outdoor_hazy.jpg\n",
            "13 /content/drive/MyDrive/Final_compare/HAZY/14_outdoor_hazy.jpg\n",
            "14 /content/drive/MyDrive/Final_compare/HAZY/15_outdoor_hazy.jpg\n",
            "15 /content/drive/MyDrive/Final_compare/HAZY/16_outdoor_hazy.jpg\n",
            "16 /content/drive/MyDrive/Final_compare/HAZY/17_outdoor_hazy.jpg\n",
            "17 /content/drive/MyDrive/Final_compare/HAZY/18_outdoor_hazy.jpg\n",
            "18 /content/drive/MyDrive/Final_compare/HAZY/19_outdoor_hazy.jpg\n",
            "19 /content/drive/MyDrive/Final_compare/HAZY/20_outdoor_hazy.jpg\n",
            "20 /content/drive/MyDrive/Final_compare/HAZY/21_outdoor_hazy.jpg\n",
            "21 /content/drive/MyDrive/Final_compare/HAZY/22_outdoor_hazy.jpg\n",
            "22 /content/drive/MyDrive/Final_compare/HAZY/23_outdoor_hazy.jpg\n",
            "23 /content/drive/MyDrive/Final_compare/HAZY/24_outdoor_hazy.jpg\n",
            "24 /content/drive/MyDrive/Final_compare/HAZY/25_outdoor_hazy.jpg\n",
            "25 /content/drive/MyDrive/Final_compare/HAZY/26_outdoor_hazy.jpg\n",
            "26 /content/drive/MyDrive/Final_compare/HAZY/27_outdoor_hazy.jpg\n",
            "27 /content/drive/MyDrive/Final_compare/HAZY/28_outdoor_hazy.jpg\n",
            "28 /content/drive/MyDrive/Final_compare/HAZY/29_outdoor_hazy.jpg\n",
            "29 /content/drive/MyDrive/Final_compare/HAZY/30_outdoor_hazy.jpg\n",
            "30 /content/drive/MyDrive/Final_compare/HAZY/31_outdoor_hazy.jpg\n",
            "31 /content/drive/MyDrive/Final_compare/HAZY/32_outdoor_hazy.jpg\n",
            "32 /content/drive/MyDrive/Final_compare/HAZY/33_outdoor_hazy.jpg\n",
            "33 /content/drive/MyDrive/Final_compare/HAZY/34_outdoor_hazy.jpg\n",
            "34 /content/drive/MyDrive/Final_compare/HAZY/35_outdoor_hazy.jpg\n",
            "35 /content/drive/MyDrive/Final_compare/HAZY/36_outdoor_hazy.jpg\n",
            "36 /content/drive/MyDrive/Final_compare/HAZY/37_outdoor_hazy.jpg\n",
            "37 /content/drive/MyDrive/Final_compare/HAZY/38_outdoor_hazy.jpg\n",
            "38 /content/drive/MyDrive/Final_compare/HAZY/40_outdoor_hazy.jpg\n",
            "39 /content/drive/MyDrive/Final_compare/HAZY/39_outdoor_hazy.jpg\n",
            "40 /content/drive/MyDrive/Final_compare/HAZY/41_outdoor_hazy.jpg\n",
            "41 "
          ],
          "name": "stdout"
        }
      ]
    },
    {
      "cell_type": "markdown",
      "metadata": {
        "id": "CinhPC_5OSPB"
      },
      "source": [
        "## Learn"
      ]
    },
    {
      "cell_type": "code",
      "metadata": {
        "id": "iylDejI5qxZH"
      },
      "source": [
        "import torch.nn as nn\n",
        "import torch\n",
        "\n",
        "def default_conv(in_channels, out_channels, kernel_size, bias=True):\n",
        "    return nn.Conv2d(in_channels, out_channels, kernel_size,padding=(kernel_size//2), bias=bias)\n",
        "    \n",
        "class PALayer(nn.Module):\n",
        "    def __init__(self, channel):\n",
        "        super(PALayer, self).__init__()\n",
        "        self.pa = nn.Sequential(\n",
        "                nn.Conv2d(channel, channel // 8, 1, padding=0, bias=True),\n",
        "                nn.ReLU(inplace=True),\n",
        "                nn.Conv2d(channel // 8, 1, 1, padding=0, bias=True),\n",
        "                nn.Sigmoid()\n",
        "        )\n",
        "    def forward(self, x):\n",
        "        y = self.pa(x)\n",
        "        return x * y\n",
        "\n",
        "class CALayer(nn.Module):\n",
        "    def __init__(self, channel):\n",
        "        super(CALayer, self).__init__()\n",
        "        self.avg_pool = nn.AdaptiveAvgPool2d(1)\n",
        "        self.ca = nn.Sequential(\n",
        "                nn.Conv2d(channel, channel // 8, 1, padding=0, bias=True),\n",
        "                nn.ReLU(inplace=True),\n",
        "                nn.Conv2d(channel // 8, channel, 1, padding=0, bias=True),\n",
        "                nn.Sigmoid()\n",
        "        )\n",
        "\n",
        "    def forward(self, x):\n",
        "        y = self.avg_pool(x)\n",
        "        y = self.ca(y)\n",
        "        return x * y\n",
        "\n",
        "class Block(nn.Module):\n",
        "    def __init__(self, conv, dim, kernel_size,):\n",
        "        super(Block, self).__init__()\n",
        "        self.conv1=conv(dim, dim, kernel_size, bias=True)\n",
        "        self.act1=nn.ReLU(inplace=True)\n",
        "        self.conv2=conv(dim,dim,kernel_size,bias=True)\n",
        "        self.calayer=CALayer(dim)\n",
        "        self.palayer=PALayer(dim)\n",
        "    def forward(self, x):\n",
        "        res=self.act1(self.conv1(x))\n",
        "        res=res+x \n",
        "        res=self.conv2(res)\n",
        "        res=self.calayer(res)\n",
        "        res=self.palayer(res)\n",
        "        res += x \n",
        "        return res\n",
        "class Group(nn.Module):\n",
        "    def __init__(self, conv, dim, kernel_size, blocks):\n",
        "        super(Group, self).__init__()\n",
        "        modules = [ Block(conv, dim, kernel_size)  for _ in range(blocks)]\n",
        "        modules.append(conv(dim, dim, kernel_size))\n",
        "        self.gp = nn.Sequential(*modules)\n",
        "    def forward(self, x):\n",
        "        res = self.gp(x)\n",
        "        res += x\n",
        "        return res\n",
        "\n",
        "class FFA(nn.Module):\n",
        "    def __init__(self,gps,blocks,conv=default_conv):\n",
        "        super(FFA, self).__init__()\n",
        "        self.gps=gps\n",
        "        self.dim=64\n",
        "        kernel_size=3\n",
        "        pre_process = [conv(3, self.dim, kernel_size)]\n",
        "        assert self.gps==3\n",
        "        self.g1= Group(conv, self.dim, kernel_size,blocks=blocks)\n",
        "        self.g2= Group(conv, self.dim, kernel_size,blocks=blocks)\n",
        "        self.g3= Group(conv, self.dim, kernel_size,blocks=blocks)\n",
        "        self.ca=nn.Sequential(*[\n",
        "            nn.AdaptiveAvgPool2d(1),\n",
        "            nn.Conv2d(self.dim*self.gps,self.dim//16,1,padding=0),\n",
        "            nn.ReLU(inplace=True),\n",
        "            nn.Conv2d(self.dim//16, self.dim*self.gps, 1, padding=0, bias=True),\n",
        "            nn.Sigmoid()\n",
        "            ])\n",
        "        self.palayer=PALayer(self.dim)\n",
        "\n",
        "        post_precess = [\n",
        "            conv(self.dim, self.dim, kernel_size),\n",
        "            conv(self.dim, 3, kernel_size)]\n",
        "\n",
        "        self.pre = nn.Sequential(*pre_process)\n",
        "        self.post = nn.Sequential(*post_precess)\n",
        "\n",
        "    def forward(self, x1):\n",
        "        x = self.pre(x1)\n",
        "        res1=self.g1(x)\n",
        "        res2=self.g2(res1)\n",
        "        res3=self.g3(res2)\n",
        "        #return res3\n",
        "        w=torch.cat([res1,res2,res3],dim=1)\n",
        "        w=self.ca(w)\n",
        "        #return w\n",
        "        w=w.view(-1,self.gps,self.dim)[:,:,:,None,None]\n",
        "        #print(h.shape)\n",
        "        #return h\n",
        "        \n",
        "        out=w[:,0,::]*res1+w[:,1,::]*res2+w[:,2,::]*res3\n",
        "        \n",
        "        #return out\n",
        "        out=self.palayer(out)\n",
        "        #return out\n",
        "        x=self.post(out)\n",
        "        return x + x1"
      ],
      "execution_count": null,
      "outputs": []
    },
    {
      "cell_type": "code",
      "metadata": {
        "colab": {
          "base_uri": "https://localhost:8080/"
        },
        "id": "awsfQhl5q2rw",
        "outputId": "4456e05f-e609-403d-f43e-096af0b04b54"
      },
      "source": [
        "from torchsummary import summary\n",
        "net=FFA(gps=3,blocks=6)\n",
        "if torch.cuda.is_available():\n",
        "    net.cuda()\n",
        "print(summary(net, (3, 412, 548)))"
      ],
      "execution_count": null,
      "outputs": [
        {
          "output_type": "stream",
          "text": [
            "----------------------------------------------------------------\n",
            "        Layer (type)               Output Shape         Param #\n",
            "================================================================\n",
            "            Conv2d-1         [-1, 64, 412, 548]           1,792\n",
            "            Conv2d-2         [-1, 64, 412, 548]          36,928\n",
            "              ReLU-3         [-1, 64, 412, 548]               0\n",
            "            Conv2d-4         [-1, 64, 412, 548]          36,928\n",
            " AdaptiveAvgPool2d-5             [-1, 64, 1, 1]               0\n",
            "            Conv2d-6              [-1, 8, 1, 1]             520\n",
            "              ReLU-7              [-1, 8, 1, 1]               0\n",
            "            Conv2d-8             [-1, 64, 1, 1]             576\n",
            "           Sigmoid-9             [-1, 64, 1, 1]               0\n",
            "          CALayer-10         [-1, 64, 412, 548]               0\n",
            "           Conv2d-11          [-1, 8, 412, 548]             520\n",
            "             ReLU-12          [-1, 8, 412, 548]               0\n",
            "           Conv2d-13          [-1, 1, 412, 548]               9\n",
            "          Sigmoid-14          [-1, 1, 412, 548]               0\n",
            "          PALayer-15         [-1, 64, 412, 548]               0\n",
            "            Block-16         [-1, 64, 412, 548]               0\n",
            "           Conv2d-17         [-1, 64, 412, 548]          36,928\n",
            "             ReLU-18         [-1, 64, 412, 548]               0\n",
            "           Conv2d-19         [-1, 64, 412, 548]          36,928\n",
            "AdaptiveAvgPool2d-20             [-1, 64, 1, 1]               0\n",
            "           Conv2d-21              [-1, 8, 1, 1]             520\n",
            "             ReLU-22              [-1, 8, 1, 1]               0\n",
            "           Conv2d-23             [-1, 64, 1, 1]             576\n",
            "          Sigmoid-24             [-1, 64, 1, 1]               0\n",
            "          CALayer-25         [-1, 64, 412, 548]               0\n",
            "           Conv2d-26          [-1, 8, 412, 548]             520\n",
            "             ReLU-27          [-1, 8, 412, 548]               0\n",
            "           Conv2d-28          [-1, 1, 412, 548]               9\n",
            "          Sigmoid-29          [-1, 1, 412, 548]               0\n",
            "          PALayer-30         [-1, 64, 412, 548]               0\n",
            "            Block-31         [-1, 64, 412, 548]               0\n",
            "           Conv2d-32         [-1, 64, 412, 548]          36,928\n",
            "             ReLU-33         [-1, 64, 412, 548]               0\n",
            "           Conv2d-34         [-1, 64, 412, 548]          36,928\n",
            "AdaptiveAvgPool2d-35             [-1, 64, 1, 1]               0\n",
            "           Conv2d-36              [-1, 8, 1, 1]             520\n",
            "             ReLU-37              [-1, 8, 1, 1]               0\n",
            "           Conv2d-38             [-1, 64, 1, 1]             576\n",
            "          Sigmoid-39             [-1, 64, 1, 1]               0\n",
            "          CALayer-40         [-1, 64, 412, 548]               0\n",
            "           Conv2d-41          [-1, 8, 412, 548]             520\n",
            "             ReLU-42          [-1, 8, 412, 548]               0\n",
            "           Conv2d-43          [-1, 1, 412, 548]               9\n",
            "          Sigmoid-44          [-1, 1, 412, 548]               0\n",
            "          PALayer-45         [-1, 64, 412, 548]               0\n",
            "            Block-46         [-1, 64, 412, 548]               0\n",
            "           Conv2d-47         [-1, 64, 412, 548]          36,928\n",
            "             ReLU-48         [-1, 64, 412, 548]               0\n",
            "           Conv2d-49         [-1, 64, 412, 548]          36,928\n",
            "AdaptiveAvgPool2d-50             [-1, 64, 1, 1]               0\n",
            "           Conv2d-51              [-1, 8, 1, 1]             520\n",
            "             ReLU-52              [-1, 8, 1, 1]               0\n",
            "           Conv2d-53             [-1, 64, 1, 1]             576\n",
            "          Sigmoid-54             [-1, 64, 1, 1]               0\n",
            "          CALayer-55         [-1, 64, 412, 548]               0\n",
            "           Conv2d-56          [-1, 8, 412, 548]             520\n",
            "             ReLU-57          [-1, 8, 412, 548]               0\n",
            "           Conv2d-58          [-1, 1, 412, 548]               9\n",
            "          Sigmoid-59          [-1, 1, 412, 548]               0\n",
            "          PALayer-60         [-1, 64, 412, 548]               0\n",
            "            Block-61         [-1, 64, 412, 548]               0\n",
            "           Conv2d-62         [-1, 64, 412, 548]          36,928\n",
            "             ReLU-63         [-1, 64, 412, 548]               0\n",
            "           Conv2d-64         [-1, 64, 412, 548]          36,928\n",
            "AdaptiveAvgPool2d-65             [-1, 64, 1, 1]               0\n",
            "           Conv2d-66              [-1, 8, 1, 1]             520\n",
            "             ReLU-67              [-1, 8, 1, 1]               0\n",
            "           Conv2d-68             [-1, 64, 1, 1]             576\n",
            "          Sigmoid-69             [-1, 64, 1, 1]               0\n",
            "          CALayer-70         [-1, 64, 412, 548]               0\n",
            "           Conv2d-71          [-1, 8, 412, 548]             520\n",
            "             ReLU-72          [-1, 8, 412, 548]               0\n",
            "           Conv2d-73          [-1, 1, 412, 548]               9\n",
            "          Sigmoid-74          [-1, 1, 412, 548]               0\n",
            "          PALayer-75         [-1, 64, 412, 548]               0\n",
            "            Block-76         [-1, 64, 412, 548]               0\n",
            "           Conv2d-77         [-1, 64, 412, 548]          36,928\n",
            "             ReLU-78         [-1, 64, 412, 548]               0\n",
            "           Conv2d-79         [-1, 64, 412, 548]          36,928\n",
            "AdaptiveAvgPool2d-80             [-1, 64, 1, 1]               0\n",
            "           Conv2d-81              [-1, 8, 1, 1]             520\n",
            "             ReLU-82              [-1, 8, 1, 1]               0\n",
            "           Conv2d-83             [-1, 64, 1, 1]             576\n",
            "          Sigmoid-84             [-1, 64, 1, 1]               0\n",
            "          CALayer-85         [-1, 64, 412, 548]               0\n",
            "           Conv2d-86          [-1, 8, 412, 548]             520\n",
            "             ReLU-87          [-1, 8, 412, 548]               0\n",
            "           Conv2d-88          [-1, 1, 412, 548]               9\n",
            "          Sigmoid-89          [-1, 1, 412, 548]               0\n",
            "          PALayer-90         [-1, 64, 412, 548]               0\n",
            "            Block-91         [-1, 64, 412, 548]               0\n",
            "           Conv2d-92         [-1, 64, 412, 548]          36,928\n",
            "            Group-93         [-1, 64, 412, 548]               0\n",
            "           Conv2d-94         [-1, 64, 412, 548]          36,928\n",
            "             ReLU-95         [-1, 64, 412, 548]               0\n",
            "           Conv2d-96         [-1, 64, 412, 548]          36,928\n",
            "AdaptiveAvgPool2d-97             [-1, 64, 1, 1]               0\n",
            "           Conv2d-98              [-1, 8, 1, 1]             520\n",
            "             ReLU-99              [-1, 8, 1, 1]               0\n",
            "          Conv2d-100             [-1, 64, 1, 1]             576\n",
            "         Sigmoid-101             [-1, 64, 1, 1]               0\n",
            "         CALayer-102         [-1, 64, 412, 548]               0\n",
            "          Conv2d-103          [-1, 8, 412, 548]             520\n",
            "            ReLU-104          [-1, 8, 412, 548]               0\n",
            "          Conv2d-105          [-1, 1, 412, 548]               9\n",
            "         Sigmoid-106          [-1, 1, 412, 548]               0\n",
            "         PALayer-107         [-1, 64, 412, 548]               0\n",
            "           Block-108         [-1, 64, 412, 548]               0\n",
            "          Conv2d-109         [-1, 64, 412, 548]          36,928\n",
            "            ReLU-110         [-1, 64, 412, 548]               0\n",
            "          Conv2d-111         [-1, 64, 412, 548]          36,928\n",
            "AdaptiveAvgPool2d-112             [-1, 64, 1, 1]               0\n",
            "          Conv2d-113              [-1, 8, 1, 1]             520\n",
            "            ReLU-114              [-1, 8, 1, 1]               0\n",
            "          Conv2d-115             [-1, 64, 1, 1]             576\n",
            "         Sigmoid-116             [-1, 64, 1, 1]               0\n",
            "         CALayer-117         [-1, 64, 412, 548]               0\n",
            "          Conv2d-118          [-1, 8, 412, 548]             520\n",
            "            ReLU-119          [-1, 8, 412, 548]               0\n",
            "          Conv2d-120          [-1, 1, 412, 548]               9\n",
            "         Sigmoid-121          [-1, 1, 412, 548]               0\n",
            "         PALayer-122         [-1, 64, 412, 548]               0\n",
            "           Block-123         [-1, 64, 412, 548]               0\n",
            "          Conv2d-124         [-1, 64, 412, 548]          36,928\n",
            "            ReLU-125         [-1, 64, 412, 548]               0\n",
            "          Conv2d-126         [-1, 64, 412, 548]          36,928\n",
            "AdaptiveAvgPool2d-127             [-1, 64, 1, 1]               0\n",
            "          Conv2d-128              [-1, 8, 1, 1]             520\n",
            "            ReLU-129              [-1, 8, 1, 1]               0\n",
            "          Conv2d-130             [-1, 64, 1, 1]             576\n",
            "         Sigmoid-131             [-1, 64, 1, 1]               0\n",
            "         CALayer-132         [-1, 64, 412, 548]               0\n",
            "          Conv2d-133          [-1, 8, 412, 548]             520\n",
            "            ReLU-134          [-1, 8, 412, 548]               0\n",
            "          Conv2d-135          [-1, 1, 412, 548]               9\n",
            "         Sigmoid-136          [-1, 1, 412, 548]               0\n",
            "         PALayer-137         [-1, 64, 412, 548]               0\n",
            "           Block-138         [-1, 64, 412, 548]               0\n",
            "          Conv2d-139         [-1, 64, 412, 548]          36,928\n",
            "            ReLU-140         [-1, 64, 412, 548]               0\n",
            "          Conv2d-141         [-1, 64, 412, 548]          36,928\n",
            "AdaptiveAvgPool2d-142             [-1, 64, 1, 1]               0\n",
            "          Conv2d-143              [-1, 8, 1, 1]             520\n",
            "            ReLU-144              [-1, 8, 1, 1]               0\n",
            "          Conv2d-145             [-1, 64, 1, 1]             576\n",
            "         Sigmoid-146             [-1, 64, 1, 1]               0\n",
            "         CALayer-147         [-1, 64, 412, 548]               0\n",
            "          Conv2d-148          [-1, 8, 412, 548]             520\n",
            "            ReLU-149          [-1, 8, 412, 548]               0\n",
            "          Conv2d-150          [-1, 1, 412, 548]               9\n",
            "         Sigmoid-151          [-1, 1, 412, 548]               0\n",
            "         PALayer-152         [-1, 64, 412, 548]               0\n",
            "           Block-153         [-1, 64, 412, 548]               0\n",
            "          Conv2d-154         [-1, 64, 412, 548]          36,928\n",
            "            ReLU-155         [-1, 64, 412, 548]               0\n",
            "          Conv2d-156         [-1, 64, 412, 548]          36,928\n",
            "AdaptiveAvgPool2d-157             [-1, 64, 1, 1]               0\n",
            "          Conv2d-158              [-1, 8, 1, 1]             520\n",
            "            ReLU-159              [-1, 8, 1, 1]               0\n",
            "          Conv2d-160             [-1, 64, 1, 1]             576\n",
            "         Sigmoid-161             [-1, 64, 1, 1]               0\n",
            "         CALayer-162         [-1, 64, 412, 548]               0\n",
            "          Conv2d-163          [-1, 8, 412, 548]             520\n",
            "            ReLU-164          [-1, 8, 412, 548]               0\n",
            "          Conv2d-165          [-1, 1, 412, 548]               9\n",
            "         Sigmoid-166          [-1, 1, 412, 548]               0\n",
            "         PALayer-167         [-1, 64, 412, 548]               0\n",
            "           Block-168         [-1, 64, 412, 548]               0\n",
            "          Conv2d-169         [-1, 64, 412, 548]          36,928\n",
            "            ReLU-170         [-1, 64, 412, 548]               0\n",
            "          Conv2d-171         [-1, 64, 412, 548]          36,928\n",
            "AdaptiveAvgPool2d-172             [-1, 64, 1, 1]               0\n",
            "          Conv2d-173              [-1, 8, 1, 1]             520\n",
            "            ReLU-174              [-1, 8, 1, 1]               0\n",
            "          Conv2d-175             [-1, 64, 1, 1]             576\n",
            "         Sigmoid-176             [-1, 64, 1, 1]               0\n",
            "         CALayer-177         [-1, 64, 412, 548]               0\n",
            "          Conv2d-178          [-1, 8, 412, 548]             520\n",
            "            ReLU-179          [-1, 8, 412, 548]               0\n",
            "          Conv2d-180          [-1, 1, 412, 548]               9\n",
            "         Sigmoid-181          [-1, 1, 412, 548]               0\n",
            "         PALayer-182         [-1, 64, 412, 548]               0\n",
            "           Block-183         [-1, 64, 412, 548]               0\n",
            "          Conv2d-184         [-1, 64, 412, 548]          36,928\n",
            "           Group-185         [-1, 64, 412, 548]               0\n",
            "          Conv2d-186         [-1, 64, 412, 548]          36,928\n",
            "            ReLU-187         [-1, 64, 412, 548]               0\n",
            "          Conv2d-188         [-1, 64, 412, 548]          36,928\n",
            "AdaptiveAvgPool2d-189             [-1, 64, 1, 1]               0\n",
            "          Conv2d-190              [-1, 8, 1, 1]             520\n",
            "            ReLU-191              [-1, 8, 1, 1]               0\n",
            "          Conv2d-192             [-1, 64, 1, 1]             576\n",
            "         Sigmoid-193             [-1, 64, 1, 1]               0\n",
            "         CALayer-194         [-1, 64, 412, 548]               0\n",
            "          Conv2d-195          [-1, 8, 412, 548]             520\n",
            "            ReLU-196          [-1, 8, 412, 548]               0\n",
            "          Conv2d-197          [-1, 1, 412, 548]               9\n",
            "         Sigmoid-198          [-1, 1, 412, 548]               0\n",
            "         PALayer-199         [-1, 64, 412, 548]               0\n",
            "           Block-200         [-1, 64, 412, 548]               0\n",
            "          Conv2d-201         [-1, 64, 412, 548]          36,928\n",
            "            ReLU-202         [-1, 64, 412, 548]               0\n",
            "          Conv2d-203         [-1, 64, 412, 548]          36,928\n",
            "AdaptiveAvgPool2d-204             [-1, 64, 1, 1]               0\n",
            "          Conv2d-205              [-1, 8, 1, 1]             520\n",
            "            ReLU-206              [-1, 8, 1, 1]               0\n",
            "          Conv2d-207             [-1, 64, 1, 1]             576\n",
            "         Sigmoid-208             [-1, 64, 1, 1]               0\n",
            "         CALayer-209         [-1, 64, 412, 548]               0\n",
            "          Conv2d-210          [-1, 8, 412, 548]             520\n",
            "            ReLU-211          [-1, 8, 412, 548]               0\n",
            "          Conv2d-212          [-1, 1, 412, 548]               9\n",
            "         Sigmoid-213          [-1, 1, 412, 548]               0\n",
            "         PALayer-214         [-1, 64, 412, 548]               0\n",
            "           Block-215         [-1, 64, 412, 548]               0\n",
            "          Conv2d-216         [-1, 64, 412, 548]          36,928\n",
            "            ReLU-217         [-1, 64, 412, 548]               0\n",
            "          Conv2d-218         [-1, 64, 412, 548]          36,928\n",
            "AdaptiveAvgPool2d-219             [-1, 64, 1, 1]               0\n",
            "          Conv2d-220              [-1, 8, 1, 1]             520\n",
            "            ReLU-221              [-1, 8, 1, 1]               0\n",
            "          Conv2d-222             [-1, 64, 1, 1]             576\n",
            "         Sigmoid-223             [-1, 64, 1, 1]               0\n",
            "         CALayer-224         [-1, 64, 412, 548]               0\n",
            "          Conv2d-225          [-1, 8, 412, 548]             520\n",
            "            ReLU-226          [-1, 8, 412, 548]               0\n",
            "          Conv2d-227          [-1, 1, 412, 548]               9\n",
            "         Sigmoid-228          [-1, 1, 412, 548]               0\n",
            "         PALayer-229         [-1, 64, 412, 548]               0\n",
            "           Block-230         [-1, 64, 412, 548]               0\n",
            "          Conv2d-231         [-1, 64, 412, 548]          36,928\n",
            "            ReLU-232         [-1, 64, 412, 548]               0\n",
            "          Conv2d-233         [-1, 64, 412, 548]          36,928\n",
            "AdaptiveAvgPool2d-234             [-1, 64, 1, 1]               0\n",
            "          Conv2d-235              [-1, 8, 1, 1]             520\n",
            "            ReLU-236              [-1, 8, 1, 1]               0\n",
            "          Conv2d-237             [-1, 64, 1, 1]             576\n",
            "         Sigmoid-238             [-1, 64, 1, 1]               0\n",
            "         CALayer-239         [-1, 64, 412, 548]               0\n",
            "          Conv2d-240          [-1, 8, 412, 548]             520\n",
            "            ReLU-241          [-1, 8, 412, 548]               0\n",
            "          Conv2d-242          [-1, 1, 412, 548]               9\n",
            "         Sigmoid-243          [-1, 1, 412, 548]               0\n",
            "         PALayer-244         [-1, 64, 412, 548]               0\n",
            "           Block-245         [-1, 64, 412, 548]               0\n",
            "          Conv2d-246         [-1, 64, 412, 548]          36,928\n",
            "            ReLU-247         [-1, 64, 412, 548]               0\n",
            "          Conv2d-248         [-1, 64, 412, 548]          36,928\n",
            "AdaptiveAvgPool2d-249             [-1, 64, 1, 1]               0\n",
            "          Conv2d-250              [-1, 8, 1, 1]             520\n",
            "            ReLU-251              [-1, 8, 1, 1]               0\n",
            "          Conv2d-252             [-1, 64, 1, 1]             576\n",
            "         Sigmoid-253             [-1, 64, 1, 1]               0\n",
            "         CALayer-254         [-1, 64, 412, 548]               0\n",
            "          Conv2d-255          [-1, 8, 412, 548]             520\n",
            "            ReLU-256          [-1, 8, 412, 548]               0\n",
            "          Conv2d-257          [-1, 1, 412, 548]               9\n",
            "         Sigmoid-258          [-1, 1, 412, 548]               0\n",
            "         PALayer-259         [-1, 64, 412, 548]               0\n",
            "           Block-260         [-1, 64, 412, 548]               0\n",
            "          Conv2d-261         [-1, 64, 412, 548]          36,928\n",
            "            ReLU-262         [-1, 64, 412, 548]               0\n",
            "          Conv2d-263         [-1, 64, 412, 548]          36,928\n",
            "AdaptiveAvgPool2d-264             [-1, 64, 1, 1]               0\n",
            "          Conv2d-265              [-1, 8, 1, 1]             520\n",
            "            ReLU-266              [-1, 8, 1, 1]               0\n",
            "          Conv2d-267             [-1, 64, 1, 1]             576\n",
            "         Sigmoid-268             [-1, 64, 1, 1]               0\n",
            "         CALayer-269         [-1, 64, 412, 548]               0\n",
            "          Conv2d-270          [-1, 8, 412, 548]             520\n",
            "            ReLU-271          [-1, 8, 412, 548]               0\n",
            "          Conv2d-272          [-1, 1, 412, 548]               9\n",
            "         Sigmoid-273          [-1, 1, 412, 548]               0\n",
            "         PALayer-274         [-1, 64, 412, 548]               0\n",
            "           Block-275         [-1, 64, 412, 548]               0\n",
            "          Conv2d-276         [-1, 64, 412, 548]          36,928\n",
            "           Group-277         [-1, 64, 412, 548]               0\n",
            "AdaptiveAvgPool2d-278            [-1, 192, 1, 1]               0\n",
            "          Conv2d-279              [-1, 4, 1, 1]             772\n",
            "            ReLU-280              [-1, 4, 1, 1]               0\n",
            "          Conv2d-281            [-1, 192, 1, 1]             960\n",
            "         Sigmoid-282            [-1, 192, 1, 1]               0\n",
            "          Conv2d-283          [-1, 8, 412, 548]             520\n",
            "            ReLU-284          [-1, 8, 412, 548]               0\n",
            "          Conv2d-285          [-1, 1, 412, 548]               9\n",
            "         Sigmoid-286          [-1, 1, 412, 548]               0\n",
            "         PALayer-287         [-1, 64, 412, 548]               0\n",
            "          Conv2d-288         [-1, 64, 412, 548]          36,928\n",
            "          Conv2d-289          [-1, 3, 412, 548]           1,731\n",
            "================================================================\n",
            "Total params: 1,512,154\n",
            "Trainable params: 1,512,154\n",
            "Non-trainable params: 0\n",
            "----------------------------------------------------------------\n",
            "Input size (MB): 2.58\n",
            "Forward/backward pass size (MB): 13492.64\n",
            "Params size (MB): 5.77\n",
            "Estimated Total Size (MB): 13501.00\n",
            "----------------------------------------------------------------\n",
            "None\n"
          ],
          "name": "stdout"
        }
      ]
    },
    {
      "cell_type": "code",
      "metadata": {
        "id": "4OWIHI4esYhS"
      },
      "source": [
        "a=torch.rand(8,10,4,5)"
      ],
      "execution_count": null,
      "outputs": []
    },
    {
      "cell_type": "code",
      "metadata": {
        "colab": {
          "base_uri": "https://localhost:8080/"
        },
        "id": "_PGuWXj547Jr",
        "outputId": "92368a47-0c9b-459a-e25f-7a1c795d899f"
      },
      "source": [
        "a.shape"
      ],
      "execution_count": null,
      "outputs": [
        {
          "output_type": "execute_result",
          "data": {
            "text/plain": [
              "torch.Size([8, 10, 4, 5])"
            ]
          },
          "metadata": {
            "tags": []
          },
          "execution_count": 3
        }
      ]
    },
    {
      "cell_type": "code",
      "metadata": {
        "id": "_WO_DpyF48ta"
      },
      "source": [
        "b=a.view([-1,1,4])[:,:,:,None,None]"
      ],
      "execution_count": null,
      "outputs": []
    },
    {
      "cell_type": "code",
      "metadata": {
        "colab": {
          "base_uri": "https://localhost:8080/"
        },
        "id": "1yuzEliY9Qaz",
        "outputId": "4f99ce6f-137b-482d-ab14-b1aeca23eb70"
      },
      "source": [
        "b.shape"
      ],
      "execution_count": null,
      "outputs": [
        {
          "output_type": "execute_result",
          "data": {
            "text/plain": [
              "torch.Size([400, 1, 4, 1, 1])"
            ]
          },
          "metadata": {
            "tags": []
          },
          "execution_count": 9
        }
      ]
    },
    {
      "cell_type": "code",
      "metadata": {
        "colab": {
          "base_uri": "https://localhost:8080/"
        },
        "id": "PR-fdDNs9Vbm",
        "outputId": "0a8c490d-a704-4bd5-a3d5-25d5f1c66448"
      },
      "source": [
        "a"
      ],
      "execution_count": null,
      "outputs": [
        {
          "output_type": "execute_result",
          "data": {
            "text/plain": [
              "tensor([[[[9.3083e-01, 3.4149e-01, 6.2464e-02, 1.6509e-01, 3.1680e-02],\n",
              "          [7.2932e-01, 8.6349e-01, 7.6379e-01, 5.4104e-01, 9.7537e-01],\n",
              "          [4.5767e-01, 4.5184e-01, 9.1770e-01, 8.9308e-01, 1.4236e-01],\n",
              "          [5.9230e-01, 5.2894e-01, 5.9084e-01, 3.4301e-01, 6.7397e-01]],\n",
              "\n",
              "         [[2.4420e-01, 9.0421e-01, 8.0007e-01, 2.4886e-01, 7.9879e-01],\n",
              "          [9.1165e-01, 7.0346e-01, 7.9042e-01, 6.0191e-01, 8.5700e-01],\n",
              "          [9.2220e-01, 9.7841e-01, 4.9970e-01, 7.1415e-01, 9.4095e-01],\n",
              "          [6.4002e-01, 7.6082e-01, 4.6441e-01, 6.2140e-01, 1.4274e-01]],\n",
              "\n",
              "         [[8.4974e-01, 2.5507e-01, 8.0035e-01, 5.1506e-01, 1.2641e-01],\n",
              "          [4.8470e-01, 4.9259e-01, 4.6987e-01, 2.3502e-01, 4.9751e-01],\n",
              "          [9.3467e-01, 4.2462e-01, 7.4162e-01, 9.8951e-01, 3.1179e-01],\n",
              "          [5.8126e-01, 4.0467e-01, 9.0122e-02, 7.9426e-01, 5.9412e-01]],\n",
              "\n",
              "         ...,\n",
              "\n",
              "         [[9.4131e-01, 1.4768e-01, 9.0415e-01, 4.3891e-01, 5.5551e-01],\n",
              "          [2.2357e-01, 2.0926e-01, 5.8239e-01, 8.8684e-01, 6.0740e-01],\n",
              "          [6.4233e-01, 4.4024e-01, 9.5278e-01, 1.0888e-01, 8.7115e-01],\n",
              "          [7.3704e-01, 3.1586e-01, 1.8295e-01, 2.3671e-01, 7.5733e-01]],\n",
              "\n",
              "         [[2.5483e-01, 6.6777e-01, 4.7993e-01, 2.9533e-01, 2.1966e-01],\n",
              "          [7.4241e-02, 3.7392e-01, 3.1122e-01, 8.0679e-01, 2.9604e-01],\n",
              "          [3.1855e-01, 1.9526e-02, 6.0106e-01, 9.6941e-01, 4.6717e-01],\n",
              "          [7.9077e-01, 2.7994e-01, 5.8196e-01, 3.2222e-01, 4.3936e-01]],\n",
              "\n",
              "         [[9.9562e-01, 7.8819e-02, 1.5977e-01, 4.9566e-01, 8.3516e-01],\n",
              "          [6.6440e-01, 3.1640e-01, 3.4249e-01, 1.4556e-01, 7.1632e-01],\n",
              "          [2.1298e-02, 1.2015e-01, 8.2020e-01, 5.3875e-01, 1.1538e-01],\n",
              "          [2.6342e-01, 2.5797e-01, 9.7121e-01, 6.8004e-01, 8.1370e-01]]],\n",
              "\n",
              "\n",
              "        [[[4.9131e-01, 7.7460e-01, 5.0110e-02, 8.0884e-01, 1.1397e-01],\n",
              "          [1.1396e-01, 1.0326e-01, 5.0639e-02, 4.6703e-02, 2.5765e-01],\n",
              "          [2.2372e-02, 1.2785e-01, 4.4125e-01, 9.9637e-01, 9.6416e-01],\n",
              "          [1.3741e-01, 9.8672e-01, 3.2119e-01, 1.9321e-01, 6.5694e-01]],\n",
              "\n",
              "         [[9.6618e-01, 4.4700e-01, 5.1058e-01, 6.9604e-01, 1.0528e-01],\n",
              "          [7.9042e-01, 9.9630e-01, 3.1922e-01, 8.0474e-01, 8.3852e-02],\n",
              "          [1.4767e-01, 4.0757e-01, 3.2398e-01, 6.9736e-01, 8.6081e-01],\n",
              "          [8.1801e-01, 1.1024e-01, 3.9611e-01, 7.0807e-01, 5.9957e-02]],\n",
              "\n",
              "         [[9.6435e-01, 6.1274e-01, 9.1272e-01, 1.6974e-01, 5.1867e-01],\n",
              "          [3.3722e-01, 8.4247e-01, 9.9447e-01, 4.4785e-01, 8.5800e-02],\n",
              "          [8.1786e-01, 4.2279e-01, 7.1090e-01, 5.7297e-01, 9.2112e-01],\n",
              "          [3.2117e-01, 1.7946e-01, 5.8149e-01, 4.3210e-01, 3.6476e-01]],\n",
              "\n",
              "         ...,\n",
              "\n",
              "         [[1.1432e-01, 5.7191e-01, 7.1334e-01, 8.2424e-01, 6.9010e-01],\n",
              "          [7.2112e-01, 8.1780e-01, 2.4759e-01, 1.4431e-01, 4.0475e-01],\n",
              "          [6.2909e-01, 1.0600e-01, 8.3521e-01, 8.7863e-01, 5.0520e-01],\n",
              "          [2.6305e-01, 7.8003e-01, 1.1649e-02, 4.7599e-01, 3.0373e-01]],\n",
              "\n",
              "         [[8.7774e-01, 6.1230e-01, 1.3340e-01, 3.3973e-01, 2.0296e-02],\n",
              "          [3.3504e-01, 2.8665e-01, 7.0090e-01, 9.8403e-01, 1.7923e-02],\n",
              "          [8.2080e-01, 2.7627e-01, 4.2627e-01, 7.0056e-01, 3.6122e-01],\n",
              "          [6.9320e-01, 4.1412e-01, 4.5945e-01, 2.4170e-01, 4.7788e-01]],\n",
              "\n",
              "         [[9.5658e-01, 8.7278e-01, 8.2358e-01, 6.5094e-01, 8.5972e-01],\n",
              "          [7.5115e-01, 7.8257e-01, 5.2626e-01, 6.5144e-01, 1.5907e-01],\n",
              "          [1.3537e-01, 9.9789e-01, 2.0840e-01, 3.9087e-01, 8.6965e-01],\n",
              "          [8.8638e-02, 6.4976e-01, 6.4045e-03, 5.7614e-01, 7.7878e-01]]],\n",
              "\n",
              "\n",
              "        [[[1.0413e-01, 2.1862e-01, 1.8008e-01, 3.6849e-01, 3.7145e-02],\n",
              "          [6.2975e-01, 1.0979e-01, 4.0253e-02, 3.1868e-03, 2.5524e-01],\n",
              "          [6.7366e-01, 3.9581e-01, 7.9400e-01, 4.5840e-01, 6.6516e-01],\n",
              "          [8.0748e-01, 9.7856e-01, 3.9041e-02, 5.2625e-01, 8.5499e-01]],\n",
              "\n",
              "         [[7.4418e-01, 7.4748e-01, 9.6071e-01, 3.8732e-01, 8.5415e-01],\n",
              "          [9.3440e-01, 8.9113e-01, 6.8610e-01, 6.4000e-01, 4.3760e-01],\n",
              "          [3.6656e-01, 9.8579e-01, 7.6248e-01, 9.2830e-01, 9.3459e-01],\n",
              "          [1.7452e-01, 8.7983e-01, 7.8676e-01, 4.1362e-01, 2.2073e-01]],\n",
              "\n",
              "         [[6.4021e-01, 8.9922e-01, 9.7093e-01, 7.6137e-01, 8.6798e-02],\n",
              "          [4.2456e-01, 6.0259e-01, 9.0615e-01, 7.7096e-01, 3.8188e-01],\n",
              "          [4.8449e-01, 6.0090e-02, 7.8442e-01, 5.7686e-01, 3.6148e-01],\n",
              "          [5.0976e-01, 4.6254e-01, 7.9525e-02, 5.9355e-01, 3.5597e-01]],\n",
              "\n",
              "         ...,\n",
              "\n",
              "         [[9.8331e-01, 1.9844e-01, 8.3901e-01, 7.5456e-02, 7.8642e-04],\n",
              "          [6.1764e-01, 9.1105e-01, 3.8821e-01, 2.0074e-01, 1.6321e-01],\n",
              "          [9.1483e-01, 8.1869e-01, 5.8112e-01, 2.4748e-01, 7.5160e-01],\n",
              "          [7.3596e-02, 6.0072e-01, 4.5396e-01, 5.2071e-01, 5.6675e-01]],\n",
              "\n",
              "         [[3.5113e-01, 8.1813e-03, 2.1281e-01, 7.0857e-01, 3.3544e-01],\n",
              "          [6.1100e-01, 7.7690e-01, 9.3224e-01, 4.7341e-01, 4.4489e-01],\n",
              "          [1.6212e-01, 7.0372e-01, 5.8398e-01, 3.9891e-01, 1.0667e-01],\n",
              "          [8.8330e-01, 7.2751e-01, 6.4074e-01, 6.8314e-01, 3.2961e-01]],\n",
              "\n",
              "         [[3.4897e-03, 5.0017e-01, 8.4731e-01, 8.7169e-01, 7.4727e-01],\n",
              "          [6.5675e-01, 6.0725e-01, 9.4236e-01, 6.4756e-01, 7.9467e-01],\n",
              "          [9.6010e-01, 8.5414e-01, 2.5214e-01, 2.7417e-01, 2.1061e-01],\n",
              "          [2.0481e-01, 1.2946e-01, 8.0400e-01, 6.8058e-01, 7.8493e-01]]],\n",
              "\n",
              "\n",
              "        ...,\n",
              "\n",
              "\n",
              "        [[[9.4200e-01, 9.9925e-01, 3.2359e-01, 9.3122e-01, 8.7234e-01],\n",
              "          [6.4220e-01, 8.7830e-02, 8.9318e-01, 6.9718e-01, 3.1473e-02],\n",
              "          [8.2729e-01, 4.5527e-01, 1.5547e-02, 2.1658e-01, 9.3602e-01],\n",
              "          [1.3564e-01, 5.2533e-03, 7.8193e-01, 3.9359e-01, 2.5791e-01]],\n",
              "\n",
              "         [[4.5238e-01, 8.8022e-01, 7.3947e-01, 2.5760e-02, 4.4184e-01],\n",
              "          [2.4808e-02, 9.5442e-01, 8.6768e-01, 7.2749e-01, 6.4913e-01],\n",
              "          [9.8324e-02, 5.1609e-01, 6.6435e-02, 9.9103e-01, 9.4463e-01],\n",
              "          [3.0175e-02, 9.3393e-01, 4.3769e-01, 3.9084e-01, 8.9094e-01]],\n",
              "\n",
              "         [[6.9332e-01, 7.2630e-01, 1.4219e-02, 6.7387e-02, 2.0680e-01],\n",
              "          [7.6949e-01, 3.8329e-01, 3.3776e-01, 5.1156e-01, 2.4162e-01],\n",
              "          [5.4582e-03, 4.1580e-01, 2.1363e-01, 3.2225e-01, 4.5083e-01],\n",
              "          [4.7499e-01, 8.3330e-01, 9.4742e-01, 4.2945e-01, 8.9241e-01]],\n",
              "\n",
              "         ...,\n",
              "\n",
              "         [[3.9347e-01, 1.7580e-01, 6.8531e-01, 4.4823e-01, 3.2726e-01],\n",
              "          [1.1921e-01, 1.6637e-01, 3.3770e-01, 6.5494e-01, 7.6163e-01],\n",
              "          [7.9390e-01, 4.9946e-01, 3.2134e-01, 3.6575e-01, 3.5196e-01],\n",
              "          [1.9135e-01, 5.2851e-01, 7.9585e-01, 2.0235e-01, 3.6274e-01]],\n",
              "\n",
              "         [[9.3674e-01, 7.7775e-01, 8.4558e-01, 1.0803e-01, 2.9351e-01],\n",
              "          [6.7370e-01, 8.8460e-01, 6.6039e-01, 2.1738e-01, 3.2772e-01],\n",
              "          [5.1705e-01, 1.5183e-01, 4.6138e-01, 8.8144e-01, 2.2250e-01],\n",
              "          [7.2633e-01, 4.8409e-01, 4.1464e-01, 7.4168e-01, 8.5958e-01]],\n",
              "\n",
              "         [[4.0257e-01, 6.6944e-01, 7.7432e-01, 9.6477e-01, 7.9876e-01],\n",
              "          [1.9381e-01, 6.0749e-01, 3.7295e-01, 6.1972e-01, 3.8981e-01],\n",
              "          [6.1903e-01, 3.8279e-01, 5.1258e-01, 4.4970e-01, 3.6353e-01],\n",
              "          [8.1935e-01, 8.2477e-01, 5.1464e-02, 9.3999e-01, 4.1030e-01]]],\n",
              "\n",
              "\n",
              "        [[[8.0679e-01, 1.1459e-01, 1.6088e-01, 7.6539e-01, 6.5822e-01],\n",
              "          [4.9865e-01, 1.7656e-01, 6.2977e-01, 6.0107e-01, 2.8119e-02],\n",
              "          [5.6591e-01, 6.1999e-01, 9.5594e-02, 9.4884e-01, 4.7140e-01],\n",
              "          [9.2849e-01, 8.8225e-01, 7.1042e-01, 8.8294e-01, 7.9962e-01]],\n",
              "\n",
              "         [[6.0456e-01, 1.1276e-01, 4.4295e-01, 3.3262e-01, 4.1132e-01],\n",
              "          [9.0329e-01, 7.9394e-01, 4.1708e-01, 2.0504e-01, 3.7101e-01],\n",
              "          [3.6588e-01, 8.1531e-01, 4.0100e-01, 7.3156e-01, 2.2090e-01],\n",
              "          [8.5319e-02, 8.2813e-01, 4.3404e-01, 6.1318e-01, 4.2708e-01]],\n",
              "\n",
              "         [[1.7562e-03, 1.5980e-01, 8.3107e-01, 7.1127e-01, 3.3462e-01],\n",
              "          [4.6094e-01, 6.5244e-01, 1.7918e-01, 1.5492e-01, 7.0304e-01],\n",
              "          [8.9857e-01, 7.5567e-02, 9.6472e-01, 9.6843e-01, 5.5020e-02],\n",
              "          [5.1650e-01, 1.5691e-01, 6.6096e-01, 9.7242e-01, 6.6290e-01]],\n",
              "\n",
              "         ...,\n",
              "\n",
              "         [[3.9553e-01, 6.7768e-01, 4.5415e-01, 9.2677e-01, 4.6087e-01],\n",
              "          [8.7337e-01, 5.6222e-01, 4.5347e-01, 1.6533e-02, 1.9009e-01],\n",
              "          [7.5291e-01, 2.3213e-02, 2.7141e-01, 1.2870e-01, 5.9374e-01],\n",
              "          [9.3704e-01, 8.1413e-02, 3.8907e-01, 8.2394e-01, 7.4301e-01]],\n",
              "\n",
              "         [[8.4346e-01, 6.1088e-01, 4.7789e-01, 6.8867e-01, 9.8916e-01],\n",
              "          [3.4843e-01, 2.6337e-01, 1.0876e-01, 4.7394e-01, 6.5516e-01],\n",
              "          [8.0146e-01, 4.9652e-01, 9.3354e-01, 5.6032e-01, 4.5893e-01],\n",
              "          [7.6706e-01, 1.2519e-01, 1.7858e-01, 8.4966e-01, 2.5392e-01]],\n",
              "\n",
              "         [[2.8089e-01, 2.0920e-01, 4.0714e-02, 9.7175e-01, 2.3023e-01],\n",
              "          [4.6437e-01, 1.7542e-01, 3.0997e-01, 8.0457e-01, 8.7954e-01],\n",
              "          [5.0319e-01, 3.3313e-01, 3.3481e-01, 6.3157e-01, 5.9417e-01],\n",
              "          [3.8032e-01, 6.4867e-01, 5.3490e-01, 6.7842e-01, 5.4050e-01]]],\n",
              "\n",
              "\n",
              "        [[[2.3045e-01, 8.8810e-01, 9.7796e-01, 7.2483e-01, 3.5758e-02],\n",
              "          [2.6194e-01, 6.2140e-02, 2.7351e-01, 8.1926e-01, 4.9699e-01],\n",
              "          [6.1701e-01, 4.9566e-01, 4.2496e-01, 8.4423e-01, 9.8846e-01],\n",
              "          [1.7577e-02, 6.9850e-01, 1.1823e-01, 6.9360e-01, 2.0899e-01]],\n",
              "\n",
              "         [[7.9578e-01, 6.6999e-01, 5.3262e-02, 5.3751e-01, 7.9641e-01],\n",
              "          [5.7327e-01, 6.9873e-02, 8.4284e-01, 8.6053e-01, 4.8799e-01],\n",
              "          [6.0712e-01, 8.5043e-01, 3.9142e-01, 5.6915e-01, 2.1611e-01],\n",
              "          [8.8520e-01, 8.2709e-02, 6.8283e-01, 1.7021e-01, 9.7054e-01]],\n",
              "\n",
              "         [[9.2645e-01, 4.0486e-01, 2.2087e-01, 6.9469e-01, 4.8280e-01],\n",
              "          [8.6675e-01, 9.7453e-01, 8.3170e-01, 4.2676e-02, 4.0462e-01],\n",
              "          [7.2201e-01, 1.2195e-01, 9.2379e-01, 8.4565e-01, 5.6562e-01],\n",
              "          [6.1466e-01, 6.1885e-01, 7.9342e-01, 4.8766e-01, 5.4656e-01]],\n",
              "\n",
              "         ...,\n",
              "\n",
              "         [[2.7540e-01, 5.5975e-01, 8.3513e-02, 7.0732e-01, 2.1274e-01],\n",
              "          [1.2074e-01, 5.6937e-01, 2.9179e-01, 4.1092e-01, 4.9234e-01],\n",
              "          [8.0777e-01, 3.2130e-01, 4.0233e-01, 4.5728e-01, 5.7761e-02],\n",
              "          [8.2147e-02, 6.5959e-01, 9.5713e-01, 5.9723e-01, 2.0122e-01]],\n",
              "\n",
              "         [[2.6586e-01, 7.9335e-02, 5.3933e-01, 3.7755e-02, 5.3225e-01],\n",
              "          [9.0088e-01, 1.8912e-01, 4.1365e-01, 5.1701e-01, 5.0033e-01],\n",
              "          [7.7472e-01, 8.0958e-01, 6.1972e-01, 6.8749e-01, 3.4739e-01],\n",
              "          [3.8221e-01, 1.2611e-01, 6.7537e-01, 9.2996e-01, 9.5878e-01]],\n",
              "\n",
              "         [[7.3462e-01, 8.3431e-01, 6.2635e-01, 8.5804e-01, 4.6070e-01],\n",
              "          [3.2344e-01, 1.1535e-01, 3.0798e-01, 5.1198e-01, 6.2342e-01],\n",
              "          [5.1456e-01, 8.2519e-01, 7.8173e-01, 8.7987e-01, 2.7184e-01],\n",
              "          [2.0867e-01, 5.3660e-01, 4.6571e-02, 7.0305e-01, 2.3632e-01]]]])"
            ]
          },
          "metadata": {
            "tags": []
          },
          "execution_count": 7
        }
      ]
    },
    {
      "cell_type": "code",
      "metadata": {
        "id": "24dEvFyL-56o"
      },
      "source": [
        ""
      ],
      "execution_count": null,
      "outputs": []
    }
  ]
}