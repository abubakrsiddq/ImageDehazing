{
  "nbformat": 4,
  "nbformat_minor": 0,
  "metadata": {
    "colab": {
      "name": "generateDataset.ipynb",
      "provenance": [],
      "collapsed_sections": [],
      "include_colab_link": true
    },
    "kernelspec": {
      "name": "python3",
      "display_name": "Python 3"
    },
    "language_info": {
      "name": "python"
    }
  },
  "cells": [
    {
      "cell_type": "markdown",
      "metadata": {
        "id": "view-in-github",
        "colab_type": "text"
      },
      "source": [
        "<a href=\"https://colab.research.google.com/github/abubakrsiddq/ImageDehazing/blob/main/Datasets/generateDataset.ipynb\" target=\"_parent\"><img src=\"https://colab.research.google.com/assets/colab-badge.svg\" alt=\"Open In Colab\"/></a>"
      ]
    },
    {
      "cell_type": "code",
      "metadata": {
        "id": "9KCY0RW34rmP"
      },
      "source": [
        "import PIL\n",
        "import numpy as np\n",
        "import matplotlib.pyplot as plt\n",
        "import glob"
      ],
      "execution_count": 10,
      "outputs": []
    },
    {
      "cell_type": "code",
      "metadata": {
        "id": "BHN-n0rtvjl-",
        "outputId": "33ee05aa-ce8f-45c4-b7a9-f357869326f5",
        "colab": {
          "base_uri": "https://localhost:8080/"
        }
      },
      "source": [
        "from google.colab import drive\n",
        "drive.mount('/content/drive')"
      ],
      "execution_count": 11,
      "outputs": [
        {
          "output_type": "stream",
          "text": [
            "Drive already mounted at /content/drive; to attempt to forcibly remount, call drive.mount(\"/content/drive\", force_remount=True).\n"
          ],
          "name": "stdout"
        }
      ]
    },
    {
      "cell_type": "code",
      "metadata": {
        "id": "sKEwM4vnSPNg"
      },
      "source": [
        "clear_path_list=glob.glob('/content/drive/MyDrive/kitti/gt/*.png')\n",
        "depth_path_list=glob.glob('/content/drive/MyDrive/kitti/depth_map/*.png')\n",
        "clear_path_list.sort()\n",
        "depth_path_list.sort()"
      ],
      "execution_count": 32,
      "outputs": []
    },
    {
      "cell_type": "code",
      "metadata": {
        "id": "j-2bMc_74vbk"
      },
      "source": [
        "airlight=0.76\n",
        "beta_param=3.912"
      ],
      "execution_count": 33,
      "outputs": []
    },
    {
      "cell_type": "code",
      "metadata": {
        "id": "sTC9oYOw5AGA"
      },
      "source": [
        "A=np.zeros((1,1,3))\n",
        "A[0,0,:]=airlight;\n"
      ],
      "execution_count": 34,
      "outputs": []
    },
    {
      "cell_type": "code",
      "metadata": {
        "id": "ioRllfO95Phe"
      },
      "source": [
        "l=[5,10,15,20,25]\n",
        "visual_range=np.array(l,dtype=float)/1000\n",
        "#Rgb=PIL.Image.open('/content/drive/MyDrive/gen_test/orig0.png')\n",
        "#depth_map=PIL.Image.open('/content/drive/MyDrive/gen_test/depth0.png')"
      ],
      "execution_count": 35,
      "outputs": []
    },
    {
      "cell_type": "code",
      "metadata": {
        "id": "X45FySXu654W"
      },
      "source": [
        ""
      ],
      "execution_count": 37,
      "outputs": []
    },
    {
      "cell_type": "code",
      "metadata": {
        "id": "huYVh4XR_XZ0"
      },
      "source": [
        "def rescale_img(Rgb,depth_map):\n",
        "  I0=np.asarray(Rgb,dtype=float);\n",
        "  I0=(I0-I0.min())/(I0.max()-I0.min())\n",
        "  depth=np.asarray(depth_map,dtype=float);\n",
        "  depth=(depth-depth.min())/(depth.max()-depth.min())\n",
        "  d=depth/256;\n",
        "  return I0,d\n",
        "  \n",
        "def srgb2lrgb(I0):\n",
        "  I=np.power((I0+0.055)/1.055,2.4)\n",
        "  #I=np.where(I0<=0.04045,I0/12.92,I)\n",
        "  I[I0<=0.04045] = I0[I0<=0.04045]/12.92;\n",
        "  return I\n",
        "\n",
        "def lrgb2srgb(I1):\n",
        "  I2=np.zeros_like(I1);\n",
        "  for k in range(0,3):\n",
        "    temp=I1[:,:,k]\n",
        "    I2[:,:,k] = 12.92*temp*(temp<=0.0031308)+(1.055*np.power(temp,(1/2.4))-0.055)*(temp>0.0031308);\n",
        "  return I2"
      ],
      "execution_count": 38,
      "outputs": []
    },
    {
      "cell_type": "code",
      "metadata": {
        "id": "NBldebud5cNe"
      },
      "source": [
        "for i in range(len(clear_path_list)):\n",
        "  rgb=PIL.Image.open(clear_path_list[i])\n",
        "  depth_map=PIL.Image.open(depth_path_list[i])\n",
        "  (I0,d)=rescale_img(rgb,depth_map)\n",
        "  for VR in visual_range:\n",
        "    \n",
        "\n",
        "    I=srgb2lrgb(I0)\n",
        "    d[d==0] = 2*VR;\n",
        "    beta = [beta_param/VR,beta_param/VR,beta_param/VR];\n",
        "    beta = np.reshape(beta,(1,1,3));\n",
        "    transmission = np.exp(-beta*np.expand_dims(d,axis=-1));\n",
        "    #print(transmission.shape)\n",
        "    Ic = transmission*I+(1-transmission)*A;\n",
        "    I2 = lrgb2srgb(Ic);\n",
        "    plt.imsave(str(i)+'.png',I2)\n",
        "  break"
      ],
      "execution_count": 26,
      "outputs": []
    },
    {
      "cell_type": "code",
      "metadata": {
        "colab": {
          "base_uri": "https://localhost:8080/",
          "height": 166
        },
        "id": "XTJ3Zj0vusnN",
        "outputId": "6a37e5fd-f6e4-4cbd-c3ac-5cbdaa41c357"
      },
      "source": [
        "plt.imshow(transmission)"
      ],
      "execution_count": null,
      "outputs": [
        {
          "output_type": "execute_result",
          "data": {
            "text/plain": [
              "<matplotlib.image.AxesImage at 0x7fab88b84750>"
            ]
          },
          "metadata": {
            "tags": []
          },
          "execution_count": 133
        },
        {
          "output_type": "display_data",
          "data": {
            "image/png": "[encoded data removed]",
            "text/plain": [
              "<Figure size 432x288 with 1 Axes>"
            ]
          },
          "metadata": {
            "tags": [],
            "needs_background": "light"
          }
        }
      ]
    },
    {
      "cell_type": "code",
      "metadata": {
        "id": "iQYsjbfgB5Be"
      },
      "source": [
        ""
      ],
      "execution_count": null,
      "outputs": []
    },
    {
      "cell_type": "code",
      "metadata": {
        "colab": {
          "base_uri": "https://localhost:8080/"
        },
        "id": "1dVN3m8kGLzJ",
        "outputId": "2e3e6b4b-1b68-4a32-b241-05b94a656f8a"
      },
      "source": [
        ""
      ],
      "execution_count": null,
      "outputs": [
        {
          "output_type": "execute_result",
          "data": {
            "text/plain": [
              "array([[0.60921766, 0.57858212, 0.56427711, ..., 0.40066283, 0.40066283,\n",
              "        0.41164515],\n",
              "       [0.67393632, 0.60591142, 0.57148678, ..., 0.47107125, 0.4325873 ,\n",
              "        0.44260101],\n",
              "       [0.69380412, 0.63174362, 0.57504843, ..., 0.41700301, 0.38345809,\n",
              "        0.38345809],\n",
              "       ...,\n",
              "       [0.73664694, 0.73664694, 0.71026448, ..., 0.48009581, 0.48009581,\n",
              "        0.45234027],\n",
              "       [0.57148678, 0.61576193, 0.62221801, ..., 0.51830059, 0.53027134,\n",
              "        0.50177343],\n",
              "       [0.5532369 , 0.54190876, 0.51423166, ..., 0.54190876, 0.54190876,\n",
              "        0.52232949]])"
            ]
          },
          "metadata": {
            "tags": []
          },
          "execution_count": 123
        }
      ]
    },
    {
      "cell_type": "code",
      "metadata": {
        "colab": {
          "base_uri": "https://localhost:8080/"
        },
        "id": "ZZAS279kGnLq",
        "outputId": "b7f05c79-f723-451c-925b-5e749a2e5078"
      },
      "source": [
        "I[88,341,0]"
      ],
      "execution_count": null,
      "outputs": [
        {
          "output_type": "execute_result",
          "data": {
            "text/plain": [
              "0.00972121732023785"
            ]
          },
          "metadata": {
            "tags": []
          },
          "execution_count": 121
        }
      ]
    },
    {
      "cell_type": "code",
      "metadata": {
        "colab": {
          "base_uri": "https://localhost:8080/"
        },
        "id": "a2cEMA1nKIbt",
        "outputId": "24a1f086-df25-4082-bbe8-9d1070529309"
      },
      "source": [
        "mask"
      ],
      "execution_count": null,
      "outputs": [
        {
          "output_type": "execute_result",
          "data": {
            "text/plain": [
              "(array([  0,   0,   0, ..., 351, 351, 351]),\n",
              " array([   0,    0,    0, ..., 1215, 1215, 1215]),\n",
              " array([0, 1, 2, ..., 0, 1, 2]))"
            ]
          },
          "metadata": {
            "tags": []
          },
          "execution_count": 42
        }
      ]
    },
    {
      "cell_type": "code",
      "metadata": {
        "id": "Sm0W-xXUO_3U"
      },
      "source": [
        "I[I0<=0.04045] = I0[I0<=0.04045]/12.92;"
      ],
      "execution_count": null,
      "outputs": []
    },
    {
      "cell_type": "code",
      "metadata": {
        "id": "H6ggZQAfPVF5"
      },
      "source": [
        "j=np.array([[1,3,5,2,8,7],[1,3,5,2,8,7]])"
      ],
      "execution_count": null,
      "outputs": []
    },
    {
      "cell_type": "code",
      "metadata": {
        "colab": {
          "base_uri": "https://localhost:8080/"
        },
        "id": "fswrlzurQPPD",
        "outputId": "ec74ef9d-6d62-4721-f94a-acbee672aeae"
      },
      "source": [
        "j[j<3]"
      ],
      "execution_count": null,
      "outputs": [
        {
          "output_type": "execute_result",
          "data": {
            "text/plain": [
              "array([1, 2, 1, 2])"
            ]
          },
          "metadata": {
            "tags": []
          },
          "execution_count": 67
        }
      ]
    },
    {
      "cell_type": "code",
      "metadata": {
        "colab": {
          "base_uri": "https://localhost:8080/"
        },
        "id": "99ukLs0pQmv1",
        "outputId": "16c2c096-314e-43e2-ce2d-46b541eb9d35"
      },
      "source": [
        "np.where(I0<0.045)[2].shape"
      ],
      "execution_count": null,
      "outputs": [
        {
          "output_type": "execute_result",
          "data": {
            "text/plain": [
              "(9147,)"
            ]
          },
          "metadata": {
            "tags": []
          },
          "execution_count": 62
        }
      ]
    },
    {
      "cell_type": "code",
      "metadata": {
        "colab": {
          "base_uri": "https://localhost:8080/"
        },
        "id": "uQo8Fi6_QuJ8",
        "outputId": "1b6cf858-0267-41da-877e-0eb01ce8a09f"
      },
      "source": [
        "I0[0,75,2]"
      ],
      "execution_count": null,
      "outputs": [
        {
          "output_type": "execute_result",
          "data": {
            "text/plain": [
              "0.00784313725490196"
            ]
          },
          "metadata": {
            "tags": []
          },
          "execution_count": 52
        }
      ]
    },
    {
      "cell_type": "code",
      "metadata": {
        "colab": {
          "base_uri": "https://localhost:8080/"
        },
        "id": "bh4eBt6MQzMh",
        "outputId": "bb475b61-ba16-46fa-d86f-6a86edcc8853"
      },
      "source": [
        "np.where(I0<0.04,I0/12.92,I)"
      ],
      "execution_count": null,
      "outputs": [
        {
          "output_type": "execute_result",
          "data": {
            "text/plain": [
              "array([[[1.        , 1.        , 1.        ],\n",
              "        [1.        , 1.        , 1.        ],\n",
              "        [1.        , 1.        , 1.        ],\n",
              "        ...,\n",
              "        [0.        , 0.        , 0.        ],\n",
              "        [0.        , 0.        , 0.00151763],\n",
              "        [0.        , 0.        , 0.        ]],\n",
              "\n",
              "       [[1.        , 1.        , 1.        ],\n",
              "        [1.        , 1.        , 1.        ],\n",
              "        [1.        , 1.        , 1.        ],\n",
              "        ...,\n",
              "        [0.        , 0.        , 0.        ],\n",
              "        [0.        , 0.        , 0.        ],\n",
              "        [0.        , 0.        , 0.        ]],\n",
              "\n",
              "       [[1.        , 1.        , 1.        ],\n",
              "        [1.        , 1.        , 1.        ],\n",
              "        [1.        , 1.        , 1.        ],\n",
              "        ...,\n",
              "        [0.        , 0.        , 0.        ],\n",
              "        [0.        , 0.        , 0.        ],\n",
              "        [0.        , 0.        , 0.        ]],\n",
              "\n",
              "       ...,\n",
              "\n",
              "       [[1.        , 1.        , 1.        ],\n",
              "        [1.        , 1.        , 1.        ],\n",
              "        [1.        , 1.        , 1.        ],\n",
              "        ...,\n",
              "        [0.        , 0.        , 0.        ],\n",
              "        [0.        , 0.        , 0.        ],\n",
              "        [0.        , 0.        , 0.        ]],\n",
              "\n",
              "       [[1.        , 1.        , 1.        ],\n",
              "        [1.        , 1.        , 1.        ],\n",
              "        [1.        , 1.        , 1.        ],\n",
              "        ...,\n",
              "        [1.        , 1.        , 0.        ],\n",
              "        [1.        , 0.        , 0.        ],\n",
              "        [1.        , 0.        , 0.        ]],\n",
              "\n",
              "       [[1.        , 1.        , 1.        ],\n",
              "        [1.        , 1.        , 1.        ],\n",
              "        [1.        , 1.        , 1.        ],\n",
              "        ...,\n",
              "        [1.        , 1.        , 1.        ],\n",
              "        [1.        , 1.        , 1.        ],\n",
              "        [1.        , 1.        , 1.        ]]])"
            ]
          },
          "metadata": {
            "tags": []
          },
          "execution_count": 79
        }
      ]
    },
    {
      "cell_type": "code",
      "metadata": {
        "id": "nrdlBis2Rk9-"
      },
      "source": [
        ""
      ],
      "execution_count": null,
      "outputs": []
    }
  ]
}