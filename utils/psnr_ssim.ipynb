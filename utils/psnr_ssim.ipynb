{
  "nbformat": 4,
  "nbformat_minor": 0,
  "metadata": {
    "colab": {
      "name": "psnr_ssim.ipynb",
      "provenance": []
    },
    "kernelspec": {
      "name": "python3",
      "display_name": "Python 3"
    }
  },
  "cells": [
    {
      "cell_type": "code",
      "metadata": {
        "colab": {
          "base_uri": "https://localhost:8080/"
        },
        "id": "S-_3FVEKmTW0",
        "outputId": "600701c0-f9bf-442b-97a5-aa494ca3340c"
      },
      "source": [
        ""
      ],
      "execution_count": null,
      "outputs": [
        {
          "output_type": "stream",
          "text": [
            "\u001b[31mERROR: Could not find a version that satisfies the requirement skimage.measure (from versions: none)\u001b[0m\n",
            "\u001b[31mERROR: No matching distribution found for skimage.measure\u001b[0m\n"
          ],
          "name": "stdout"
        }
      ]
    },
    {
      "cell_type": "code",
      "metadata": {
        "id": "N7B-mF7haKPw"
      },
      "source": [
        "import glob\n",
        "import numpy as np\n",
        "from math import log10, sqrt\n",
        "import os\n",
        "import cv2\n",
        "import tensorflow as tf\n",
        "from skimage.metrics import structural_similarity as ssim"
      ],
      "execution_count": 1,
      "outputs": []
    },
    {
      "cell_type": "code",
      "metadata": {
        "colab": {
          "base_uri": "https://localhost:8080/"
        },
        "id": "Q3U05i0UaeWh",
        "outputId": "df597ab9-2bb7-442a-d29d-61abcb781414"
      },
      "source": [
        "from google.colab import drive\n",
        "drive.mount('/content/drive')"
      ],
      "execution_count": 2,
      "outputs": [
        {
          "output_type": "stream",
          "text": [
            "Mounted at /content/drive\n"
          ],
          "name": "stdout"
        }
      ]
    },
    {
      "cell_type": "code",
      "metadata": {
        "id": "kQ1ybHWkae-_"
      },
      "source": [
        "orig_img_path='/content/drive/MyDrive/ohaze/GT'\n",
        "orig_img = glob.glob(orig_img_path + '/*.jpg')\n",
        "orig_img.sort()\n",
        "test_img_path='/content/drive/MyDrive/ohaze/hazy'\n",
        "test_img = glob.glob(test_img_path + '/*.jpg')\n",
        "test_img.sort()"
      ],
      "execution_count": null,
      "outputs": []
    },
    {
      "cell_type": "code",
      "metadata": {
        "colab": {
          "base_uri": "https://localhost:8080/"
        },
        "id": "-ere52HMa6Qq",
        "outputId": "b13ad31a-a04f-45b1-b87c-7ffd5944ce8d"
      },
      "source": [
        ""
      ],
      "execution_count": null,
      "outputs": [
        {
          "output_type": "stream",
          "text": [
            "0 1 2 3 4 5 6 7 8 9 10 11 12 13 14 15 16 17 18 19 20 21 22 23 24 25 26 27 28 29 30 31 32 33 34 35 36 37 38 39 40 41 42 43 44 "
          ],
          "name": "stdout"
        }
      ]
    },
    {
      "cell_type": "code",
      "metadata": {
        "id": "VemrnCSoa_eW"
      },
      "source": [
        "def msee(imageA, imageB):\n",
        "\t# the 'Mean Squared Error' between the two images is the\n",
        "\t# sum of the squared difference between the two images;\n",
        "\t# NOTE: the two images must have the same dimension\n",
        "\terr = np.sum((imageA.astype(\"float\") - imageB.astype(\"float\")) ** 2)\n",
        "\terr /= float(imageA.shape[0] * imageA.shape[1])\n",
        "\t\n",
        "\t# return the MSE, the lower the error, the more \"similar\"\n",
        "\t# the two images are\n",
        "\treturn err\n",
        "def compare_images(imageA, imageB):\n",
        "  # compute the mean squared error and structural similarity\n",
        "  # index for the images\n",
        "  m = msee(imageA, imageB)\n",
        "  s = ssim(imageA, imageB,multichannel=True)\n",
        "  return s\n",
        "  #s=tf.image.ssim(imageA, imageB, max_val=255, filter_size=11,filter_sigma=1.5, k1=0.01, k2=0.03)\n",
        "def find_psnr(imageA,imageB):\n",
        "   return cv2.PSNR(imageA,imageB)\n",
        "  "
      ],
      "execution_count": 3,
      "outputs": []
    },
    {
      "cell_type": "code",
      "metadata": {
        "id": "dyP62EvLbBwU"
      },
      "source": [
        ""
      ],
      "execution_count": 3,
      "outputs": []
    },
    {
      "cell_type": "code",
      "metadata": {
        "id": "jeIb6Bkcr8MK"
      },
      "source": [
        "orig_img_path='/content/drive/MyDrive/test_set/ground_truth/'\n",
        "orig_img = glob.glob(orig_img_path + '/*.png')\n",
        "orig_img.sort()\n",
        "#test_img_path='/content/drive/MyDrive/Final_compare/HAZY'\n",
        "#test_img_path='/content/drive/MyDrive/Test/dcp'\n",
        "#test_img_path='/content/drive/MyDrive/Test/gman'\n",
        "test_img_path='/content/drive/MyDrive/test_set/lca'\n",
        "#test_img_path='/content/drive/MyDrive/Test/Lca'\n",
        "test_img = glob.glob(test_img_path + '/*.png')\n",
        "test_img.sort()"
      ],
      "execution_count": 8,
      "outputs": []
    },
    {
      "cell_type": "code",
      "metadata": {
        "colab": {
          "base_uri": "https://localhost:8080/"
        },
        "id": "H4ULFEjUdlfg",
        "outputId": "9d7ecf26-f118-48a4-f705-17c35ab330fc"
      },
      "source": [
        "psnr_val=0;ssim_val=0;\n",
        "n=len(orig_img)\n",
        "for i in range(len(orig_img)):\n",
        "  os.chdir(orig_img_path)\n",
        "  original = cv2.imread(orig_img[i]) \n",
        "  #original=tf.image.resize_with_crop_or_pad(original, 400, 520)\n",
        "  original = original[4:-4,4:-4]\n",
        "  os.chdir(test_img_path)\n",
        "  hazy = cv2.imread(test_img[i]) \n",
        "  #hazy=tf.image.resize_with_crop_or_pad(hazy, 400, 520)\n",
        "  hazy=hazy[4:-4,4:-4]\n",
        "  psnr_val+=find_psnr(original, hazy)\n",
        "  ssim_val+=compare_images(original, hazy)\n",
        "  print(i,end=\" \")\n",
        "total_psnr=psnr_val/n\n",
        "total_ssim=ssim_val/n\n",
        "print(\"\\n psnr=\",total_psnr)\n",
        "print(\"ssim=\",total_ssim)\n",
        "   "
      ],
      "execution_count": 9,
      "outputs": [
        {
          "output_type": "stream",
          "text": [
            "0 1 2 3 4 5 6 7 8 9 10 11 12 13 14 15 16 17 18 19 20 21 22 23 24 25 26 27 28 29 30 31 32 33 34 35 36 37 38 39 40 41 42 43 44 45 46 47 48 49 50 51 52 53 54 55 56 57 58 59 60 61 62 63 64 65 66 67 68 69 70 71 72 73 74 75 76 77 \n",
            " psnr= 18.32141709129419\n",
            "ssim= 0.6962938753709497\n"
          ],
          "name": "stdout"
        }
      ]
    },
    {
      "cell_type": "code",
      "metadata": {
        "id": "rl7i-qRaoLPa"
      },
      "source": [
        "i=cv2.imread(test_img[0])"
      ],
      "execution_count": null,
      "outputs": []
    },
    {
      "cell_type": "code",
      "metadata": {
        "colab": {
          "base_uri": "https://localhost:8080/"
        },
        "id": "gaRScm5MvNaH",
        "outputId": "a96a9bc3-b5c4-46ce-9bcf-e2c2363978b6"
      },
      "source": [
        "i.shape"
      ],
      "execution_count": null,
      "outputs": [
        {
          "output_type": "execute_result",
          "data": {
            "text/plain": [
              "(512, 512, 3)"
            ]
          },
          "metadata": {
            "tags": []
          },
          "execution_count": 92
        }
      ]
    },
    {
      "cell_type": "code",
      "metadata": {
        "id": "0zir_P2mvSa9"
      },
      "source": [
        ""
      ],
      "execution_count": null,
      "outputs": []
    }
  ]
}